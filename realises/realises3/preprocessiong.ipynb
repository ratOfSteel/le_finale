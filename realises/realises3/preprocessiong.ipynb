{
 "cells": [
  {
   "cell_type": "markdown",
   "metadata": {},
   "source": [
    "## Подключаем основные библиотеки"
   ]
  },
  {
   "cell_type": "code",
   "execution_count": 1,
   "metadata": {},
   "outputs": [],
   "source": [
    "import pandas as pd\n",
    "import numpy as np"
   ]
  },
  {
   "cell_type": "markdown",
   "metadata": {},
   "source": [
    "Загружаем датасет из предыдущего релиза"
   ]
  },
  {
   "cell_type": "code",
   "execution_count": 2,
   "metadata": {},
   "outputs": [],
   "source": [
    "msk = pd.read_csv('../realises2/data.csv')"
   ]
  },
  {
   "cell_type": "code",
   "execution_count": 3,
   "metadata": {},
   "outputs": [
    {
     "data": {
      "text/html": [
       "<div>\n",
       "<style scoped>\n",
       "    .dataframe tbody tr th:only-of-type {\n",
       "        vertical-align: middle;\n",
       "    }\n",
       "\n",
       "    .dataframe tbody tr th {\n",
       "        vertical-align: top;\n",
       "    }\n",
       "\n",
       "    .dataframe thead th {\n",
       "        text-align: right;\n",
       "    }\n",
       "</style>\n",
       "<table border=\"1\" class=\"dataframe\">\n",
       "  <thead>\n",
       "    <tr style=\"text-align: right;\">\n",
       "      <th></th>\n",
       "      <th>id</th>\n",
       "      <th>number_of_rooms</th>\n",
       "      <th>metro</th>\n",
       "      <th>adress</th>\n",
       "      <th>apartment_area</th>\n",
       "      <th>house</th>\n",
       "      <th>parking</th>\n",
       "      <th>price_per_month</th>\n",
       "      <th>repair</th>\n",
       "      <th>balcony</th>\n",
       "      <th>windows</th>\n",
       "      <th>bathroom</th>\n",
       "      <th>child_or_animals</th>\n",
       "      <th>ceiling_height</th>\n",
       "      <th>elevator</th>\n",
       "      <th>garbage_chute</th>\n",
       "    </tr>\n",
       "  </thead>\n",
       "  <tbody>\n",
       "    <tr>\n",
       "      <th>0</th>\n",
       "      <td>271271157</td>\n",
       "      <td>4</td>\n",
       "      <td>Рядом</td>\n",
       "      <td>Москва, улица Новый Арбат, 27</td>\n",
       "      <td>200</td>\n",
       "      <td>5/16, Монолитный</td>\n",
       "      <td>подземная</td>\n",
       "      <td>500000</td>\n",
       "      <td>Дизайнерский</td>\n",
       "      <td>Балкон (0), Лоджия (0)</td>\n",
       "      <td>Во двор</td>\n",
       "      <td>Совмещенный (1)</td>\n",
       "      <td>Можно с детьми, Можно с животными</td>\n",
       "      <td>3.0</td>\n",
       "      <td>Пасс (4), Груз (1)</td>\n",
       "      <td>Да</td>\n",
       "    </tr>\n",
       "  </tbody>\n",
       "</table>\n",
       "</div>"
      ],
      "text/plain": [
       "          id  number_of_rooms  metro                         adress  \\\n",
       "0  271271157                4  Рядом  Москва, улица Новый Арбат, 27   \n",
       "\n",
       "   apartment_area             house    parking  price_per_month        repair  \\\n",
       "0             200  5/16, Монолитный  подземная           500000  Дизайнерский   \n",
       "\n",
       "                   balcony  windows         bathroom  \\\n",
       "0  Балкон (0), Лоджия (0)   Во двор  Совмещенный (1)   \n",
       "\n",
       "                    child_or_animals  ceiling_height            elevator  \\\n",
       "0  Можно с детьми, Можно с животными             3.0  Пасс (4), Груз (1)   \n",
       "\n",
       "  garbage_chute  \n",
       "0            Да  "
      ]
     },
     "execution_count": 3,
     "metadata": {},
     "output_type": "execute_result"
    }
   ],
   "source": [
    "msk.head(1)"
   ]
  },
  {
   "cell_type": "markdown",
   "metadata": {},
   "source": [
    "Удаляем адрес, так как нет возможности перевести его в числовой вид. Была идея, но не было времени..."
   ]
  },
  {
   "cell_type": "code",
   "execution_count": 4,
   "metadata": {},
   "outputs": [],
   "source": [
    "msk.drop(['adress'], axis=1, inplace=True)"
   ]
  },
  {
   "cell_type": "markdown",
   "metadata": {},
   "source": [
    "Разделяем колонку ДОМ на 2. Одна - тип дома, сделал с помощью регекса, мне очень нравится)"
   ]
  },
  {
   "cell_type": "code",
   "execution_count": 5,
   "metadata": {},
   "outputs": [],
   "source": [
    "msk['house_type'] = msk['house'].str.extract(r',\\s*([\\w\\s]+)$')"
   ]
  },
  {
   "cell_type": "markdown",
   "metadata": {},
   "source": [
    "Вторая колонка - этажи. Тут, думаю, всё просто и понятно\n"
   ]
  },
  {
   "cell_type": "code",
   "execution_count": 6,
   "metadata": {},
   "outputs": [],
   "source": [
    "def floors(val):\n",
    "    part = val.split(',')\n",
    "    if len(part) > 0:\n",
    "        floor = part[0].strip()\n",
    "        if '/' in floor:\n",
    "            return floor\n",
    "    return 0\n",
    "\n",
    "msk['floor'] = msk['house'].apply(floors)"
   ]
  },
  {
   "cell_type": "markdown",
   "metadata": {},
   "source": [
    "Удаляем изначальную колонку, зачем она нам??"
   ]
  },
  {
   "cell_type": "code",
   "execution_count": 7,
   "metadata": {},
   "outputs": [],
   "source": [
    "msk.drop('house', axis=1, inplace=True)"
   ]
  },
  {
   "cell_type": "code",
   "execution_count": 8,
   "metadata": {},
   "outputs": [
    {
     "data": {
      "text/plain": [
       "np.int64(15894)"
      ]
     },
     "execution_count": 8,
     "metadata": {},
     "output_type": "execute_result"
    }
   ],
   "source": [
    "msk['house_type'].value_counts().sum()"
   ]
  },
  {
   "cell_type": "code",
   "execution_count": 9,
   "metadata": {},
   "outputs": [
    {
     "data": {
      "text/plain": [
       "floor\n",
       "3/5      524\n",
       "4/5      511\n",
       "2/5      481\n",
       "5/5      433\n",
       "5/9      393\n",
       "        ... \n",
       "10/29      1\n",
       "19/29      1\n",
       "7/29       1\n",
       "41/60      1\n",
       "25/42      1\n",
       "Name: count, Length: 884, dtype: int64"
      ]
     },
     "execution_count": 9,
     "metadata": {},
     "output_type": "execute_result"
    }
   ],
   "source": [
    "msk['floor'].value_counts()"
   ]
  },
  {
   "cell_type": "markdown",
   "metadata": {},
   "source": [
    "Переводим новые колонки в числовой вид. Идея какая, самые приятные для проживания этажи - те, что в середине. Отсюда и вывод, что для них нам нужно сделать что-то типа \"нормального распределения\". Ниже я написал эту функцию))) "
   ]
  },
  {
   "cell_type": "code",
   "execution_count": 10,
   "metadata": {},
   "outputs": [],
   "source": [
    "#преобразование floor к нормальному распределению. Чем центрее - тем лучше\n",
    "def floors_to_norma(val):\n",
    "    try:\n",
    "        curr, vsego = map(int, val.split('/'))\n",
    "        mid = vsego // 2\n",
    "\n",
    "        if abs(curr - mid) <= 1:\n",
    "            return 1\n",
    "        elif curr == 1 or curr == vsego:\n",
    "            return 0.2\n",
    "        else:\n",
    "            diff = abs(curr - mid)\n",
    "            return max(0.2, 1 - (diff/mid))\n",
    "    except ValueError:\n",
    "        return 0\n",
    "    \n",
    "msk['floor'] = msk['floor'].apply(floors_to_norma)"
   ]
  },
  {
   "cell_type": "markdown",
   "metadata": {},
   "source": [
    "Тут просто мапом переводим все полученные значения. Потом выяснится, что есть что-то ещё, их мы заполним просто средним значением"
   ]
  },
  {
   "cell_type": "code",
   "execution_count": 11,
   "metadata": {},
   "outputs": [],
   "source": [
    "house_type = {\n",
    "    'Панельный': 10,\n",
    "    'Кирпичный': 12,\n",
    "    'Монолитный': 9,\n",
    "    'Блочный': 8,\n",
    "    'Сталинский': 6,\n",
    "    'старый фонд': 2, \n",
    "    'Деревянный': 1,\n",
    "    'Щитовой': 1\n",
    "}\n",
    "\n",
    "msk['house_type'] = msk['house_type'].map(house_type)"
   ]
  },
  {
   "cell_type": "code",
   "execution_count": 12,
   "metadata": {},
   "outputs": [],
   "source": [
    "msk['house_type'] = msk['house_type'].fillna(4)"
   ]
  },
  {
   "cell_type": "code",
   "execution_count": 13,
   "metadata": {},
   "outputs": [
    {
     "data": {
      "text/plain": [
       "np.int64(0)"
      ]
     },
     "execution_count": 13,
     "metadata": {},
     "output_type": "execute_result"
    }
   ],
   "source": [
    "msk['house_type'].isna().sum()"
   ]
  },
  {
   "cell_type": "markdown",
   "metadata": {},
   "source": [
    "Смотрим, что у нас тут по лифтам. Задача - Разделить на 2 столбца (Грузовой и пассажирский) и в каждый занести значения из скобок. Если одного из лифтов нет - заполнить отсутствующее значение 0"
   ]
  },
  {
   "cell_type": "code",
   "execution_count": 14,
   "metadata": {},
   "outputs": [
    {
     "data": {
      "text/plain": [
       "elevator\n",
       "Пасс (1)               9057\n",
       "Пасс (2)               3997\n",
       "Пасс (1), Груз (1)     3431\n",
       "Пасс (2), Груз (1)     1091\n",
       "Пасс (2), Груз (2)      606\n",
       "Пасс (3)                545\n",
       "Пасс (4)                307\n",
       "Пасс (3), Груз (1)      170\n",
       "Пасс (1), Груз (2)      168\n",
       "Пасс (4), Груз (2)       60\n",
       "Груз (1)                 57\n",
       "Пасс (4), Груз (1)       55\n",
       "Пасс (3), Груз (3)       42\n",
       "Пасс (3), Груз (2)       36\n",
       "Груз (4)                 25\n",
       "Пасс (4), Груз (4)       23\n",
       "Груз (2)                 18\n",
       "Груз (3)                 15\n",
       "Пасс (4), Груз (3)        7\n",
       "Пасс (6)                  6\n",
       "Пасс (1), Груз (3)        5\n",
       "Пасс (60)                 2\n",
       "Пасс (2), Груз (3)        2\n",
       "Пасс (50)                 2\n",
       "Пасс (5), Груз (1)        1\n",
       "Пасс (1), Груз (12)       1\n",
       "Пасс (8), Груз (8)        1\n",
       "Пасс (7)                  1\n",
       "Пасс (1), Груз (4)        1\n",
       "Пасс (5), Груз (3)        1\n",
       "Пасс (2), Груз (4)        1\n",
       "Груз (6)                  1\n",
       "Груз (8)                  1\n",
       "Пасс (5)                  1\n",
       "Name: count, dtype: int64"
      ]
     },
     "execution_count": 14,
     "metadata": {},
     "output_type": "execute_result"
    }
   ],
   "source": [
    "msk['elevator'].value_counts()"
   ]
  },
  {
   "cell_type": "markdown",
   "metadata": {},
   "source": [
    "2 функции. Одна ищет и заполняет "
   ]
  },
  {
   "cell_type": "code",
   "execution_count": 15,
   "metadata": {},
   "outputs": [],
   "source": [
    "#Функция для пассажирских\n",
    "def passanger(val):\n",
    "    if val:\n",
    "        if 'Пасс' in val:\n",
    "            try:\n",
    "                return int(val.split('Пасс (')[1].split(')')[0])\n",
    "            except:\n",
    "                return 0\n",
    "    return 0\n",
    "\n",
    "def gruz(val):\n",
    "    if val:\n",
    "        if 'Груз' in val:\n",
    "            try:\n",
    "                return int(val.split('Груз (')[1].split(')')[0])\n",
    "            except:\n",
    "                return 0\n",
    "    return 0\n",
    "\n",
    "msk['elevator_pass'] = msk['elevator'].apply(passanger)\n",
    "msk['elevator_gruz'] = msk['elevator'].apply(gruz)"
   ]
  },
  {
   "cell_type": "markdown",
   "metadata": {},
   "source": [
    "Удаляем Колонку лифтов за ненадобностью"
   ]
  },
  {
   "cell_type": "code",
   "execution_count": 16,
   "metadata": {},
   "outputs": [],
   "source": [
    "msk.drop('elevator', axis=1, inplace=True)"
   ]
  },
  {
   "cell_type": "markdown",
   "metadata": {},
   "source": [
    "Меняем значения в \"Метро\" и \"мусоропроводе на числовые\""
   ]
  },
  {
   "cell_type": "code",
   "execution_count": 17,
   "metadata": {},
   "outputs": [],
   "source": [
    "msk['metro'] = msk['metro'].str.contains('Рядом').astype(int)\n",
    "msk['garbage_chute'] = msk['garbage_chute'].str.contains('Да').astype(int)"
   ]
  },
  {
   "cell_type": "markdown",
   "metadata": {},
   "source": [
    "Для парковочных мест придумываем численные значения\n"
   ]
  },
  {
   "cell_type": "code",
   "execution_count": 18,
   "metadata": {},
   "outputs": [],
   "source": [
    "mapping = {\n",
    "    'наземная': 1,\n",
    "    'подземная': 2,\n",
    "    'открытая': 3,\n",
    "    'многоуровневая': 4,\n",
    "    'на крыше': 5\n",
    "}\n",
    "\n",
    "msk['parking'] = msk['parking'].map(mapping)"
   ]
  },
  {
   "cell_type": "markdown",
   "metadata": {},
   "source": [
    "То же самое для ремонта. Без ремонта - плохо, а с ним уже лучше, но зависит от его типа"
   ]
  },
  {
   "cell_type": "code",
   "execution_count": 19,
   "metadata": {},
   "outputs": [],
   "source": [
    "repair_apart = {\n",
    "    'Без ремонта': 1,\n",
    "    'Косметический': 2,\n",
    "    'Евроремонт': 3,\n",
    "    'Дизайнерский': 4\n",
    "}\n",
    "msk['repair'] = msk['repair'].map(repair_apart)"
   ]
  },
  {
   "cell_type": "markdown",
   "metadata": {},
   "source": [
    "Также приводим к численному значению вид из окна. Мы решили, если во двор - то не очень хорошо, если на улицу, то лучше - допустим, там парк/лес/река и тд. Ну а если у нас сквозная квартира, то вообще отлично!"
   ]
  },
  {
   "cell_type": "code",
   "execution_count": 20,
   "metadata": {},
   "outputs": [],
   "source": [
    "map_dwor = {\n",
    "    'Во двор': 1,\n",
    "    'На улицу и двор': 3,\n",
    "    'На улицу': 2\n",
    "}\n",
    "msk['windows'] = msk['windows'].map(map_dwor)"
   ]
  },
  {
   "cell_type": "markdown",
   "metadata": {},
   "source": [
    "Переводим балконы в числа! \n"
   ]
  },
  {
   "cell_type": "code",
   "execution_count": 21,
   "metadata": {},
   "outputs": [],
   "source": [
    "def balkon(val):\n",
    "    if val:\n",
    "        if 'Балкон' in val:\n",
    "            try:\n",
    "                return int(val.split('Балкон (')[1].split(')')[0])\n",
    "            except:\n",
    "                return 0\n",
    "    return 0\n",
    "\n",
    "def lodg(val):\n",
    "    if val:\n",
    "        if 'Лоджия' in val:\n",
    "            try:\n",
    "                return int(val.split('Лоджия (')[1].split(')')[0])\n",
    "            except:\n",
    "                return 0\n",
    "    return 0\n",
    "\n",
    "msk['balkon'] = msk['balcony'].apply(balkon)\n",
    "msk['lodgy'] = msk['balcony'].apply(lodg)\n",
    "msk.drop('balcony', axis=1, inplace=True)"
   ]
  },
  {
   "cell_type": "markdown",
   "metadata": {},
   "source": [
    "И к нашим туалетам, конечно же!"
   ]
  },
  {
   "cell_type": "code",
   "execution_count": 22,
   "metadata": {},
   "outputs": [
    {
     "data": {
      "text/plain": [
       "bathroom\n",
       "Совмещенный (1)                    10541\n",
       "Раздельный (1)                      6139\n",
       "Совмещенный (2)                     1293\n",
       "Совмещенный (1), Раздельный (1)      730\n",
       "Раздельный (2)                       401\n",
       "Совмещенный (3)                      223\n",
       "Совмещенный (2), Раздельный (1)      179\n",
       "Совмещенный (4)                       74\n",
       "Раздельный (3)                        44\n",
       "Совмещенный (1), Раздельный (2)       28\n",
       "Совмещенный (3), Раздельный (1)       26\n",
       "Совмещенный (2), Раздельный (2)       22\n",
       "Раздельный (4)                        15\n",
       "Совмещенный (3), Раздельный (3)        6\n",
       "Совмещенный (4), Раздельный (1)        6\n",
       "Совмещенный (4), Раздельный (2)        4\n",
       "Совмещенный (1), Раздельный (3)        2\n",
       "Совмещенный (2), Раздельный (3)        2\n",
       "Совмещенный (2), Раздельный (4)        1\n",
       "Совмещенный (3), Раздельный (2)        1\n",
       "Name: count, dtype: int64"
      ]
     },
     "execution_count": 22,
     "metadata": {},
     "output_type": "execute_result"
    }
   ],
   "source": [
    "msk['bathroom'].value_counts()"
   ]
  },
  {
   "cell_type": "markdown",
   "metadata": {},
   "source": [
    "Делаем абсолютно то же самое, что и для балконов и лифтами"
   ]
  },
  {
   "cell_type": "code",
   "execution_count": 23,
   "metadata": {},
   "outputs": [],
   "source": [
    "def toilet(val):\n",
    "    if val:\n",
    "        if 'Совмещенный' in val:\n",
    "            try:\n",
    "                return int(val.split('Совмещенный (')[1].split(')')[0])\n",
    "            except:\n",
    "                return 0\n",
    "    return 0\n",
    "\n",
    "def vanna(val):\n",
    "    if val:\n",
    "        if 'Раздельный' in val:\n",
    "            try:\n",
    "                return int(val.split('Раздельный (')[1].split(')')[0])\n",
    "            except:\n",
    "                return 0\n",
    "    return 0\n",
    "\n",
    "msk['sovm'] = msk['bathroom'].apply(toilet)\n",
    "msk['razd'] = msk['bathroom'].apply(vanna)\n",
    "msk.drop('bathroom', axis=1, inplace=True)"
   ]
  },
  {
   "cell_type": "markdown",
   "metadata": {},
   "source": [
    "Изменяем значения для возможностей съема с кошкой/собакой"
   ]
  },
  {
   "cell_type": "code",
   "execution_count": 24,
   "metadata": {},
   "outputs": [],
   "source": [
    "msk['child_or_animals'].value_counts()\n",
    "\n",
    "map_child = {\n",
    "    'Можно с детьми': 1,\n",
    "    'Можно с детьми, Можно с животными': 3,\n",
    "    'Не указано': 0,\n",
    "    'Можно с животными': 2\n",
    "}\n",
    "msk['child_or_animals'] = msk['child_or_animals'].map(map_child)"
   ]
  },
  {
   "cell_type": "markdown",
   "metadata": {},
   "source": [
    "Делаем таргет"
   ]
  },
  {
   "cell_type": "code",
   "execution_count": 25,
   "metadata": {},
   "outputs": [],
   "source": [
    "msk['target'] = msk['price_per_month'].copy()\n",
    "msk.drop(columns=['price_per_month'], axis=1, inplace=True)"
   ]
  },
  {
   "cell_type": "markdown",
   "metadata": {},
   "source": [
    "Смотрим данные"
   ]
  },
  {
   "cell_type": "code",
   "execution_count": null,
   "metadata": {},
   "outputs": [
    {
     "data": {
      "text/html": [
       "<div>\n",
       "<style scoped>\n",
       "    .dataframe tbody tr th:only-of-type {\n",
       "        vertical-align: middle;\n",
       "    }\n",
       "\n",
       "    .dataframe tbody tr th {\n",
       "        vertical-align: top;\n",
       "    }\n",
       "\n",
       "    .dataframe thead th {\n",
       "        text-align: right;\n",
       "    }\n",
       "</style>\n",
       "<table border=\"1\" class=\"dataframe\">\n",
       "  <thead>\n",
       "    <tr style=\"text-align: right;\">\n",
       "      <th></th>\n",
       "      <th>id</th>\n",
       "      <th>number_of_rooms</th>\n",
       "      <th>metro</th>\n",
       "      <th>apartment_area</th>\n",
       "      <th>parking</th>\n",
       "      <th>repair</th>\n",
       "      <th>windows</th>\n",
       "      <th>child_or_animals</th>\n",
       "      <th>ceiling_height</th>\n",
       "      <th>garbage_chute</th>\n",
       "      <th>house_type</th>\n",
       "      <th>floor</th>\n",
       "      <th>elevator_pass</th>\n",
       "      <th>elevator_gruz</th>\n",
       "      <th>balkon</th>\n",
       "      <th>lodgy</th>\n",
       "      <th>sovm</th>\n",
       "      <th>razd</th>\n",
       "      <th>target</th>\n",
       "    </tr>\n",
       "  </thead>\n",
       "  <tbody>\n",
       "    <tr>\n",
       "      <th>0</th>\n",
       "      <td>271271157</td>\n",
       "      <td>4</td>\n",
       "      <td>1</td>\n",
       "      <td>200</td>\n",
       "      <td>2</td>\n",
       "      <td>4</td>\n",
       "      <td>1</td>\n",
       "      <td>3</td>\n",
       "      <td>3.0</td>\n",
       "      <td>1</td>\n",
       "      <td>9.0</td>\n",
       "      <td>0.625</td>\n",
       "      <td>4</td>\n",
       "      <td>1</td>\n",
       "      <td>0</td>\n",
       "      <td>0</td>\n",
       "      <td>1</td>\n",
       "      <td>0</td>\n",
       "      <td>500000</td>\n",
       "    </tr>\n",
       "  </tbody>\n",
       "</table>\n",
       "</div>"
      ],
      "text/plain": [
       "          id  number_of_rooms  metro  apartment_area  parking  repair  \\\n",
       "0  271271157                4      1             200        2       4   \n",
       "\n",
       "   windows  child_or_animals  ceiling_height  garbage_chute  house_type  \\\n",
       "0        1                 3             3.0              1         9.0   \n",
       "\n",
       "   floor  elevator_pass  elevator_gruz  balkon  lodgy  sovm  razd  target  \n",
       "0  0.625              4              1       0      0     1     0  500000  "
      ]
     },
     "execution_count": 26,
     "metadata": {},
     "output_type": "execute_result"
    }
   ],
   "source": [
    "msk.head(10)"
   ]
  },
  {
   "cell_type": "markdown",
   "metadata": {},
   "source": [
    "Проверяем на наличие пропусков (ЧТОБЫ ТОЧНО)"
   ]
  },
  {
   "cell_type": "code",
   "execution_count": 31,
   "metadata": {},
   "outputs": [
    {
     "data": {
      "text/plain": [
       "id                  0\n",
       "number_of_rooms     0\n",
       "metro               0\n",
       "apartment_area      0\n",
       "parking             0\n",
       "repair              0\n",
       "windows             0\n",
       "child_or_animals    0\n",
       "ceiling_height      0\n",
       "garbage_chute       0\n",
       "house_type          0\n",
       "floor               0\n",
       "elevator_pass       0\n",
       "elevator_gruz       0\n",
       "balkon              0\n",
       "lodgy               0\n",
       "sovm                0\n",
       "razd                0\n",
       "target              0\n",
       "dtype: int64"
      ]
     },
     "execution_count": 31,
     "metadata": {},
     "output_type": "execute_result"
    }
   ],
   "source": [
    "msk.isna().sum()\n"
   ]
  },
  {
   "cell_type": "markdown",
   "metadata": {},
   "source": [
    "Удаляем дубликаты"
   ]
  },
  {
   "cell_type": "code",
   "execution_count": 28,
   "metadata": {},
   "outputs": [],
   "source": [
    "msk = msk.drop_duplicates()"
   ]
  },
  {
   "cell_type": "markdown",
   "metadata": {},
   "source": [
    "Выгружаем в файл"
   ]
  },
  {
   "cell_type": "code",
   "execution_count": 30,
   "metadata": {},
   "outputs": [],
   "source": [
    "msk.to_csv('pylions.csv', index=False, encoding='utf-8')"
   ]
  }
 ],
 "metadata": {
  "kernelspec": {
   "display_name": "base",
   "language": "python",
   "name": "python3"
  },
  "language_info": {
   "codemirror_mode": {
    "name": "ipython",
    "version": 3
   },
   "file_extension": ".py",
   "mimetype": "text/x-python",
   "name": "python",
   "nbconvert_exporter": "python",
   "pygments_lexer": "ipython3",
   "version": "3.12.7"
  }
 },
 "nbformat": 4,
 "nbformat_minor": 2
}
