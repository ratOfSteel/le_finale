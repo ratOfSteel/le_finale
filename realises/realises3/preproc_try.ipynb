{
 "cells": [
  {
   "cell_type": "code",
   "execution_count": 5,
   "metadata": {},
   "outputs": [],
   "source": [
    "import pandas as pd\n",
    "import numpy as np"
   ]
  },
  {
   "cell_type": "code",
   "execution_count": 6,
   "metadata": {},
   "outputs": [],
   "source": [
    "msk = pd.read_csv('../realises2/data.csv')"
   ]
  },
  {
   "cell_type": "code",
   "execution_count": 7,
   "metadata": {},
   "outputs": [
    {
     "data": {
      "text/html": [
       "<div>\n",
       "<style scoped>\n",
       "    .dataframe tbody tr th:only-of-type {\n",
       "        vertical-align: middle;\n",
       "    }\n",
       "\n",
       "    .dataframe tbody tr th {\n",
       "        vertical-align: top;\n",
       "    }\n",
       "\n",
       "    .dataframe thead th {\n",
       "        text-align: right;\n",
       "    }\n",
       "</style>\n",
       "<table border=\"1\" class=\"dataframe\">\n",
       "  <thead>\n",
       "    <tr style=\"text-align: right;\">\n",
       "      <th></th>\n",
       "      <th>id</th>\n",
       "      <th>number_of_rooms</th>\n",
       "      <th>metro</th>\n",
       "      <th>adress</th>\n",
       "      <th>apartment_area</th>\n",
       "      <th>house</th>\n",
       "      <th>parking</th>\n",
       "      <th>price_per_month</th>\n",
       "      <th>repair</th>\n",
       "      <th>balcony</th>\n",
       "      <th>windows</th>\n",
       "      <th>bathroom</th>\n",
       "      <th>child_or_animals</th>\n",
       "      <th>ceiling_height</th>\n",
       "      <th>elevator</th>\n",
       "      <th>garbage_chute</th>\n",
       "    </tr>\n",
       "  </thead>\n",
       "  <tbody>\n",
       "    <tr>\n",
       "      <th>0</th>\n",
       "      <td>271271157</td>\n",
       "      <td>4</td>\n",
       "      <td>Рядом</td>\n",
       "      <td>Москва, улица Новый Арбат, 27</td>\n",
       "      <td>200</td>\n",
       "      <td>5/16, Монолитный</td>\n",
       "      <td>подземная</td>\n",
       "      <td>500000</td>\n",
       "      <td>Дизайнерский</td>\n",
       "      <td>Балкон (0), Лоджия (0)</td>\n",
       "      <td>Во двор</td>\n",
       "      <td>Совмещенный (1)</td>\n",
       "      <td>Можно с детьми, Можно с животными</td>\n",
       "      <td>3.0</td>\n",
       "      <td>Пасс (4), Груз (1)</td>\n",
       "      <td>Да</td>\n",
       "    </tr>\n",
       "  </tbody>\n",
       "</table>\n",
       "</div>"
      ],
      "text/plain": [
       "          id  number_of_rooms  metro                         adress  \\\n",
       "0  271271157                4  Рядом  Москва, улица Новый Арбат, 27   \n",
       "\n",
       "   apartment_area             house    parking  price_per_month        repair  \\\n",
       "0             200  5/16, Монолитный  подземная           500000  Дизайнерский   \n",
       "\n",
       "                   balcony  windows         bathroom  \\\n",
       "0  Балкон (0), Лоджия (0)   Во двор  Совмещенный (1)   \n",
       "\n",
       "                    child_or_animals  ceiling_height            elevator  \\\n",
       "0  Можно с детьми, Можно с животными             3.0  Пасс (4), Груз (1)   \n",
       "\n",
       "  garbage_chute  \n",
       "0            Да  "
      ]
     },
     "execution_count": 7,
     "metadata": {},
     "output_type": "execute_result"
    }
   ],
   "source": [
    "msk.head(1)"
   ]
  },
  {
   "cell_type": "code",
   "execution_count": 23,
   "metadata": {},
   "outputs": [],
   "source": [
    "msk.drop(['adress'], axis=1, inplace=True)"
   ]
  },
  {
   "cell_type": "code",
   "execution_count": null,
   "metadata": {},
   "outputs": [],
   "source": [
    "msk['house_type'] = msk['house'].str.extract(r',\\s*([\\w\\s]+)$')"
   ]
  },
  {
   "cell_type": "code",
   "execution_count": 24,
   "metadata": {},
   "outputs": [],
   "source": [
    "def floors(val):\n",
    "    part = val.split(',')\n",
    "    if len(part) > 0:\n",
    "        floor = part[0].strip()\n",
    "        if '/' in floor:\n",
    "            return floor\n",
    "    return 0\n",
    "\n",
    "msk['floor'] = msk['house'].apply(floors)"
   ]
  },
  {
   "cell_type": "code",
   "execution_count": 27,
   "metadata": {},
   "outputs": [],
   "source": [
    "msk.drop('house', axis=1, inplace=True)"
   ]
  },
  {
   "cell_type": "code",
   "execution_count": 29,
   "metadata": {},
   "outputs": [
    {
     "data": {
      "text/plain": [
       "house_type\n",
       "Панельный      6679\n",
       "Кирпичный      3696\n",
       "Монолитный     3615\n",
       "Блочный        1689\n",
       "Сталинский      141\n",
       "старый фонд      68\n",
       "Деревянный        5\n",
       "Щитовой           1\n",
       "Name: count, dtype: int64"
      ]
     },
     "execution_count": 29,
     "metadata": {},
     "output_type": "execute_result"
    }
   ],
   "source": [
    "msk['house_type'].value_counts()"
   ]
  },
  {
   "cell_type": "code",
   "execution_count": 28,
   "metadata": {},
   "outputs": [
    {
     "data": {
      "text/plain": [
       "floor\n",
       "3/5      524\n",
       "4/5      511\n",
       "2/5      481\n",
       "5/5      433\n",
       "5/9      393\n",
       "        ... \n",
       "10/29      1\n",
       "19/29      1\n",
       "7/29       1\n",
       "41/60      1\n",
       "25/42      1\n",
       "Name: count, Length: 884, dtype: int64"
      ]
     },
     "execution_count": 28,
     "metadata": {},
     "output_type": "execute_result"
    }
   ],
   "source": [
    "msk['floor'].value_counts()"
   ]
  },
  {
   "cell_type": "code",
   "execution_count": 30,
   "metadata": {},
   "outputs": [],
   "source": [
    "#преобразование floors к нормальному распределению. Чем центрее - тем лучше\n",
    "def floors_to_norma(val):\n",
    "    try:\n",
    "        curr, vsego = map(int, val.split('/'))\n",
    "        mid = vsego // 2\n",
    "\n",
    "        if abs(curr - mid) <= 1:\n",
    "            return 1\n",
    "        elif curr == 1 or curr == vsego:\n",
    "            return 0.2\n",
    "        else:\n",
    "            diff = abs(curr - mid)\n",
    "            return max(0.2, 1 - (diff/mid))\n",
    "    except ValueError:\n",
    "        return 0\n",
    "    \n",
    "msk['floor'] = msk['floor'].apply(floors_to_norma)"
   ]
  },
  {
   "cell_type": "code",
   "execution_count": 31,
   "metadata": {},
   "outputs": [],
   "source": [
    "house_type = {\n",
    "    'Панельный': 10,\n",
    "    'Кирпичный': 12,\n",
    "    'Монолитный': 9,\n",
    "    'Блочный': 8,\n",
    "    'Сталинский': 6,\n",
    "    'старый фонд': 2, \n",
    "    'Деревянный': 1,\n",
    "    'Щитовой': 1\n",
    "}\n",
    "\n",
    "msk['house_type'] = msk['house_type'].map(house_type)"
   ]
  },
  {
   "cell_type": "code",
   "execution_count": 32,
   "metadata": {},
   "outputs": [
    {
     "data": {
      "text/plain": [
       "elevator\n",
       "Пасс (1)               9057\n",
       "Пасс (2)               3997\n",
       "Пасс (1), Груз (1)     3431\n",
       "Пасс (2), Груз (1)     1091\n",
       "Пасс (2), Груз (2)      606\n",
       "Пасс (3)                545\n",
       "Пасс (4)                307\n",
       "Пасс (3), Груз (1)      170\n",
       "Пасс (1), Груз (2)      168\n",
       "Пасс (4), Груз (2)       60\n",
       "Груз (1)                 57\n",
       "Пасс (4), Груз (1)       55\n",
       "Пасс (3), Груз (3)       42\n",
       "Пасс (3), Груз (2)       36\n",
       "Груз (4)                 25\n",
       "Пасс (4), Груз (4)       23\n",
       "Груз (2)                 18\n",
       "Груз (3)                 15\n",
       "Пасс (4), Груз (3)        7\n",
       "Пасс (6)                  6\n",
       "Пасс (1), Груз (3)        5\n",
       "Пасс (60)                 2\n",
       "Пасс (2), Груз (3)        2\n",
       "Пасс (50)                 2\n",
       "Пасс (5), Груз (1)        1\n",
       "Пасс (1), Груз (12)       1\n",
       "Пасс (8), Груз (8)        1\n",
       "Пасс (7)                  1\n",
       "Пасс (1), Груз (4)        1\n",
       "Пасс (5), Груз (3)        1\n",
       "Пасс (2), Груз (4)        1\n",
       "Груз (6)                  1\n",
       "Груз (8)                  1\n",
       "Пасс (5)                  1\n",
       "Name: count, dtype: int64"
      ]
     },
     "execution_count": 32,
     "metadata": {},
     "output_type": "execute_result"
    }
   ],
   "source": [
    "msk['elevator'].value_counts()"
   ]
  },
  {
   "cell_type": "code",
   "execution_count": 38,
   "metadata": {},
   "outputs": [],
   "source": [
    "#Функция для пассажирских\n",
    "def passanger(val):\n",
    "    if val:\n",
    "        parts = [part for part in val.replace(',','').split() if part.startswith('Пасс')]\n",
    "        if parts:\n",
    "            try:\n",
    "                return int(parts[0].split('(')[1].strip(')'))\n",
    "            except:\n",
    "                return 0\n",
    "    return 0\n",
    "\n",
    "    return 0\n",
    "\n",
    "def gruz(val):\n",
    "    if val:\n",
    "        parts = [part for part in val.replace(',','').split() if part.startswith('Груз')]\n",
    "        if parts:\n",
    "            try:\n",
    "                return int(parts[0].split('(')[1].strip(')'))\n",
    "            except:\n",
    "                return 0\n",
    "    return 0\n",
    "\n",
    "msk['elevator_pass'] = msk['elevator'].apply(passanger)\n",
    "msk['elevator_gruz'] = msk['elevator'].apply(gruz)\n"
   ]
  },
  {
   "cell_type": "code",
   "execution_count": 39,
   "metadata": {},
   "outputs": [],
   "source": [
    "msk.drop('elevator', axis=1, inplace=True)"
   ]
  },
  {
   "cell_type": "code",
   "execution_count": 40,
   "metadata": {},
   "outputs": [
    {
     "data": {
      "text/html": [
       "<div>\n",
       "<style scoped>\n",
       "    .dataframe tbody tr th:only-of-type {\n",
       "        vertical-align: middle;\n",
       "    }\n",
       "\n",
       "    .dataframe tbody tr th {\n",
       "        vertical-align: top;\n",
       "    }\n",
       "\n",
       "    .dataframe thead th {\n",
       "        text-align: right;\n",
       "    }\n",
       "</style>\n",
       "<table border=\"1\" class=\"dataframe\">\n",
       "  <thead>\n",
       "    <tr style=\"text-align: right;\">\n",
       "      <th></th>\n",
       "      <th>id</th>\n",
       "      <th>number_of_rooms</th>\n",
       "      <th>metro</th>\n",
       "      <th>apartment_area</th>\n",
       "      <th>parking</th>\n",
       "      <th>price_per_month</th>\n",
       "      <th>repair</th>\n",
       "      <th>balcony</th>\n",
       "      <th>windows</th>\n",
       "      <th>bathroom</th>\n",
       "      <th>child_or_animals</th>\n",
       "      <th>ceiling_height</th>\n",
       "      <th>garbage_chute</th>\n",
       "      <th>floors</th>\n",
       "      <th>house_type</th>\n",
       "      <th>floor</th>\n",
       "      <th>elevator_pass</th>\n",
       "      <th>elevator_gruz</th>\n",
       "    </tr>\n",
       "  </thead>\n",
       "  <tbody>\n",
       "    <tr>\n",
       "      <th>0</th>\n",
       "      <td>271271157</td>\n",
       "      <td>4</td>\n",
       "      <td>Рядом</td>\n",
       "      <td>200</td>\n",
       "      <td>подземная</td>\n",
       "      <td>500000</td>\n",
       "      <td>Дизайнерский</td>\n",
       "      <td>Балкон (0), Лоджия (0)</td>\n",
       "      <td>Во двор</td>\n",
       "      <td>Совмещенный (1)</td>\n",
       "      <td>Можно с детьми, Можно с животными</td>\n",
       "      <td>3.0</td>\n",
       "      <td>Да</td>\n",
       "      <td>True</td>\n",
       "      <td>9.0</td>\n",
       "      <td>0.625</td>\n",
       "      <td>0</td>\n",
       "      <td>0</td>\n",
       "    </tr>\n",
       "  </tbody>\n",
       "</table>\n",
       "</div>"
      ],
      "text/plain": [
       "          id  number_of_rooms  metro  apartment_area    parking  \\\n",
       "0  271271157                4  Рядом             200  подземная   \n",
       "\n",
       "   price_per_month        repair                  balcony  windows  \\\n",
       "0           500000  Дизайнерский  Балкон (0), Лоджия (0)   Во двор   \n",
       "\n",
       "          bathroom                   child_or_animals  ceiling_height  \\\n",
       "0  Совмещенный (1)  Можно с детьми, Можно с животными             3.0   \n",
       "\n",
       "  garbage_chute  floors  house_type  floor  elevator_pass  elevator_gruz  \n",
       "0            Да    True         9.0  0.625              0              0  "
      ]
     },
     "execution_count": 40,
     "metadata": {},
     "output_type": "execute_result"
    }
   ],
   "source": [
    "msk.head(1)"
   ]
  },
  {
   "cell_type": "code",
   "execution_count": 41,
   "metadata": {},
   "outputs": [],
   "source": [
    "msk.drop('floors', axis=1, inplace=True)"
   ]
  }
 ],
 "metadata": {
  "kernelspec": {
   "display_name": "base",
   "language": "python",
   "name": "python3"
  },
  "language_info": {
   "codemirror_mode": {
    "name": "ipython",
    "version": 3
   },
   "file_extension": ".py",
   "mimetype": "text/x-python",
   "name": "python",
   "nbconvert_exporter": "python",
   "pygments_lexer": "ipython3",
   "version": "3.12.7"
  }
 },
 "nbformat": 4,
 "nbformat_minor": 2
}
