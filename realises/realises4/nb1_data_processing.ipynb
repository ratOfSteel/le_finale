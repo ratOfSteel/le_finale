{
 "cells": [
  {
   "cell_type": "code",
   "execution_count": 10,
   "metadata": {
    "executionInfo": {
     "elapsed": 5465,
     "status": "ok",
     "timestamp": 1735668950049,
     "user": {
      "displayName": "Galina Chapygina",
      "userId": "04102099207076723574"
     },
     "user_tz": -180
    },
    "id": "pW5ME0CltHHz"
   },
   "outputs": [],
   "source": [
    "# импортируем библиотеки\n",
    "import pandas as pd\n",
    "import numpy as np\n",
    "\n",
    "from sklearn.preprocessing import LabelEncoder"
   ]
  },
  {
   "cell_type": "code",
   "execution_count": 11,
   "metadata": {
    "executionInfo": {
     "elapsed": 5071,
     "status": "ok",
     "timestamp": 1735668955110,
     "user": {
      "displayName": "Galina Chapygina",
      "userId": "04102099207076723574"
     },
     "user_tz": -180
    },
    "id": "qIa5t7KM4oVr"
   },
   "outputs": [],
   "source": [
    "path = '../../data/_data.csv'\n",
    "df = pd.read_csv(path, index_col=0)"
   ]
  },
  {
   "cell_type": "code",
   "execution_count": 12,
   "metadata": {
    "colab": {
     "base_uri": "https://localhost:8080/",
     "height": 488
    },
    "executionInfo": {
     "elapsed": 27,
     "status": "ok",
     "timestamp": 1735668955113,
     "user": {
      "displayName": "Galina Chapygina",
      "userId": "04102099207076723574"
     },
     "user_tz": -180
    },
    "id": "-0DPyhyM7MGb",
    "outputId": "8217f319-8408-44e3-c369-2f36612ea20a"
   },
   "outputs": [
    {
     "data": {
      "text/html": [
       "<div>\n",
       "<style scoped>\n",
       "    .dataframe tbody tr th:only-of-type {\n",
       "        vertical-align: middle;\n",
       "    }\n",
       "\n",
       "    .dataframe tbody tr th {\n",
       "        vertical-align: top;\n",
       "    }\n",
       "\n",
       "    .dataframe thead th {\n",
       "        text-align: right;\n",
       "    }\n",
       "</style>\n",
       "<table border=\"1\" class=\"dataframe\">\n",
       "  <thead>\n",
       "    <tr style=\"text-align: right;\">\n",
       "      <th></th>\n",
       "      <th>ID  объявления</th>\n",
       "      <th>Количество комнат</th>\n",
       "      <th>Тип</th>\n",
       "      <th>Метро</th>\n",
       "      <th>Адрес</th>\n",
       "      <th>Площадь, м2</th>\n",
       "      <th>Дом</th>\n",
       "      <th>Парковка</th>\n",
       "      <th>Цена</th>\n",
       "      <th>Телефоны</th>\n",
       "      <th>...</th>\n",
       "      <th>Окна</th>\n",
       "      <th>Санузел</th>\n",
       "      <th>Можно с детьми/животными</th>\n",
       "      <th>Дополнительно</th>\n",
       "      <th>Название ЖК</th>\n",
       "      <th>Серия дома</th>\n",
       "      <th>Высота потолков, м</th>\n",
       "      <th>Лифт</th>\n",
       "      <th>Мусоропровод</th>\n",
       "      <th>Ссылка на объявление</th>\n",
       "    </tr>\n",
       "  </thead>\n",
       "  <tbody>\n",
       "    <tr>\n",
       "      <th>0</th>\n",
       "      <td>271271157</td>\n",
       "      <td>4</td>\n",
       "      <td>Квартира</td>\n",
       "      <td>м. Смоленская (9 мин пешком)</td>\n",
       "      <td>Москва, улица Новый Арбат, 27</td>\n",
       "      <td>200.0/20.0</td>\n",
       "      <td>5/16, Монолитный</td>\n",
       "      <td>подземная</td>\n",
       "      <td>500000.0 руб./ За месяц, Залог - 500000 руб., ...</td>\n",
       "      <td>+79166369231</td>\n",
       "      <td>...</td>\n",
       "      <td>NaN</td>\n",
       "      <td>NaN</td>\n",
       "      <td>Можно с детьми, Можно с животными</td>\n",
       "      <td>Мебель в комнатах, Мебель на кухне, Ванна, Душ...</td>\n",
       "      <td>Новый Арбат, 2010</td>\n",
       "      <td>NaN</td>\n",
       "      <td>3.0</td>\n",
       "      <td>Пасс (4), Груз (1)</td>\n",
       "      <td>Да</td>\n",
       "      <td>https://www.cian.ru/rent/flat/271271157</td>\n",
       "    </tr>\n",
       "    <tr>\n",
       "      <th>1</th>\n",
       "      <td>271634126</td>\n",
       "      <td>4</td>\n",
       "      <td>Квартира</td>\n",
       "      <td>м. Смоленская (8 мин пешком)</td>\n",
       "      <td>Москва, улица Новый Арбат, 27</td>\n",
       "      <td>198.0/95.0/18.0</td>\n",
       "      <td>5/16, Монолитно-кирпичный</td>\n",
       "      <td>подземная</td>\n",
       "      <td>500000.0 руб./ За месяц, Залог - 500000 руб., ...</td>\n",
       "      <td>+79850608590</td>\n",
       "      <td>...</td>\n",
       "      <td>На улицу и двор</td>\n",
       "      <td>Совмещенный (2), Раздельный (1)</td>\n",
       "      <td>Можно с детьми</td>\n",
       "      <td>Мебель в комнатах, Мебель на кухне, Ванна, Душ...</td>\n",
       "      <td>Новый Арбат</td>\n",
       "      <td>NaN</td>\n",
       "      <td>3.5</td>\n",
       "      <td>Пасс (1), Груз (1)</td>\n",
       "      <td>Нет</td>\n",
       "      <td>https://www.cian.ru/rent/flat/271634126</td>\n",
       "    </tr>\n",
       "    <tr>\n",
       "      <th>2</th>\n",
       "      <td>271173086</td>\n",
       "      <td>4, Оба варианта</td>\n",
       "      <td>Квартира</td>\n",
       "      <td>м. Смоленская (7 мин пешком)</td>\n",
       "      <td>Москва, улица Новый Арбат, 27</td>\n",
       "      <td>200.0/116.0/4.0</td>\n",
       "      <td>5/16</td>\n",
       "      <td>подземная</td>\n",
       "      <td>500000.0 руб./ За месяц, Залог - 500000 руб., ...</td>\n",
       "      <td>+79672086536, +79099269384</td>\n",
       "      <td>...</td>\n",
       "      <td>На улицу и двор</td>\n",
       "      <td>Совмещенный (3)</td>\n",
       "      <td>Можно с детьми</td>\n",
       "      <td>Мебель в комнатах, Мебель на кухне, Ванна, Душ...</td>\n",
       "      <td>Новый Арбат</td>\n",
       "      <td>NaN</td>\n",
       "      <td>3.2</td>\n",
       "      <td>Пасс (1)</td>\n",
       "      <td>NaN</td>\n",
       "      <td>https://www.cian.ru/rent/flat/271173086</td>\n",
       "    </tr>\n",
       "  </tbody>\n",
       "</table>\n",
       "<p>3 rows × 24 columns</p>\n",
       "</div>"
      ],
      "text/plain": [
       "   ID  объявления Количество комнат       Тип                         Метро  \\\n",
       "0       271271157                 4  Квартира  м. Смоленская (9 мин пешком)   \n",
       "1       271634126                 4  Квартира  м. Смоленская (8 мин пешком)   \n",
       "2       271173086   4, Оба варианта  Квартира  м. Смоленская (7 мин пешком)   \n",
       "\n",
       "                           Адрес      Площадь, м2                        Дом  \\\n",
       "0  Москва, улица Новый Арбат, 27       200.0/20.0           5/16, Монолитный   \n",
       "1  Москва, улица Новый Арбат, 27  198.0/95.0/18.0  5/16, Монолитно-кирпичный   \n",
       "2  Москва, улица Новый Арбат, 27  200.0/116.0/4.0                       5/16   \n",
       "\n",
       "    Парковка                                               Цена  \\\n",
       "0  подземная  500000.0 руб./ За месяц, Залог - 500000 руб., ...   \n",
       "1  подземная  500000.0 руб./ За месяц, Залог - 500000 руб., ...   \n",
       "2  подземная  500000.0 руб./ За месяц, Залог - 500000 руб., ...   \n",
       "\n",
       "                     Телефоны  ...             Окна  \\\n",
       "0                +79166369231  ...              NaN   \n",
       "1                +79850608590  ...  На улицу и двор   \n",
       "2  +79672086536, +79099269384  ...  На улицу и двор   \n",
       "\n",
       "                           Санузел           Можно с детьми/животными  \\\n",
       "0                              NaN  Можно с детьми, Можно с животными   \n",
       "1  Совмещенный (2), Раздельный (1)                     Можно с детьми   \n",
       "2                  Совмещенный (3)                     Можно с детьми   \n",
       "\n",
       "                                       Дополнительно        Название ЖК  \\\n",
       "0  Мебель в комнатах, Мебель на кухне, Ванна, Душ...  Новый Арбат, 2010   \n",
       "1  Мебель в комнатах, Мебель на кухне, Ванна, Душ...        Новый Арбат   \n",
       "2  Мебель в комнатах, Мебель на кухне, Ванна, Душ...        Новый Арбат   \n",
       "\n",
       "  Серия дома Высота потолков, м                Лифт Мусоропровод  \\\n",
       "0        NaN                3.0  Пасс (4), Груз (1)           Да   \n",
       "1        NaN                3.5  Пасс (1), Груз (1)          Нет   \n",
       "2        NaN                3.2            Пасс (1)          NaN   \n",
       "\n",
       "                      Ссылка на объявление  \n",
       "0  https://www.cian.ru/rent/flat/271271157  \n",
       "1  https://www.cian.ru/rent/flat/271634126  \n",
       "2  https://www.cian.ru/rent/flat/271173086  \n",
       "\n",
       "[3 rows x 24 columns]"
      ]
     },
     "execution_count": 12,
     "metadata": {},
     "output_type": "execute_result"
    }
   ],
   "source": [
    "pd.set_option('display.max_columns', 20)\n",
    "df.head(3)"
   ]
  },
  {
   "cell_type": "code",
   "execution_count": 13,
   "metadata": {
    "colab": {
     "base_uri": "https://localhost:8080/"
    },
    "executionInfo": {
     "elapsed": 19,
     "status": "ok",
     "timestamp": 1735668955113,
     "user": {
      "displayName": "Galina Chapygina",
      "userId": "04102099207076723574"
     },
     "user_tz": -180
    },
    "id": "iQre_YOu9-TI",
    "outputId": "45cf5d49-674e-4d7d-b99a-1c89df4b84f8"
   },
   "outputs": [
    {
     "name": "stdout",
     "output_type": "stream",
     "text": [
      "<class 'pandas.core.frame.DataFrame'>\n",
      "Index: 23368 entries, 0 to 23367\n",
      "Data columns (total 24 columns):\n",
      " #   Column                    Non-Null Count  Dtype  \n",
      "---  ------                    --------------  -----  \n",
      " 0   ID  объявления            23368 non-null  int64  \n",
      " 1   Количество комнат         22327 non-null  object \n",
      " 2   Тип                       23368 non-null  object \n",
      " 3   Метро                     22053 non-null  object \n",
      " 4   Адрес                     23368 non-null  object \n",
      " 5   Площадь, м2               23368 non-null  object \n",
      " 6   Дом                       23368 non-null  object \n",
      " 7   Парковка                  9951 non-null   object \n",
      " 8   Цена                      23368 non-null  object \n",
      " 9   Телефоны                  23368 non-null  object \n",
      " 10  Описание                  23368 non-null  object \n",
      " 11  Ремонт                    20613 non-null  object \n",
      " 12  Площадь комнат, м2        14458 non-null  object \n",
      " 13  Балкон                    15390 non-null  object \n",
      " 14  Окна                      16755 non-null  object \n",
      " 15  Санузел                   20696 non-null  object \n",
      " 16  Можно с детьми/животными  17272 non-null  object \n",
      " 17  Дополнительно             23011 non-null  object \n",
      " 18  Название ЖК               5848 non-null   object \n",
      " 19  Серия дома                2163 non-null   object \n",
      " 20  Высота потолков, м        11206 non-null  float64\n",
      " 21  Лифт                      17868 non-null  object \n",
      " 22  Мусоропровод              12846 non-null  object \n",
      " 23  Ссылка на объявление      23368 non-null  object \n",
      "dtypes: float64(1), int64(1), object(22)\n",
      "memory usage: 4.5+ MB\n"
     ]
    }
   ],
   "source": [
    "df.info()"
   ]
  },
  {
   "cell_type": "code",
   "execution_count": 14,
   "metadata": {
    "executionInfo": {
     "elapsed": 338,
     "status": "ok",
     "timestamp": 1735668955441,
     "user": {
      "displayName": "Galina Chapygina",
      "userId": "04102099207076723574"
     },
     "user_tz": -180
    },
    "id": "kJMxIGH0N0Np"
   },
   "outputs": [],
   "source": [
    "# удалим столбец 'Ссылка на объявление'\n",
    "df.drop(columns=['Ссылка на объявление'], axis=1, inplace=True)"
   ]
  },
  {
   "cell_type": "code",
   "execution_count": 15,
   "metadata": {
    "colab": {
     "base_uri": "https://localhost:8080/"
    },
    "executionInfo": {
     "elapsed": 28,
     "status": "ok",
     "timestamp": 1735668955443,
     "user": {
      "displayName": "Galina Chapygina",
      "userId": "04102099207076723574"
     },
     "user_tz": -180
    },
    "id": "R2qv62P_RGK1",
    "outputId": "1a7fecd2-ef77-4f0c-cf6b-6a5e77db4f6a"
   },
   "outputs": [
    {
     "data": {
      "text/plain": [
       "Index(['ID  объявления', 'Количество комнат', 'Тип', 'Метро', 'Адрес',\n",
       "       'Площадь, м2', 'Дом', 'Парковка', 'Цена', 'Телефоны', 'Описание',\n",
       "       'Ремонт', 'Площадь комнат, м2', 'Балкон', 'Окна', 'Санузел',\n",
       "       'Можно с детьми/животными', 'Дополнительно', 'Название ЖК',\n",
       "       'Серия дома', 'Высота потолков, м', 'Лифт', 'Мусоропровод'],\n",
       "      dtype='object')"
      ]
     },
     "execution_count": 15,
     "metadata": {},
     "output_type": "execute_result"
    }
   ],
   "source": [
    "df.columns"
   ]
  },
  {
   "cell_type": "code",
   "execution_count": 16,
   "metadata": {
    "executionInfo": {
     "elapsed": 25,
     "status": "ok",
     "timestamp": 1735668955444,
     "user": {
      "displayName": "Galina Chapygina",
      "userId": "04102099207076723574"
     },
     "user_tz": -180
    },
    "id": "IdhcoR7-RI6d"
   },
   "outputs": [],
   "source": [
    "# переименуем столбцы\n",
    "df.rename(columns={'ID  объявления': 'id_ads',\n",
    "                   'Количество комнат': 'number_rooms',\n",
    "                   'Тип': 'type',\n",
    "                   'Метро': 'subway',\n",
    "                   'Адрес': 'address',\n",
    "                   'Площадь, м2': 'area_m2',\n",
    "                   'Дом': 'house',\n",
    "                   'Парковка': 'parking',\n",
    "                   'Цена': 'price',\n",
    "                   'Телефоны': 'phones',\n",
    "                   'Описание': 'description',\n",
    "                   'Ремонт': 'repair',\n",
    "                   'Площадь комнат, м2': 'area_rooms_m2',\n",
    "                   'Балкон': 'balcony',\n",
    "                   'Окна': 'windows',\n",
    "                   'Санузел': 'bathroom',\n",
    "                   'Можно с детьми/животными': 'children_pets',\n",
    "                   'Дополнительно': 'optional',\n",
    "                   'Название ЖК': 'complex_name',\n",
    "                   'Серия дома': 'house_series',\n",
    "                   'Высота потолков, м': 'сeiling_height_m',\n",
    "                   'Лифт': 'elevator',\n",
    "                   'Мусоропровод': 'trash_chute',\n",
    "                   },\n",
    "          inplace=True)"
   ]
  },
  {
   "cell_type": "code",
   "execution_count": 17,
   "metadata": {
    "colab": {
     "base_uri": "https://localhost:8080/"
    },
    "executionInfo": {
     "elapsed": 24,
     "status": "ok",
     "timestamp": 1735668955444,
     "user": {
      "displayName": "Galina Chapygina",
      "userId": "04102099207076723574"
     },
     "user_tz": -180
    },
    "id": "gmhPgWhWWK00",
    "outputId": "6f93a0ed-1801-4333-9400-11ecb133e903"
   },
   "outputs": [
    {
     "data": {
      "text/plain": [
       "True"
      ]
     },
     "execution_count": 17,
     "metadata": {},
     "output_type": "execute_result"
    }
   ],
   "source": [
    "# проверим все ли записи столбца 'id объявления' уникальны\n",
    "df['id_ads'].nunique() == df.shape[0]"
   ]
  },
  {
   "cell_type": "code",
   "execution_count": 18,
   "metadata": {
    "colab": {
     "base_uri": "https://localhost:8080/",
     "height": 147
    },
    "executionInfo": {
     "elapsed": 16,
     "status": "ok",
     "timestamp": 1735668955444,
     "user": {
      "displayName": "Galina Chapygina",
      "userId": "04102099207076723574"
     },
     "user_tz": -180
    },
    "id": "8JmCJMmT7IN5",
    "outputId": "9672797f-c3d3-46e8-a6de-d62f46ed05d8"
   },
   "outputs": [
    {
     "data": {
      "text/plain": [
       "type\n",
       "Квартира    True\n",
       "Name: count, dtype: bool"
      ]
     },
     "execution_count": 18,
     "metadata": {},
     "output_type": "execute_result"
    }
   ],
   "source": [
    "# проверяем, что в столбце представлен только один тип недвижимости\n",
    "df['type'].value_counts() == df.shape[0]"
   ]
  },
  {
   "cell_type": "code",
   "execution_count": 19,
   "metadata": {
    "colab": {
     "base_uri": "https://localhost:8080/",
     "height": 323
    },
    "executionInfo": {
     "elapsed": 254,
     "status": "ok",
     "timestamp": 1735668955684,
     "user": {
      "displayName": "Galina Chapygina",
      "userId": "04102099207076723574"
     },
     "user_tz": -180
    },
    "id": "4c1DdnNiZBud",
    "outputId": "ba48f4dd-0a29-4b37-fa78-a4f65fbdd2be"
   },
   "outputs": [
    {
     "data": {
      "text/html": [
       "<div>\n",
       "<style scoped>\n",
       "    .dataframe tbody tr th:only-of-type {\n",
       "        vertical-align: middle;\n",
       "    }\n",
       "\n",
       "    .dataframe tbody tr th {\n",
       "        vertical-align: top;\n",
       "    }\n",
       "\n",
       "    .dataframe thead th {\n",
       "        text-align: right;\n",
       "    }\n",
       "</style>\n",
       "<table border=\"1\" class=\"dataframe\">\n",
       "  <thead>\n",
       "    <tr style=\"text-align: right;\">\n",
       "      <th></th>\n",
       "      <th>id_ads</th>\n",
       "      <th>number_rooms</th>\n",
       "      <th>type</th>\n",
       "      <th>subway</th>\n",
       "      <th>address</th>\n",
       "      <th>area_m2</th>\n",
       "      <th>house</th>\n",
       "      <th>parking</th>\n",
       "      <th>price</th>\n",
       "      <th>phones</th>\n",
       "      <th>description</th>\n",
       "      <th>repair</th>\n",
       "      <th>area_rooms_m2</th>\n",
       "      <th>balcony</th>\n",
       "      <th>windows</th>\n",
       "      <th>bathroom</th>\n",
       "      <th>children_pets</th>\n",
       "      <th>optional</th>\n",
       "      <th>complex_name</th>\n",
       "      <th>house_series</th>\n",
       "      <th>сeiling_height_m</th>\n",
       "      <th>elevator</th>\n",
       "      <th>trash_chute</th>\n",
       "    </tr>\n",
       "  </thead>\n",
       "  <tbody>\n",
       "    <tr>\n",
       "      <th>0</th>\n",
       "      <td>271271157</td>\n",
       "      <td>4</td>\n",
       "      <td>Квартира</td>\n",
       "      <td>м. Смоленская (9 мин пешком)</td>\n",
       "      <td>Москва, улица Новый Арбат, 27</td>\n",
       "      <td>200.0/20.0</td>\n",
       "      <td>5/16, Монолитный</td>\n",
       "      <td>подземная</td>\n",
       "      <td>500000.0 руб./ За месяц, Залог - 500000 руб., ...</td>\n",
       "      <td>+79166369231</td>\n",
       "      <td>Без комиссии для нанимателя! Бонус коллегам 12...</td>\n",
       "      <td>Дизайнерский</td>\n",
       "      <td>NaN</td>\n",
       "      <td>NaN</td>\n",
       "      <td>NaN</td>\n",
       "      <td>NaN</td>\n",
       "      <td>Можно с детьми, Можно с животными</td>\n",
       "      <td>Мебель в комнатах, Мебель на кухне, Ванна, Душ...</td>\n",
       "      <td>Новый Арбат, 2010</td>\n",
       "      <td>NaN</td>\n",
       "      <td>3.0</td>\n",
       "      <td>Пасс (4), Груз (1)</td>\n",
       "      <td>Да</td>\n",
       "    </tr>\n",
       "    <tr>\n",
       "      <th>1</th>\n",
       "      <td>271634126</td>\n",
       "      <td>4</td>\n",
       "      <td>Квартира</td>\n",
       "      <td>м. Смоленская (8 мин пешком)</td>\n",
       "      <td>Москва, улица Новый Арбат, 27</td>\n",
       "      <td>198.0/95.0/18.0</td>\n",
       "      <td>5/16, Монолитно-кирпичный</td>\n",
       "      <td>подземная</td>\n",
       "      <td>500000.0 руб./ За месяц, Залог - 500000 руб., ...</td>\n",
       "      <td>+79850608590</td>\n",
       "      <td>Лот 93107. Елена Анисимова.\\n\\nБонус агенту 50...</td>\n",
       "      <td>Дизайнерский</td>\n",
       "      <td>25 25 20 25</td>\n",
       "      <td>NaN</td>\n",
       "      <td>На улицу и двор</td>\n",
       "      <td>Совмещенный (2), Раздельный (1)</td>\n",
       "      <td>Можно с детьми</td>\n",
       "      <td>Мебель в комнатах, Мебель на кухне, Ванна, Душ...</td>\n",
       "      <td>Новый Арбат</td>\n",
       "      <td>NaN</td>\n",
       "      <td>3.5</td>\n",
       "      <td>Пасс (1), Груз (1)</td>\n",
       "      <td>Нет</td>\n",
       "    </tr>\n",
       "  </tbody>\n",
       "</table>\n",
       "</div>"
      ],
      "text/plain": [
       "      id_ads number_rooms      type                        subway  \\\n",
       "0  271271157            4  Квартира  м. Смоленская (9 мин пешком)   \n",
       "1  271634126            4  Квартира  м. Смоленская (8 мин пешком)   \n",
       "\n",
       "                         address          area_m2                      house  \\\n",
       "0  Москва, улица Новый Арбат, 27       200.0/20.0           5/16, Монолитный   \n",
       "1  Москва, улица Новый Арбат, 27  198.0/95.0/18.0  5/16, Монолитно-кирпичный   \n",
       "\n",
       "     parking                                              price        phones  \\\n",
       "0  подземная  500000.0 руб./ За месяц, Залог - 500000 руб., ...  +79166369231   \n",
       "1  подземная  500000.0 руб./ За месяц, Залог - 500000 руб., ...  +79850608590   \n",
       "\n",
       "                                         description        repair  \\\n",
       "0  Без комиссии для нанимателя! Бонус коллегам 12...  Дизайнерский   \n",
       "1  Лот 93107. Елена Анисимова.\\n\\nБонус агенту 50...  Дизайнерский   \n",
       "\n",
       "  area_rooms_m2 balcony          windows                         bathroom  \\\n",
       "0           NaN     NaN              NaN                              NaN   \n",
       "1   25 25 20 25     NaN  На улицу и двор  Совмещенный (2), Раздельный (1)   \n",
       "\n",
       "                       children_pets  \\\n",
       "0  Можно с детьми, Можно с животными   \n",
       "1                     Можно с детьми   \n",
       "\n",
       "                                            optional       complex_name  \\\n",
       "0  Мебель в комнатах, Мебель на кухне, Ванна, Душ...  Новый Арбат, 2010   \n",
       "1  Мебель в комнатах, Мебель на кухне, Ванна, Душ...        Новый Арбат   \n",
       "\n",
       "  house_series  сeiling_height_m            elevator trash_chute  \n",
       "0          NaN               3.0  Пасс (4), Груз (1)          Да  \n",
       "1          NaN               3.5  Пасс (1), Груз (1)         Нет  "
      ]
     },
     "execution_count": 19,
     "metadata": {},
     "output_type": "execute_result"
    }
   ],
   "source": [
    "pd.set_option('display.max_columns', None)\n",
    "df.head(2)"
   ]
  },
  {
   "cell_type": "code",
   "execution_count": 20,
   "metadata": {
    "executionInfo": {
     "elapsed": 17,
     "status": "ok",
     "timestamp": 1735668955685,
     "user": {
      "displayName": "Galina Chapygina",
      "userId": "04102099207076723574"
     },
     "user_tz": -180
    },
    "id": "_rL-7UCYnxXr"
   },
   "outputs": [],
   "source": [
    "# поработаем с первым столбцом Число комнат\n",
    "df['count_rooms'] = df.number_rooms.astype(str).apply(lambda x: x[0])\n",
    "df.loc[df.count_rooms == 'n', 'count_rooms'] = 0\n",
    "df['count_rooms'] = pd.to_numeric(df['count_rooms'])"
   ]
  },
  {
   "cell_type": "code",
   "execution_count": 21,
   "metadata": {
    "colab": {
     "base_uri": "https://localhost:8080/"
    },
    "executionInfo": {
     "elapsed": 16,
     "status": "ok",
     "timestamp": 1735668955685,
     "user": {
      "displayName": "Galina Chapygina",
      "userId": "04102099207076723574"
     },
     "user_tz": -180
    },
    "id": "XatXI9YosYXS",
    "outputId": "eb153f26-dcad-464f-bcb3-ef587bb4e4b3"
   },
   "outputs": [
    {
     "name": "stderr",
     "output_type": "stream",
     "text": [
      "/tmp/ipykernel_6161/4232077048.py:1: FutureWarning: A value is trying to be set on a copy of a DataFrame or Series through chained assignment using an inplace method.\n",
      "The behavior will change in pandas 3.0. This inplace method will never work because the intermediate object on which we are setting values always behaves as a copy.\n",
      "\n",
      "For example, when doing 'df[col].method(value, inplace=True)', try using 'df.method({col: value}, inplace=True)' or df[col] = df[col].method(value) instead, to perform the operation inplace on the original object.\n",
      "\n",
      "\n",
      "  df['number_rooms'].fillna(value=0, inplace=True)\n"
     ]
    }
   ],
   "source": [
    "df['number_rooms'].fillna(value=0, inplace=True)"
   ]
  },
  {
   "cell_type": "code",
   "execution_count": 22,
   "metadata": {
    "executionInfo": {
     "elapsed": 11,
     "status": "ok",
     "timestamp": 1735668955685,
     "user": {
      "displayName": "Galina Chapygina",
      "userId": "04102099207076723574"
     },
     "user_tz": -180
    },
    "id": "F2UAN8DUydkX"
   },
   "outputs": [],
   "source": [
    "def add_str(txt: str) -> str:\n",
    "  lst = txt.split(',')\n",
    "  if len(lst) == 1:\n",
    "    lst.append('Неизвестно')\n",
    "  return ', '.join(lst)"
   ]
  },
  {
   "cell_type": "code",
   "execution_count": 23,
   "metadata": {
    "executionInfo": {
     "elapsed": 9,
     "status": "ok",
     "timestamp": 1735668955685,
     "user": {
      "displayName": "Galina Chapygina",
      "userId": "04102099207076723574"
     },
     "user_tz": -180
    },
    "id": "Fgm3rAlfoOZ8"
   },
   "outputs": [],
   "source": [
    "df['number_rooms'] = df.number_rooms.astype(str).apply(lambda x: add_str(x))\n",
    "df['type_rooms'] = df.number_rooms.astype(str).apply(lambda x: x.split(',')[1])"
   ]
  },
  {
   "cell_type": "code",
   "execution_count": 24,
   "metadata": {
    "colab": {
     "base_uri": "https://localhost:8080/",
     "height": 323
    },
    "executionInfo": {
     "elapsed": 243,
     "status": "ok",
     "timestamp": 1735668955920,
     "user": {
      "displayName": "Galina Chapygina",
      "userId": "04102099207076723574"
     },
     "user_tz": -180
    },
    "id": "08PZBpYWh5Hr",
    "outputId": "885babac-5538-41af-c8c2-948eac7cda31"
   },
   "outputs": [
    {
     "data": {
      "text/html": [
       "<div>\n",
       "<style scoped>\n",
       "    .dataframe tbody tr th:only-of-type {\n",
       "        vertical-align: middle;\n",
       "    }\n",
       "\n",
       "    .dataframe tbody tr th {\n",
       "        vertical-align: top;\n",
       "    }\n",
       "\n",
       "    .dataframe thead th {\n",
       "        text-align: right;\n",
       "    }\n",
       "</style>\n",
       "<table border=\"1\" class=\"dataframe\">\n",
       "  <thead>\n",
       "    <tr style=\"text-align: right;\">\n",
       "      <th></th>\n",
       "      <th>id_ads</th>\n",
       "      <th>number_rooms</th>\n",
       "      <th>type</th>\n",
       "      <th>subway</th>\n",
       "      <th>address</th>\n",
       "      <th>area_m2</th>\n",
       "      <th>house</th>\n",
       "      <th>parking</th>\n",
       "      <th>price</th>\n",
       "      <th>phones</th>\n",
       "      <th>description</th>\n",
       "      <th>repair</th>\n",
       "      <th>area_rooms_m2</th>\n",
       "      <th>balcony</th>\n",
       "      <th>windows</th>\n",
       "      <th>bathroom</th>\n",
       "      <th>children_pets</th>\n",
       "      <th>optional</th>\n",
       "      <th>complex_name</th>\n",
       "      <th>house_series</th>\n",
       "      <th>сeiling_height_m</th>\n",
       "      <th>elevator</th>\n",
       "      <th>trash_chute</th>\n",
       "      <th>count_rooms</th>\n",
       "      <th>type_rooms</th>\n",
       "    </tr>\n",
       "  </thead>\n",
       "  <tbody>\n",
       "    <tr>\n",
       "      <th>0</th>\n",
       "      <td>271271157</td>\n",
       "      <td>4, Неизвестно</td>\n",
       "      <td>Квартира</td>\n",
       "      <td>м. Смоленская (9 мин пешком)</td>\n",
       "      <td>Москва, улица Новый Арбат, 27</td>\n",
       "      <td>200.0/20.0</td>\n",
       "      <td>5/16, Монолитный</td>\n",
       "      <td>подземная</td>\n",
       "      <td>500000.0 руб./ За месяц, Залог - 500000 руб., ...</td>\n",
       "      <td>+79166369231</td>\n",
       "      <td>Без комиссии для нанимателя! Бонус коллегам 12...</td>\n",
       "      <td>Дизайнерский</td>\n",
       "      <td>NaN</td>\n",
       "      <td>NaN</td>\n",
       "      <td>NaN</td>\n",
       "      <td>NaN</td>\n",
       "      <td>Можно с детьми, Можно с животными</td>\n",
       "      <td>Мебель в комнатах, Мебель на кухне, Ванна, Душ...</td>\n",
       "      <td>Новый Арбат, 2010</td>\n",
       "      <td>NaN</td>\n",
       "      <td>3.0</td>\n",
       "      <td>Пасс (4), Груз (1)</td>\n",
       "      <td>Да</td>\n",
       "      <td>4</td>\n",
       "      <td>Неизвестно</td>\n",
       "    </tr>\n",
       "    <tr>\n",
       "      <th>1</th>\n",
       "      <td>271634126</td>\n",
       "      <td>4, Неизвестно</td>\n",
       "      <td>Квартира</td>\n",
       "      <td>м. Смоленская (8 мин пешком)</td>\n",
       "      <td>Москва, улица Новый Арбат, 27</td>\n",
       "      <td>198.0/95.0/18.0</td>\n",
       "      <td>5/16, Монолитно-кирпичный</td>\n",
       "      <td>подземная</td>\n",
       "      <td>500000.0 руб./ За месяц, Залог - 500000 руб., ...</td>\n",
       "      <td>+79850608590</td>\n",
       "      <td>Лот 93107. Елена Анисимова.\\n\\nБонус агенту 50...</td>\n",
       "      <td>Дизайнерский</td>\n",
       "      <td>25 25 20 25</td>\n",
       "      <td>NaN</td>\n",
       "      <td>На улицу и двор</td>\n",
       "      <td>Совмещенный (2), Раздельный (1)</td>\n",
       "      <td>Можно с детьми</td>\n",
       "      <td>Мебель в комнатах, Мебель на кухне, Ванна, Душ...</td>\n",
       "      <td>Новый Арбат</td>\n",
       "      <td>NaN</td>\n",
       "      <td>3.5</td>\n",
       "      <td>Пасс (1), Груз (1)</td>\n",
       "      <td>Нет</td>\n",
       "      <td>4</td>\n",
       "      <td>Неизвестно</td>\n",
       "    </tr>\n",
       "  </tbody>\n",
       "</table>\n",
       "</div>"
      ],
      "text/plain": [
       "      id_ads   number_rooms      type                        subway  \\\n",
       "0  271271157  4, Неизвестно  Квартира  м. Смоленская (9 мин пешком)   \n",
       "1  271634126  4, Неизвестно  Квартира  м. Смоленская (8 мин пешком)   \n",
       "\n",
       "                         address          area_m2                      house  \\\n",
       "0  Москва, улица Новый Арбат, 27       200.0/20.0           5/16, Монолитный   \n",
       "1  Москва, улица Новый Арбат, 27  198.0/95.0/18.0  5/16, Монолитно-кирпичный   \n",
       "\n",
       "     parking                                              price        phones  \\\n",
       "0  подземная  500000.0 руб./ За месяц, Залог - 500000 руб., ...  +79166369231   \n",
       "1  подземная  500000.0 руб./ За месяц, Залог - 500000 руб., ...  +79850608590   \n",
       "\n",
       "                                         description        repair  \\\n",
       "0  Без комиссии для нанимателя! Бонус коллегам 12...  Дизайнерский   \n",
       "1  Лот 93107. Елена Анисимова.\\n\\nБонус агенту 50...  Дизайнерский   \n",
       "\n",
       "  area_rooms_m2 balcony          windows                         bathroom  \\\n",
       "0           NaN     NaN              NaN                              NaN   \n",
       "1   25 25 20 25     NaN  На улицу и двор  Совмещенный (2), Раздельный (1)   \n",
       "\n",
       "                       children_pets  \\\n",
       "0  Можно с детьми, Можно с животными   \n",
       "1                     Можно с детьми   \n",
       "\n",
       "                                            optional       complex_name  \\\n",
       "0  Мебель в комнатах, Мебель на кухне, Ванна, Душ...  Новый Арбат, 2010   \n",
       "1  Мебель в комнатах, Мебель на кухне, Ванна, Душ...        Новый Арбат   \n",
       "\n",
       "  house_series  сeiling_height_m            elevator trash_chute  count_rooms  \\\n",
       "0          NaN               3.0  Пасс (4), Груз (1)          Да            4   \n",
       "1          NaN               3.5  Пасс (1), Груз (1)         Нет            4   \n",
       "\n",
       "    type_rooms  \n",
       "0   Неизвестно  \n",
       "1   Неизвестно  "
      ]
     },
     "execution_count": 24,
     "metadata": {},
     "output_type": "execute_result"
    }
   ],
   "source": [
    "df.head(2)"
   ]
  },
  {
   "cell_type": "code",
   "execution_count": 25,
   "metadata": {
    "executionInfo": {
     "elapsed": 9,
     "status": "ok",
     "timestamp": 1735668955921,
     "user": {
      "displayName": "Galina Chapygina",
      "userId": "04102099207076723574"
     },
     "user_tz": -180
    },
    "id": "m_XSOMVAZ22t"
   },
   "outputs": [],
   "source": [
    "# удаляем обработанный столбец Число комнат и тип\n",
    "df.drop(columns=['type', 'number_rooms'], axis=1, inplace=True)"
   ]
  },
  {
   "cell_type": "code",
   "execution_count": 26,
   "metadata": {
    "executionInfo": {
     "elapsed": 297,
     "status": "ok",
     "timestamp": 1735668956210,
     "user": {
      "displayName": "Galina Chapygina",
      "userId": "04102099207076723574"
     },
     "user_tz": -180
    },
    "id": "ea8h_BY-6b-S"
   },
   "outputs": [],
   "source": [
    "# выберем из строки самое большое значение. распределение по площади комнат игнорируем\n",
    "df['area_m2'] = df.area_m2.astype(str).apply(lambda x: max([float(el) for el in x.split('/')]))"
   ]
  },
  {
   "cell_type": "code",
   "execution_count": 27,
   "metadata": {
    "executionInfo": {
     "elapsed": 13,
     "status": "ok",
     "timestamp": 1735668956211,
     "user": {
      "displayName": "Galina Chapygina",
      "userId": "04102099207076723574"
     },
     "user_tz": -180
    },
    "id": "kdLx526F_9ux"
   },
   "outputs": [],
   "source": [
    "# разобъём столбец Дом на 3 столбца: этаж, кол-во этажей в доме и тип дома\n",
    "df['house'] = df.house.astype(str).apply(lambda x: add_str(x))\n",
    "df['floor'] = df.house.astype(str).apply(lambda x: x.split(',')[0][:x.split(',')[0].find('/')])"
   ]
  },
  {
   "cell_type": "code",
   "execution_count": 28,
   "metadata": {
    "colab": {
     "base_uri": "https://localhost:8080/",
     "height": 36
    },
    "executionInfo": {
     "elapsed": 12,
     "status": "ok",
     "timestamp": 1735668956211,
     "user": {
      "displayName": "Galina Chapygina",
      "userId": "04102099207076723574"
     },
     "user_tz": -180
    },
    "id": "8P-MMJMiMYVt",
    "outputId": "68d5bc16-fef1-41e7-ba42-c14827d24a43"
   },
   "outputs": [
    {
     "data": {
      "text/plain": [
       "'-1'"
      ]
     },
     "execution_count": 28,
     "metadata": {},
     "output_type": "execute_result"
    }
   ],
   "source": [
    "# в строке 217 этаж равен -1\n",
    "df.loc[217, 'floor']"
   ]
  },
  {
   "cell_type": "code",
   "execution_count": 29,
   "metadata": {
    "executionInfo": {
     "elapsed": 309,
     "status": "ok",
     "timestamp": 1735668956510,
     "user": {
      "displayName": "Galina Chapygina",
      "userId": "04102099207076723574"
     },
     "user_tz": -180
    },
    "id": "x0NlgnT4NBzg"
   },
   "outputs": [],
   "source": [
    "# выброс -1 изменим на 1\n",
    "df.loc[217, 'floor'] = 1\n",
    "df['floor'] = pd.to_numeric(df['floor'])"
   ]
  },
  {
   "cell_type": "code",
   "execution_count": 30,
   "metadata": {
    "executionInfo": {
     "elapsed": 4,
     "status": "ok",
     "timestamp": 1735668956510,
     "user": {
      "displayName": "Galina Chapygina",
      "userId": "04102099207076723574"
     },
     "user_tz": -180
    },
    "id": "3shWygmeL9Tq"
   },
   "outputs": [],
   "source": [
    "df['floor_number'] = df.house.astype(str).apply(lambda x: x.split(',')[0][x.split(',')[0].find('/') + 1:])\n",
    "df['floor_number'] = pd.to_numeric(df['floor_number'])"
   ]
  },
  {
   "cell_type": "code",
   "execution_count": 31,
   "metadata": {
    "executionInfo": {
     "elapsed": 4,
     "status": "ok",
     "timestamp": 1735668956511,
     "user": {
      "displayName": "Galina Chapygina",
      "userId": "04102099207076723574"
     },
     "user_tz": -180
    },
    "id": "IS_sUUqwPtyA"
   },
   "outputs": [],
   "source": [
    "df['house_type'] = df.house.astype(str).apply(lambda x: x.split(',')[1])"
   ]
  },
  {
   "cell_type": "code",
   "execution_count": 32,
   "metadata": {
    "executionInfo": {
     "elapsed": 8,
     "status": "ok",
     "timestamp": 1735668956786,
     "user": {
      "displayName": "Galina Chapygina",
      "userId": "04102099207076723574"
     },
     "user_tz": -180
    },
    "id": "VDxsav5EQqSB"
   },
   "outputs": [],
   "source": [
    "df.drop('house', axis=1, inplace=True)"
   ]
  },
  {
   "cell_type": "code",
   "execution_count": 33,
   "metadata": {
    "colab": {
     "base_uri": "https://localhost:8080/"
    },
    "executionInfo": {
     "elapsed": 8,
     "status": "ok",
     "timestamp": 1735668956787,
     "user": {
      "displayName": "Galina Chapygina",
      "userId": "04102099207076723574"
     },
     "user_tz": -180
    },
    "id": "DUqzNkpPQiYT",
    "outputId": "c6c21dd7-aa4c-4105-a258-29decebfc98e"
   },
   "outputs": [
    {
     "name": "stderr",
     "output_type": "stream",
     "text": [
      "/tmp/ipykernel_6161/1714489476.py:2: FutureWarning: A value is trying to be set on a copy of a DataFrame or Series through chained assignment using an inplace method.\n",
      "The behavior will change in pandas 3.0. This inplace method will never work because the intermediate object on which we are setting values always behaves as a copy.\n",
      "\n",
      "For example, when doing 'df[col].method(value, inplace=True)', try using 'df.method({col: value}, inplace=True)' or df[col] = df[col].method(value) instead, to perform the operation inplace on the original object.\n",
      "\n",
      "\n",
      "  df.parking.fillna('неизвестно', inplace=True)\n"
     ]
    }
   ],
   "source": [
    "# Обрабатываем колонку \"парковка\"\n",
    "df.parking.fillna('неизвестно', inplace=True)"
   ]
  },
  {
   "cell_type": "code",
   "execution_count": 34,
   "metadata": {
    "executionInfo": {
     "elapsed": 234,
     "status": "ok",
     "timestamp": 1735668957015,
     "user": {
      "displayName": "Galina Chapygina",
      "userId": "04102099207076723574"
     },
     "user_tz": -180
    },
    "id": "K-IPSoW7TGiL"
   },
   "outputs": [],
   "source": [
    "# Аналогичные операции с колонкой \"Санузел\"\n",
    "df['bathroom'] = df['bathroom'].fillna('Совмещенный (1)')\n",
    "df['bathroom_combined'] = [row.split(' ')[1] if (row.split(' ')[0]) == 'Совмещенный' else '(0)' for row in df['bathroom']]\n",
    "df['bathroom_separate'] = [row.split(' ')[-1] if (row.split(' ')[-2]) == 'Раздельный' else '(0)' for row in df['bathroom']]\n",
    "df['bathroom_combined'] = [row.split('(')[1] for row in df['bathroom_combined']]\n",
    "df['bathroom_combined'] = [int(row.split(')')[0]) for row in df['bathroom_combined']]\n",
    "df['bathroom_separate'] = [row.split('(')[1] for row in df['bathroom_separate']]\n",
    "df['bathroom_separate'] = [int(row.split(')')[0]) for row in df['bathroom_separate']]\n",
    "df = df.drop(['bathroom'], axis = 1)"
   ]
  },
  {
   "cell_type": "code",
   "execution_count": 35,
   "metadata": {
    "colab": {
     "base_uri": "https://localhost:8080/"
    },
    "executionInfo": {
     "elapsed": 15,
     "status": "ok",
     "timestamp": 1735668957015,
     "user": {
      "displayName": "Galina Chapygina",
      "userId": "04102099207076723574"
     },
     "user_tz": -180
    },
    "id": "7VcTna_bUMSN",
    "outputId": "90633e88-be6a-4c91-df64-60319f8d484e"
   },
   "outputs": [
    {
     "data": {
      "text/plain": [
       "np.int64(5500)"
      ]
     },
     "execution_count": 35,
     "metadata": {},
     "output_type": "execute_result"
    }
   ],
   "source": [
    "# обработаем столбец 'Лифт', разделим его на столбцы пасс. и  груз.\n",
    "df['elevator'].isnull().sum()"
   ]
  },
  {
   "cell_type": "code",
   "execution_count": 36,
   "metadata": {
    "colab": {
     "base_uri": "https://localhost:8080/"
    },
    "executionInfo": {
     "elapsed": 10,
     "status": "ok",
     "timestamp": 1735668957015,
     "user": {
      "displayName": "Galina Chapygina",
      "userId": "04102099207076723574"
     },
     "user_tz": -180
    },
    "id": "FS1O84ibUwC-",
    "outputId": "7399cb5f-c03c-4ef5-ccdd-74d7979eaa30"
   },
   "outputs": [
    {
     "name": "stderr",
     "output_type": "stream",
     "text": [
      "/tmp/ipykernel_6161/2814539709.py:1: FutureWarning: A value is trying to be set on a copy of a DataFrame or Series through chained assignment using an inplace method.\n",
      "The behavior will change in pandas 3.0. This inplace method will never work because the intermediate object on which we are setting values always behaves as a copy.\n",
      "\n",
      "For example, when doing 'df[col].method(value, inplace=True)', try using 'df.method({col: value}, inplace=True)' or df[col] = df[col].method(value) instead, to perform the operation inplace on the original object.\n",
      "\n",
      "\n",
      "  df['elevator'].fillna('Пасс (0), Груз (0)', inplace=True)\n"
     ]
    }
   ],
   "source": [
    "df['elevator'].fillna('Пасс (0), Груз (0)', inplace=True)"
   ]
  },
  {
   "cell_type": "code",
   "execution_count": 37,
   "metadata": {
    "executionInfo": {
     "elapsed": 416,
     "status": "ok",
     "timestamp": 1735668957427,
     "user": {
      "displayName": "Galina Chapygina",
      "userId": "04102099207076723574"
     },
     "user_tz": -180
    },
    "id": "WqpLks9qVJcM"
   },
   "outputs": [],
   "source": [
    "df['elevator_passenger'] = [row.split(' ')[1] if (row.split(' ')[0]) == 'Пасс' else '(0)' for row in df['elevator']]\n",
    "df['elevator_freight'] = [row.split(' ')[-1] if (row.split(' ')[-2]) == 'Груз' else '(0)' for row in df['elevator']]"
   ]
  },
  {
   "cell_type": "code",
   "execution_count": 38,
   "metadata": {
    "executionInfo": {
     "elapsed": 251,
     "status": "ok",
     "timestamp": 1735668957675,
     "user": {
      "displayName": "Galina Chapygina",
      "userId": "04102099207076723574"
     },
     "user_tz": -180
    },
    "id": "M1rZovTuVmS0"
   },
   "outputs": [],
   "source": [
    "# Формируем столбцы\n",
    "df['elevator_passenger'] = [row.split('(')[1] for row in df['elevator_passenger']]\n",
    "df['elevator_passenger'] = [int(row.split(')')[0]) for row in df['elevator_passenger']]\n",
    "df['elevator_freight'] = [row.split('(')[1] for row in df['elevator_freight']]\n",
    "df['elevator_freight'] = [int(row.split(')')[0]) for row in df['elevator_freight']]\n",
    "df = df.drop(['elevator'], axis = 1)"
   ]
  },
  {
   "cell_type": "code",
   "execution_count": 39,
   "metadata": {
    "colab": {
     "base_uri": "https://localhost:8080/"
    },
    "executionInfo": {
     "elapsed": 9,
     "status": "ok",
     "timestamp": 1735668957676,
     "user": {
      "displayName": "Galina Chapygina",
      "userId": "04102099207076723574"
     },
     "user_tz": -180
    },
    "id": "dVxCFTaHX9wD",
    "outputId": "95cea5f8-af3f-4bdb-d02d-9267607ce3b9"
   },
   "outputs": [
    {
     "name": "stderr",
     "output_type": "stream",
     "text": [
      "/tmp/ipykernel_6161/2743478637.py:2: FutureWarning: A value is trying to be set on a copy of a DataFrame or Series through chained assignment using an inplace method.\n",
      "The behavior will change in pandas 3.0. This inplace method will never work because the intermediate object on which we are setting values always behaves as a copy.\n",
      "\n",
      "For example, when doing 'df[col].method(value, inplace=True)', try using 'df.method({col: value}, inplace=True)' or df[col] = df[col].method(value) instead, to perform the operation inplace on the original object.\n",
      "\n",
      "\n",
      "  df['balcony'].fillna('Балкон (0), Лоджия (0)', inplace=True)\n"
     ]
    }
   ],
   "source": [
    "# Обрабатываем колонку \"балкон\"\n",
    "df['balcony'].fillna('Балкон (0), Лоджия (0)', inplace=True)"
   ]
  },
  {
   "cell_type": "code",
   "execution_count": 40,
   "metadata": {
    "executionInfo": {
     "elapsed": 6,
     "status": "ok",
     "timestamp": 1735668957676,
     "user": {
      "displayName": "Galina Chapygina",
      "userId": "04102099207076723574"
     },
     "user_tz": -180
    },
    "id": "BOA18k3eYQAY"
   },
   "outputs": [],
   "source": [
    "df['loggia_count'] = [row.split(' ')[-1] if (row.split(' ')[-2]) == 'Лоджия' else '(0)' for row in df['balcony']]\n",
    "df['balcony_count'] = [row.split(' ')[1] if row.split(' ')[0] == 'Балкон' else '(0)' for row in df['balcony']]"
   ]
  },
  {
   "cell_type": "code",
   "execution_count": 41,
   "metadata": {
    "executionInfo": {
     "elapsed": 334,
     "status": "ok",
     "timestamp": 1735668958005,
     "user": {
      "displayName": "Galina Chapygina",
      "userId": "04102099207076723574"
     },
     "user_tz": -180
    },
    "id": "L0HjonOrYp4Z"
   },
   "outputs": [],
   "source": [
    "# Корректируем значения, избавляясь от скобок и переделывая из str в int\n",
    "df['loggia_count'] = [row.split('(')[1] for row in df['loggia_count']]\n",
    "df['loggia_count'] = [int(row.split(')')[0]) for row in df['loggia_count']]\n",
    "df['balcony_count'] = [row.split('(')[1] for row in df['balcony_count']]\n",
    "df['balcony_count'] = [int(row.split(')')[0]) for row in df['balcony_count']]\n",
    "\n",
    "df.drop('balcony', axis=1, inplace=True)"
   ]
  },
  {
   "cell_type": "code",
   "execution_count": 42,
   "metadata": {
    "colab": {
     "base_uri": "https://localhost:8080/"
    },
    "executionInfo": {
     "elapsed": 14,
     "status": "ok",
     "timestamp": 1735668958005,
     "user": {
      "displayName": "Galina Chapygina",
      "userId": "04102099207076723574"
     },
     "user_tz": -180
    },
    "id": "5t2xxQTeXp6K",
    "outputId": "cb6d1d66-727a-473b-c64e-beb809206fac"
   },
   "outputs": [
    {
     "name": "stderr",
     "output_type": "stream",
     "text": [
      "/tmp/ipykernel_6161/1132330598.py:1: FutureWarning: A value is trying to be set on a copy of a DataFrame or Series through chained assignment using an inplace method.\n",
      "The behavior will change in pandas 3.0. This inplace method will never work because the intermediate object on which we are setting values always behaves as a copy.\n",
      "\n",
      "For example, when doing 'df[col].method(value, inplace=True)', try using 'df.method({col: value}, inplace=True)' or df[col] = df[col].method(value) instead, to perform the operation inplace on the original object.\n",
      "\n",
      "\n",
      "  df['сeiling_height_m'].fillna(df['сeiling_height_m'].median(), inplace=True)\n"
     ]
    }
   ],
   "source": [
    "df['сeiling_height_m'].fillna(df['сeiling_height_m'].median(), inplace=True)"
   ]
  },
  {
   "cell_type": "code",
   "execution_count": 43,
   "metadata": {
    "colab": {
     "base_uri": "https://localhost:8080/"
    },
    "executionInfo": {
     "elapsed": 12,
     "status": "ok",
     "timestamp": 1735668958005,
     "user": {
      "displayName": "Galina Chapygina",
      "userId": "04102099207076723574"
     },
     "user_tz": -180
    },
    "id": "fDPFgumubuVr",
    "outputId": "16bf9538-df54-4d52-b8a2-3b4da69d411e"
   },
   "outputs": [
    {
     "name": "stderr",
     "output_type": "stream",
     "text": [
      "/tmp/ipykernel_6161/281109190.py:2: FutureWarning: A value is trying to be set on a copy of a DataFrame or Series through chained assignment using an inplace method.\n",
      "The behavior will change in pandas 3.0. This inplace method will never work because the intermediate object on which we are setting values always behaves as a copy.\n",
      "\n",
      "For example, when doing 'df[col].method(value, inplace=True)', try using 'df.method({col: value}, inplace=True)' or df[col] = df[col].method(value) instead, to perform the operation inplace on the original object.\n",
      "\n",
      "\n",
      "  df['trash_chute'].fillna('Нет', inplace=True)\n"
     ]
    }
   ],
   "source": [
    "# обработаем колонку 'мусоропровод'\n",
    "df['trash_chute'].fillna('Нет', inplace=True)\n",
    "df['trash_chute'] = df['trash_chute'].map({'Да': '1', 'Нет': '0'}).astype(int)"
   ]
  },
  {
   "cell_type": "code",
   "execution_count": 44,
   "metadata": {
    "executionInfo": {
     "elapsed": 7,
     "status": "ok",
     "timestamp": 1735668958005,
     "user": {
      "displayName": "Galina Chapygina",
      "userId": "04102099207076723574"
     },
     "user_tz": -180
    },
    "id": "haFIy3c3c8hU"
   },
   "outputs": [],
   "source": [
    "def pred_window(value: str) -> tuple:\n",
    "  if value == 'На улицу и двор':\n",
    "      return (1, 1)\n",
    "  elif value == 'Во двор':\n",
    "      return (0, 1)\n",
    "  elif value == 'На улицу':\n",
    "      return (1, 0)\n",
    "  return (0, 0)"
   ]
  },
  {
   "cell_type": "code",
   "execution_count": 45,
   "metadata": {
    "executionInfo": {
     "elapsed": 5085,
     "status": "ok",
     "timestamp": 1735668963085,
     "user": {
      "displayName": "Galina Chapygina",
      "userId": "04102099207076723574"
     },
     "user_tz": -180
    },
    "id": "FLvGpbjye8H3"
   },
   "outputs": [],
   "source": [
    "df[['windows_street', 'windows_yard']] = df['windows'].apply(lambda x: pd.Series(pred_window(x)))\n",
    "df.drop('windows', axis=1, inplace=True)"
   ]
  },
  {
   "cell_type": "code",
   "execution_count": 46,
   "metadata": {
    "executionInfo": {
     "elapsed": 23,
     "status": "ok",
     "timestamp": 1735668963086,
     "user": {
      "displayName": "Galina Chapygina",
      "userId": "04102099207076723574"
     },
     "user_tz": -180
    },
    "id": "kCPvyOdNhJct"
   },
   "outputs": [],
   "source": [
    "# удалим ненужные столбцы\n",
    "df.drop(columns=['complex_name', 'house_series'], axis=1, inplace=True)"
   ]
  },
  {
   "cell_type": "code",
   "execution_count": 47,
   "metadata": {
    "colab": {
     "base_uri": "https://localhost:8080/"
    },
    "executionInfo": {
     "elapsed": 19,
     "status": "ok",
     "timestamp": 1735668963086,
     "user": {
      "displayName": "Galina Chapygina",
      "userId": "04102099207076723574"
     },
     "user_tz": -180
    },
    "id": "xwqXw_Iffq8Q",
    "outputId": "b0865859-73b5-4233-b607-3dfbadce9738"
   },
   "outputs": [
    {
     "name": "stderr",
     "output_type": "stream",
     "text": [
      "/tmp/ipykernel_6161/649805367.py:1: FutureWarning: A value is trying to be set on a copy of a DataFrame or Series through chained assignment using an inplace method.\n",
      "The behavior will change in pandas 3.0. This inplace method will never work because the intermediate object on which we are setting values always behaves as a copy.\n",
      "\n",
      "For example, when doing 'df[col].method(value, inplace=True)', try using 'df.method({col: value}, inplace=True)' or df[col] = df[col].method(value) instead, to perform the operation inplace on the original object.\n",
      "\n",
      "\n",
      "  df['repair'].fillna('Без ремонта', inplace=True)\n"
     ]
    }
   ],
   "source": [
    "df['repair'].fillna('Без ремонта', inplace=True)"
   ]
  },
  {
   "cell_type": "code",
   "execution_count": 48,
   "metadata": {
    "executionInfo": {
     "elapsed": 14,
     "status": "ok",
     "timestamp": 1735668963087,
     "user": {
      "displayName": "Galina Chapygina",
      "userId": "04102099207076723574"
     },
     "user_tz": -180
    },
    "id": "FiBt01qZhgOc"
   },
   "outputs": [],
   "source": [
    "def pred_child_pets(value: str) -> tuple:\n",
    "  if value == 'Можно с детьми, Можно с животными':\n",
    "      return (1, 1)\n",
    "  elif value == 'Можно с детьми':\n",
    "      return (0, 1)\n",
    "  elif value == 'Можно с животными':\n",
    "      return (1, 0)\n",
    "  return (0, 0)"
   ]
  },
  {
   "cell_type": "code",
   "execution_count": 49,
   "metadata": {
    "executionInfo": {
     "elapsed": 3831,
     "status": "ok",
     "timestamp": 1735668966905,
     "user": {
      "displayName": "Galina Chapygina",
      "userId": "04102099207076723574"
     },
     "user_tz": -180
    },
    "id": "De2MjXshhtnP"
   },
   "outputs": [],
   "source": [
    "# разобъём столбец Можно с детьми/животными на два\n",
    "df[['with_child', 'with_pets']] = df['children_pets'].apply(lambda x: pd.Series(pred_child_pets(x)))\n",
    "df.drop('children_pets', axis=1, inplace=True)"
   ]
  },
  {
   "cell_type": "code",
   "execution_count": 50,
   "metadata": {
    "executionInfo": {
     "elapsed": 16,
     "status": "ok",
     "timestamp": 1735668966907,
     "user": {
      "displayName": "Galina Chapygina",
      "userId": "04102099207076723574"
     },
     "user_tz": -180
    },
    "id": "JaacrgAql_J1"
   },
   "outputs": [],
   "source": [
    "# удаляем ненужные столбцы\n",
    "df.drop(columns=['phones', 'description', 'area_rooms_m2'], axis=1, inplace=True)"
   ]
  },
  {
   "cell_type": "code",
   "execution_count": 51,
   "metadata": {
    "executionInfo": {
     "elapsed": 15,
     "status": "ok",
     "timestamp": 1735668966908,
     "user": {
      "displayName": "Galina Chapygina",
      "userId": "04102099207076723574"
     },
     "user_tz": -180
    },
    "id": "kEqxy0pPrMZ5"
   },
   "outputs": [],
   "source": [
    "def sale(text: str) -> float:\n",
    "  if text.split(' ')[1] == 'руб.':\n",
    "    result = float(text.split(' ')[0])\n",
    "  elif text.split(' ')[1] == '$':\n",
    "    result = float(text.split(' ')[0]) * 99.98\n",
    "  elif text.split(' ')[1] == '€':\n",
    "    result = float(text.split(' ')[0]) * 103.99\n",
    "  return result"
   ]
  },
  {
   "cell_type": "code",
   "execution_count": 52,
   "metadata": {
    "executionInfo": {
     "elapsed": 15,
     "status": "ok",
     "timestamp": 1735668966909,
     "user": {
      "displayName": "Galina Chapygina",
      "userId": "04102099207076723574"
     },
     "user_tz": -180
    },
    "id": "Do1MKMi6nBn7"
   },
   "outputs": [],
   "source": [
    "# расмотрим столбец Цена\n",
    "df['price_month'] = df.price.astype(str).apply(lambda x: x.split(',')[0][:x.split(',')[0].find('/')])\n",
    "df['price_month'] = df.price_month.apply(lambda x: sale(x))\n",
    "df['price_month'] = pd.to_numeric(df['price_month'])"
   ]
  },
  {
   "cell_type": "code",
   "execution_count": 53,
   "metadata": {
    "executionInfo": {
     "elapsed": 14,
     "status": "ok",
     "timestamp": 1735668966910,
     "user": {
      "displayName": "Galina Chapygina",
      "userId": "04102099207076723574"
     },
     "user_tz": -180
    },
    "id": "z4QNAl2Nu9CQ"
   },
   "outputs": [],
   "source": [
    "def deposit(data: pd.DataFrame) -> str:\n",
    "    out_str = ''\n",
    "    for el in data.split(','):\n",
    "        if \"Залог\" in el:\n",
    "            if '$'in el:\n",
    "                out_str += str(float(el[el.find('-') + 1: el.find('$')]) * 99.98)\n",
    "            elif '€' in el:\n",
    "                out_str += str(float(el[el.find('-') + 1: el.find('€')]) * 103.99)\n",
    "            else:\n",
    "                out_str += el[el.find('-') + 1: el.find('р')]\n",
    "    return out_str"
   ]
  },
  {
   "cell_type": "code",
   "execution_count": 54,
   "metadata": {
    "executionInfo": {
     "elapsed": 285,
     "status": "ok",
     "timestamp": 1735668967183,
     "user": {
      "displayName": "Galina Chapygina",
      "userId": "04102099207076723574"
     },
     "user_tz": -180
    },
    "id": "4x0E-abDtI6w"
   },
   "outputs": [],
   "source": [
    "df['price_deposit'] = df.price.astype(str).apply(deposit)\n",
    "df['price_deposit'] = pd.to_numeric(df['price_deposit'])"
   ]
  },
  {
   "cell_type": "code",
   "execution_count": 55,
   "metadata": {
    "colab": {
     "base_uri": "https://localhost:8080/"
    },
    "executionInfo": {
     "elapsed": 16,
     "status": "ok",
     "timestamp": 1735668967183,
     "user": {
      "displayName": "Galina Chapygina",
      "userId": "04102099207076723574"
     },
     "user_tz": -180
    },
    "id": "shXqWb8y3KfE",
    "outputId": "d13a747c-5177-4ffc-b3ea-532a0b2f1a02"
   },
   "outputs": [
    {
     "name": "stderr",
     "output_type": "stream",
     "text": [
      "/tmp/ipykernel_6161/53370475.py:1: FutureWarning: A value is trying to be set on a copy of a DataFrame or Series through chained assignment using an inplace method.\n",
      "The behavior will change in pandas 3.0. This inplace method will never work because the intermediate object on which we are setting values always behaves as a copy.\n",
      "\n",
      "For example, when doing 'df[col].method(value, inplace=True)', try using 'df.method({col: value}, inplace=True)' or df[col] = df[col].method(value) instead, to perform the operation inplace on the original object.\n",
      "\n",
      "\n",
      "  df['price_deposit'].fillna(0, inplace=True)\n"
     ]
    }
   ],
   "source": [
    "df['price_deposit'].fillna(0, inplace=True)"
   ]
  },
  {
   "cell_type": "code",
   "execution_count": 56,
   "metadata": {
    "executionInfo": {
     "elapsed": 13,
     "status": "ok",
     "timestamp": 1735668967184,
     "user": {
      "displayName": "Galina Chapygina",
      "userId": "04102099207076723574"
     },
     "user_tz": -180
    },
    "id": "CJp1TUkw1UOJ"
   },
   "outputs": [],
   "source": [
    "# создадим столбец Коммунальные платежи. Если они включены, то при ровняем к 0. Если нет, то запишем сумму в столбец\n",
    "def utility_bills(data: pd.DataFrame) -> str:\n",
    "  result = ''\n",
    "  for el in data.split(','):\n",
    "    if 'Сумма коммунальных платежей' in el:\n",
    "      result = el[el.find('-') + 1 : el.find('р')]\n",
    "    elif 'Коммунальные услуги включены' in el:\n",
    "      result = '0'\n",
    "  return result"
   ]
  },
  {
   "cell_type": "code",
   "execution_count": 57,
   "metadata": {
    "executionInfo": {
     "elapsed": 13,
     "status": "ok",
     "timestamp": 1735668967185,
     "user": {
      "displayName": "Galina Chapygina",
      "userId": "04102099207076723574"
     },
     "user_tz": -180
    },
    "id": "QsInd6Kt63r_"
   },
   "outputs": [],
   "source": [
    "df['communal'] = df.price.astype(str).apply(utility_bills)\n",
    "df.loc[df['communal'] == '','communal'] = 0\n",
    "df['communal'] = pd.to_numeric(df['communal'])"
   ]
  },
  {
   "cell_type": "code",
   "execution_count": 58,
   "metadata": {
    "executionInfo": {
     "elapsed": 12,
     "status": "ok",
     "timestamp": 1735668967185,
     "user": {
      "displayName": "Galina Chapygina",
      "userId": "04102099207076723574"
     },
     "user_tz": -180
    },
    "id": "oE7JRWW5Akgk"
   },
   "outputs": [],
   "source": [
    "def prepayment_pres(data: pd.DataFrame) -> str:\n",
    "  result = ''\n",
    "  for el in data.split(','):\n",
    "    if 'Предоплата' in el:\n",
    "      result = el[el.find('а') + 4 : el.find('м')]\n",
    "    else:\n",
    "      result = '0'\n",
    "  return result"
   ]
  },
  {
   "cell_type": "code",
   "execution_count": 59,
   "metadata": {
    "executionInfo": {
     "elapsed": 11,
     "status": "ok",
     "timestamp": 1735668967185,
     "user": {
      "displayName": "Galina Chapygina",
      "userId": "04102099207076723574"
     },
     "user_tz": -180
    },
    "id": "5FCbTFW4D5qA"
   },
   "outputs": [],
   "source": [
    "df['prepayment'] = df.price.astype(str).apply(prepayment_pres)\n",
    "df['prepayment'] = pd.to_numeric(df['prepayment'])"
   ]
  },
  {
   "cell_type": "code",
   "execution_count": 60,
   "metadata": {
    "executionInfo": {
     "elapsed": 10,
     "status": "ok",
     "timestamp": 1735668967185,
     "user": {
      "displayName": "Galina Chapygina",
      "userId": "04102099207076723574"
     },
     "user_tz": -180
    },
    "id": "9VMuR0bHE-PB"
   },
   "outputs": [],
   "source": [
    "def lease_period(data: pd.DataFrame) -> str:\n",
    "  result = ''\n",
    "  for el in data.split(','):\n",
    "    if 'Срок аренды' in el:\n",
    "      result = el[el.find('-') + 1:]\n",
    "  return result"
   ]
  },
  {
   "cell_type": "code",
   "execution_count": 61,
   "metadata": {
    "executionInfo": {
     "elapsed": 247,
     "status": "ok",
     "timestamp": 1735668967423,
     "user": {
      "displayName": "Galina Chapygina",
      "userId": "04102099207076723574"
     },
     "user_tz": -180
    },
    "id": "pClKgUyTIyqT"
   },
   "outputs": [],
   "source": [
    "df['period'] = df.price.astype(str).apply(lease_period)"
   ]
  },
  {
   "cell_type": "code",
   "execution_count": 62,
   "metadata": {
    "executionInfo": {
     "elapsed": 7,
     "status": "ok",
     "timestamp": 1735668967423,
     "user": {
      "displayName": "Galina Chapygina",
      "userId": "04102099207076723574"
     },
     "user_tz": -180
    },
    "id": "--vk6XPUJSvj"
   },
   "outputs": [],
   "source": [
    "df.drop('price', axis=1, inplace=True)"
   ]
  },
  {
   "cell_type": "code",
   "execution_count": 63,
   "metadata": {
    "executionInfo": {
     "elapsed": 7,
     "status": "ok",
     "timestamp": 1735668967424,
     "user": {
      "displayName": "Galina Chapygina",
      "userId": "04102099207076723574"
     },
     "user_tz": -180
    },
    "id": "PZcvTv2ZINQ7"
   },
   "outputs": [],
   "source": [
    "# почистим данные, оставим только Москву\n",
    "df = df[df['address'].str.contains('Москва')]"
   ]
  },
  {
   "cell_type": "code",
   "execution_count": 64,
   "metadata": {
    "executionInfo": {
     "elapsed": 7,
     "status": "ok",
     "timestamp": 1735668967424,
     "user": {
      "displayName": "Galina Chapygina",
      "userId": "04102099207076723574"
     },
     "user_tz": -180
    },
    "id": "X5DQn70eJ5al"
   },
   "outputs": [],
   "source": [
    "# избавимся также и от адресов из Зеленограда\n",
    "df = df[~df['address'].str.split(',').str[1].str.contains('Зеленоград')]"
   ]
  },
  {
   "cell_type": "code",
   "execution_count": 65,
   "metadata": {
    "executionInfo": {
     "elapsed": 268,
     "status": "ok",
     "timestamp": 1735668967686,
     "user": {
      "displayName": "Galina Chapygina",
      "userId": "04102099207076723574"
     },
     "user_tz": -180
    },
    "id": "f1JgJbb6K0bB"
   },
   "outputs": [],
   "source": [
    "# оставляем только название метро в столбце Метро\n",
    "df['subway_name'] = df.subway.astype(str).apply(lambda x: x.split('(')[0][x.split('(')[0].strip().find('.') + 1:].strip())\n",
    "df.loc[df['subway_name'] == 'n', 'subway_name'] = np.nan"
   ]
  },
  {
   "cell_type": "code",
   "execution_count": 66,
   "metadata": {
    "executionInfo": {
     "elapsed": 8,
     "status": "ok",
     "timestamp": 1735668967687,
     "user": {
      "displayName": "Galina Chapygina",
      "userId": "04102099207076723574"
     },
     "user_tz": -180
    },
    "id": "sAlDbXY6XumM"
   },
   "outputs": [],
   "source": [
    "\n",
    "translate = {\n",
    "    'Мебель в комнатах': 'is_room_furniture',\n",
    "    'Мебель на кухне': 'is_kitchen_furniture',\n",
    "    'Ванна': 'is_bathtub',\n",
    "    'Душевая кабина': 'is_shower_cabin',\n",
    "    'Стиральная машина': 'is_washing_machine',\n",
    "    'Кондиционер': 'is_air_conditioner',\n",
    "    'Посудомоечная машина': 'is_dishwasher',\n",
    "    'Телевизор': 'is_tv',\n",
    "    'Холодильник': 'is_refrigerator',\n",
    "    'Интернет': 'is_internet',\n",
    "    'Телефон': 'is_phone',\n",
    "}"
   ]
  },
  {
   "cell_type": "code",
   "execution_count": 67,
   "metadata": {
    "executionInfo": {
     "elapsed": 7,
     "status": "ok",
     "timestamp": 1735668967687,
     "user": {
      "displayName": "Galina Chapygina",
      "userId": "04102099207076723574"
     },
     "user_tz": -180
    },
    "id": "OpeRqamAVlHZ"
   },
   "outputs": [],
   "source": [
    "# вытащим все, что можно из столбца Дополнительно\n",
    "# df.optional.unique()\n",
    "\n",
    "all_result = set()\n",
    "\n",
    "# пройдёмся по каждой строке, выделим уникальные значения\n",
    "for items in df['optional'].dropna():\n",
    "  for el in items.split(', '):\n",
    "    all_result.add(el)"
   ]
  },
  {
   "cell_type": "code",
   "execution_count": 68,
   "metadata": {
    "executionInfo": {
     "elapsed": 593,
     "status": "ok",
     "timestamp": 1735668968273,
     "user": {
      "displayName": "Galina Chapygina",
      "userId": "04102099207076723574"
     },
     "user_tz": -180
    },
    "id": "umRbEBCdcpA1"
   },
   "outputs": [],
   "source": [
    "# создадим словарь\n",
    "translate = {\n",
    "    'Ванна': 'is_bathtub',\n",
    "    'Душевая кабина': 'is_shower_cabin',\n",
    "    'Интернет': 'is_internet',\n",
    "    'Кондиционер': 'is_air_conditioner',\n",
    "    'Мебель в комнатах': 'is_room_furniture',\n",
    "    'Мебель на кухне': 'is_kitchen_furniture',\n",
    "    'Посудомоечная машина': 'is_dishwasher',\n",
    "    'Стиральная машина': 'is_washing_machine',\n",
    "    'Телевизор': 'is_tv',\n",
    "    'Телефон': 'is_phone',\n",
    "    'Холодильник': 'is_refrigerator',\n",
    "}\n",
    "\n",
    "# Для каждого уникального значения создаем отдельную колонку в таблице с переводом\n",
    "for el in all_result:\n",
    "    if el in translate:\n",
    "        name = translate[el]\n",
    "        df[name] = df['optional'].apply(lambda x: 1 if pd.notna(x) and el in x else 0)\n",
    "    else:\n",
    "        # Если нет перевода, используем оригинальное название\n",
    "        name = el.lower().replace(' ', '_')\n",
    "        df[name] = df['optional'].apply(lambda x: 1 if pd.notna(x) and el in x else 0)"
   ]
  },
  {
   "cell_type": "code",
   "execution_count": 69,
   "metadata": {
    "executionInfo": {
     "elapsed": 15,
     "status": "ok",
     "timestamp": 1735668968275,
     "user": {
      "displayName": "Galina Chapygina",
      "userId": "04102099207076723574"
     },
     "user_tz": -180
    },
    "id": "k38bK9v5eaNo"
   },
   "outputs": [],
   "source": [
    "# удалим столбцы\n",
    "df.drop('optional', axis=1, inplace=True)"
   ]
  },
  {
   "cell_type": "code",
   "execution_count": 70,
   "metadata": {
    "executionInfo": {
     "elapsed": 14,
     "status": "ok",
     "timestamp": 1735668968275,
     "user": {
      "displayName": "Galina Chapygina",
      "userId": "04102099207076723574"
     },
     "user_tz": -180
    },
    "id": "dpWu4eRKxzg1"
   },
   "outputs": [],
   "source": [
    "# удалить объявления, где залог больше цены в месяц в 2 и более раз\n",
    "df = df[~(df['price_month'] * 2 < df['price_deposit'])]"
   ]
  },
  {
   "cell_type": "code",
   "execution_count": 71,
   "metadata": {
    "executionInfo": {
     "elapsed": 14,
     "status": "ok",
     "timestamp": 1735668968276,
     "user": {
      "displayName": "Galina Chapygina",
      "userId": "04102099207076723574"
     },
     "user_tz": -180
    },
    "id": "lR8fMPuKnv7C"
   },
   "outputs": [],
   "source": [
    "# обработаем выброс в столбце Высота потолка\n",
    "height_mean = df['сeiling_height_m'].mean()\n",
    "height_std = df['сeiling_height_m'].std()\n",
    "\n",
    "# определим границы на\n",
    "lower = height_mean - 3*height_std\n",
    "upper = height_mean + 3*height_std"
   ]
  },
  {
   "cell_type": "code",
   "execution_count": 72,
   "metadata": {
    "executionInfo": {
     "elapsed": 14,
     "status": "ok",
     "timestamp": 1735668968276,
     "user": {
      "displayName": "Galina Chapygina",
      "userId": "04102099207076723574"
     },
     "user_tz": -180
    },
    "id": "OMaw7uGvqK_Z"
   },
   "outputs": [],
   "source": [
    "df = df[(df['сeiling_height_m'] >= lower) & (df['сeiling_height_m'] <= upper)]"
   ]
  },
  {
   "cell_type": "code",
   "execution_count": 73,
   "metadata": {
    "executionInfo": {
     "elapsed": 13,
     "status": "ok",
     "timestamp": 1735668968276,
     "user": {
      "displayName": "Galina Chapygina",
      "userId": "04102099207076723574"
     },
     "user_tz": -180
    },
    "id": "DKkAw9o_uI1n"
   },
   "outputs": [],
   "source": [
    "# удаляем все строки где предоплата больше чем за 1 месяц\n",
    "df = df[~(df['prepayment'] > 1)]"
   ]
  },
  {
   "cell_type": "code",
   "execution_count": 74,
   "metadata": {
    "executionInfo": {
     "elapsed": 13,
     "status": "ok",
     "timestamp": 1735668968277,
     "user": {
      "displayName": "Galina Chapygina",
      "userId": "04102099207076723574"
     },
     "user_tz": -180
    },
    "id": "xhqNGNTvtvFT"
   },
   "outputs": [],
   "source": [
    "df.drop(columns=['address', 'subway'], axis=1, inplace=True)"
   ]
  },
  {
   "cell_type": "code",
   "execution_count": 75,
   "metadata": {
    "executionInfo": {
     "elapsed": 12,
     "status": "ok",
     "timestamp": 1735668968277,
     "user": {
      "displayName": "Galina Chapygina",
      "userId": "04102099207076723574"
     },
     "user_tz": -180
    },
    "id": "_0jMFNrbw0sQ"
   },
   "outputs": [],
   "source": [
    "def type_rooms_house(value: str) -> tuple:\n",
    "  if value == 'Оба варианта':\n",
    "    return (1, 1)\n",
    "  elif value == 'Изолированная':\n",
    "    return (1, 0)\n",
    "  elif value == 'Смежная':\n",
    "    return (0, 1)\n",
    "  elif value == 'Неизвестно':\n",
    "    return (0, 0)\n",
    "  return (0, 0)"
   ]
  },
  {
   "cell_type": "code",
   "execution_count": 76,
   "metadata": {
    "executionInfo": {
     "elapsed": 3288,
     "status": "ok",
     "timestamp": 1735668971553,
     "user": {
      "displayName": "Galina Chapygina",
      "userId": "04102099207076723574"
     },
     "user_tz": -180
    },
    "id": "Rw6Inr0vzOuT"
   },
   "outputs": [],
   "source": [
    "df[['isolated_rooms', 'adjoining_rooms']] = df['type_rooms'].apply(lambda x: pd.Series(type_rooms_house(x)))\n",
    "df.drop('type_rooms', axis=1, inplace=True)"
   ]
  },
  {
   "cell_type": "code",
   "execution_count": 77,
   "metadata": {
    "executionInfo": {
     "elapsed": 26,
     "status": "ok",
     "timestamp": 1735668971553,
     "user": {
      "displayName": "Galina Chapygina",
      "userId": "04102099207076723574"
     },
     "user_tz": -180
    },
    "id": "n4K-Tr_q1O0M"
   },
   "outputs": [],
   "source": [
    "# Естественно-упорядоченными данными в датафрейме является колонка period\n",
    "# и renovation для нее можно использовать метод Label Encoding\n",
    "le = LabelEncoder()\n",
    "df['period'] = le.fit_transform(df['period'])"
   ]
  },
  {
   "cell_type": "code",
   "execution_count": 78,
   "metadata": {
    "executionInfo": {
     "elapsed": 25,
     "status": "ok",
     "timestamp": 1735668971553,
     "user": {
      "displayName": "Galina Chapygina",
      "userId": "04102099207076723574"
     },
     "user_tz": -180
    },
    "id": "DLlkDenM2aiR"
   },
   "outputs": [],
   "source": [
    "df['repair'] = le.fit_transform(df['repair'])\n",
    "df['parking'] = le.fit_transform(df['parking'])"
   ]
  },
  {
   "cell_type": "code",
   "execution_count": 79,
   "metadata": {
    "executionInfo": {
     "elapsed": 297,
     "status": "ok",
     "timestamp": 1735669569597,
     "user": {
      "displayName": "Galina Chapygina",
      "userId": "04102099207076723574"
     },
     "user_tz": -180
    },
    "id": "HyZ7SmxJ6MGQ"
   },
   "outputs": [],
   "source": [
    "df['subway_name'] = df['subway_name'].map(df['subway_name'].value_counts(normalize=True))\n",
    "df['house_type'] = df['house_type'].map(df['house_type'].value_counts(normalize=True))"
   ]
  },
  {
   "cell_type": "code",
   "execution_count": 80,
   "metadata": {
    "executionInfo": {
     "elapsed": 251,
     "status": "ok",
     "timestamp": 1735670069073,
     "user": {
      "displayName": "Galina Chapygina",
      "userId": "04102099207076723574"
     },
     "user_tz": -180
    },
    "id": "ostx5F9I_lMq"
   },
   "outputs": [],
   "source": [
    "df['price_per_month'] = df['price_month']\n",
    "df.drop('price_month', axis=1, inplace=True)"
   ]
  },
  {
   "cell_type": "code",
   "execution_count": 81,
   "metadata": {
    "colab": {
     "base_uri": "https://localhost:8080/",
     "height": 132
    },
    "executionInfo": {
     "elapsed": 223,
     "status": "ok",
     "timestamp": 1735670070970,
     "user": {
      "displayName": "Galina Chapygina",
      "userId": "04102099207076723574"
     },
     "user_tz": -180
    },
    "id": "n4xnaqP2ljSq",
    "outputId": "0073cf3d-3d63-4256-fce3-c33671dbbc86"
   },
   "outputs": [
    {
     "data": {
      "text/html": [
       "<div>\n",
       "<style scoped>\n",
       "    .dataframe tbody tr th:only-of-type {\n",
       "        vertical-align: middle;\n",
       "    }\n",
       "\n",
       "    .dataframe tbody tr th {\n",
       "        vertical-align: top;\n",
       "    }\n",
       "\n",
       "    .dataframe thead th {\n",
       "        text-align: right;\n",
       "    }\n",
       "</style>\n",
       "<table border=\"1\" class=\"dataframe\">\n",
       "  <thead>\n",
       "    <tr style=\"text-align: right;\">\n",
       "      <th></th>\n",
       "      <th>id_ads</th>\n",
       "      <th>area_m2</th>\n",
       "      <th>parking</th>\n",
       "      <th>repair</th>\n",
       "      <th>сeiling_height_m</th>\n",
       "      <th>trash_chute</th>\n",
       "      <th>count_rooms</th>\n",
       "      <th>floor</th>\n",
       "      <th>floor_number</th>\n",
       "      <th>house_type</th>\n",
       "      <th>bathroom_combined</th>\n",
       "      <th>bathroom_separate</th>\n",
       "      <th>elevator_passenger</th>\n",
       "      <th>elevator_freight</th>\n",
       "      <th>loggia_count</th>\n",
       "      <th>balcony_count</th>\n",
       "      <th>windows_street</th>\n",
       "      <th>windows_yard</th>\n",
       "      <th>with_child</th>\n",
       "      <th>with_pets</th>\n",
       "      <th>price_deposit</th>\n",
       "      <th>communal</th>\n",
       "      <th>prepayment</th>\n",
       "      <th>period</th>\n",
       "      <th>subway_name</th>\n",
       "      <th>is_washing_machine</th>\n",
       "      <th>is_shower_cabin</th>\n",
       "      <th>is_refrigerator</th>\n",
       "      <th>is_kitchen_furniture</th>\n",
       "      <th>is_internet</th>\n",
       "      <th>is_phone</th>\n",
       "      <th>is_dishwasher</th>\n",
       "      <th>is_air_conditioner</th>\n",
       "      <th>is_tv</th>\n",
       "      <th>is_room_furniture</th>\n",
       "      <th>is_bathtub</th>\n",
       "      <th>isolated_rooms</th>\n",
       "      <th>adjoining_rooms</th>\n",
       "      <th>price_per_month</th>\n",
       "    </tr>\n",
       "  </thead>\n",
       "  <tbody>\n",
       "    <tr>\n",
       "      <th>0</th>\n",
       "      <td>271271157</td>\n",
       "      <td>200.0</td>\n",
       "      <td>5</td>\n",
       "      <td>1</td>\n",
       "      <td>3.0</td>\n",
       "      <td>1</td>\n",
       "      <td>4</td>\n",
       "      <td>5</td>\n",
       "      <td>16</td>\n",
       "      <td>0.180595</td>\n",
       "      <td>1</td>\n",
       "      <td>0</td>\n",
       "      <td>4</td>\n",
       "      <td>1</td>\n",
       "      <td>0</td>\n",
       "      <td>0</td>\n",
       "      <td>0</td>\n",
       "      <td>0</td>\n",
       "      <td>1</td>\n",
       "      <td>1</td>\n",
       "      <td>500000.0</td>\n",
       "      <td>0.0</td>\n",
       "      <td>1</td>\n",
       "      <td>0</td>\n",
       "      <td>0.0067</td>\n",
       "      <td>1</td>\n",
       "      <td>1</td>\n",
       "      <td>1</td>\n",
       "      <td>1</td>\n",
       "      <td>1</td>\n",
       "      <td>1</td>\n",
       "      <td>1</td>\n",
       "      <td>1</td>\n",
       "      <td>1</td>\n",
       "      <td>1</td>\n",
       "      <td>1</td>\n",
       "      <td>0</td>\n",
       "      <td>0</td>\n",
       "      <td>500000.0</td>\n",
       "    </tr>\n",
       "    <tr>\n",
       "      <th>1</th>\n",
       "      <td>271634126</td>\n",
       "      <td>198.0</td>\n",
       "      <td>5</td>\n",
       "      <td>1</td>\n",
       "      <td>3.5</td>\n",
       "      <td>0</td>\n",
       "      <td>4</td>\n",
       "      <td>5</td>\n",
       "      <td>16</td>\n",
       "      <td>0.044201</td>\n",
       "      <td>2</td>\n",
       "      <td>1</td>\n",
       "      <td>1</td>\n",
       "      <td>1</td>\n",
       "      <td>0</td>\n",
       "      <td>0</td>\n",
       "      <td>1</td>\n",
       "      <td>1</td>\n",
       "      <td>0</td>\n",
       "      <td>1</td>\n",
       "      <td>500000.0</td>\n",
       "      <td>0.0</td>\n",
       "      <td>1</td>\n",
       "      <td>0</td>\n",
       "      <td>0.0067</td>\n",
       "      <td>1</td>\n",
       "      <td>1</td>\n",
       "      <td>1</td>\n",
       "      <td>1</td>\n",
       "      <td>1</td>\n",
       "      <td>0</td>\n",
       "      <td>1</td>\n",
       "      <td>1</td>\n",
       "      <td>1</td>\n",
       "      <td>1</td>\n",
       "      <td>1</td>\n",
       "      <td>0</td>\n",
       "      <td>0</td>\n",
       "      <td>500000.0</td>\n",
       "    </tr>\n",
       "  </tbody>\n",
       "</table>\n",
       "</div>"
      ],
      "text/plain": [
       "      id_ads  area_m2  parking  repair  сeiling_height_m  trash_chute  \\\n",
       "0  271271157    200.0        5       1               3.0            1   \n",
       "1  271634126    198.0        5       1               3.5            0   \n",
       "\n",
       "   count_rooms  floor  floor_number  house_type  bathroom_combined  \\\n",
       "0            4      5            16    0.180595                  1   \n",
       "1            4      5            16    0.044201                  2   \n",
       "\n",
       "   bathroom_separate  elevator_passenger  elevator_freight  loggia_count  \\\n",
       "0                  0                   4                 1             0   \n",
       "1                  1                   1                 1             0   \n",
       "\n",
       "   balcony_count  windows_street  windows_yard  with_child  with_pets  \\\n",
       "0              0               0             0           1          1   \n",
       "1              0               1             1           0          1   \n",
       "\n",
       "   price_deposit  communal  prepayment  period  subway_name  \\\n",
       "0       500000.0       0.0           1       0       0.0067   \n",
       "1       500000.0       0.0           1       0       0.0067   \n",
       "\n",
       "   is_washing_machine  is_shower_cabin  is_refrigerator  is_kitchen_furniture  \\\n",
       "0                   1                1                1                     1   \n",
       "1                   1                1                1                     1   \n",
       "\n",
       "   is_internet  is_phone  is_dishwasher  is_air_conditioner  is_tv  \\\n",
       "0            1         1              1                   1      1   \n",
       "1            1         0              1                   1      1   \n",
       "\n",
       "   is_room_furniture  is_bathtub  isolated_rooms  adjoining_rooms  \\\n",
       "0                  1           1               0                0   \n",
       "1                  1           1               0                0   \n",
       "\n",
       "   price_per_month  \n",
       "0         500000.0  \n",
       "1         500000.0  "
      ]
     },
     "execution_count": 81,
     "metadata": {},
     "output_type": "execute_result"
    }
   ],
   "source": [
    "df.head(2)"
   ]
  },
  {
   "cell_type": "code",
   "execution_count": 82,
   "metadata": {
    "colab": {
     "base_uri": "https://localhost:8080/"
    },
    "executionInfo": {
     "elapsed": 246,
     "status": "ok",
     "timestamp": 1735670073651,
     "user": {
      "displayName": "Galina Chapygina",
      "userId": "04102099207076723574"
     },
     "user_tz": -180
    },
    "id": "HVBbxysx7-A2",
    "outputId": "fec913ed-3871-4d10-d07f-6f7f2c5f5a5a"
   },
   "outputs": [
    {
     "data": {
      "text/plain": [
       "(19253, 39)"
      ]
     },
     "execution_count": 82,
     "metadata": {},
     "output_type": "execute_result"
    }
   ],
   "source": [
    "df.shape"
   ]
  },
  {
   "cell_type": "code",
   "execution_count": 83,
   "metadata": {
    "executionInfo": {
     "elapsed": 470,
     "status": "ok",
     "timestamp": 1735670294221,
     "user": {
      "displayName": "Galina Chapygina",
      "userId": "04102099207076723574"
     },
     "user_tz": -180
    },
    "id": "GZud-rlLAbkv"
   },
   "outputs": [],
   "source": [
    "df.to_csv('../../data/result.csv')"
   ]
  }
 ],
 "metadata": {
  "colab": {
   "authorship_tag": "ABX9TyMpxKDc2dXu/OqdJqOFSeWy",
   "mount_file_id": "1poiZTug5JEWwH4P5hVigWiAy7m-xVRCK",
   "provenance": []
  },
  "kernelspec": {
   "display_name": "base",
   "language": "python",
   "name": "python3"
  },
  "language_info": {
   "codemirror_mode": {
    "name": "ipython",
    "version": 3
   },
   "file_extension": ".py",
   "mimetype": "text/x-python",
   "name": "python",
   "nbconvert_exporter": "python",
   "pygments_lexer": "ipython3",
   "version": "3.12.8"
  }
 },
 "nbformat": 4,
 "nbformat_minor": 0
}
