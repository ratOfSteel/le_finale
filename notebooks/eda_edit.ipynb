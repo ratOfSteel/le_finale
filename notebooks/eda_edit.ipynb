{
 "cells": [
  {
   "cell_type": "code",
   "execution_count": 1,
   "id": "99b564d6-7cc7-44ac-bfa6-18c30efefffe",
   "metadata": {},
   "outputs": [],
   "source": [
    "import pandas as pd\n",
    "import seaborn as sns\n",
    "import matplotlib.pyplot as plt"
   ]
  },
  {
   "cell_type": "code",
   "execution_count": 2,
   "id": "9fbe9a63-3710-4b0f-a430-cafdb178b7a6",
   "metadata": {},
   "outputs": [],
   "source": [
    "df = pd.read_csv('../data/_data.csv')"
   ]
  },
  {
   "cell_type": "code",
   "execution_count": 3,
   "id": "a586662e-d58d-4966-9d00-2627f137d23b",
   "metadata": {},
   "outputs": [
    {
     "data": {
      "text/html": [
       "<div>\n",
       "<style scoped>\n",
       "    .dataframe tbody tr th:only-of-type {\n",
       "        vertical-align: middle;\n",
       "    }\n",
       "\n",
       "    .dataframe tbody tr th {\n",
       "        vertical-align: top;\n",
       "    }\n",
       "\n",
       "    .dataframe thead th {\n",
       "        text-align: right;\n",
       "    }\n",
       "</style>\n",
       "<table border=\"1\" class=\"dataframe\">\n",
       "  <thead>\n",
       "    <tr style=\"text-align: right;\">\n",
       "      <th></th>\n",
       "      <th>ID  объявления</th>\n",
       "      <th>Количество комнат</th>\n",
       "      <th>Тип</th>\n",
       "      <th>Метро</th>\n",
       "      <th>Адрес</th>\n",
       "      <th>Площадь, м2</th>\n",
       "      <th>Дом</th>\n",
       "      <th>Парковка</th>\n",
       "      <th>Цена</th>\n",
       "      <th>Телефоны</th>\n",
       "      <th>...</th>\n",
       "      <th>Окна</th>\n",
       "      <th>Санузел</th>\n",
       "      <th>Можно с детьми/животными</th>\n",
       "      <th>Дополнительно</th>\n",
       "      <th>Название ЖК</th>\n",
       "      <th>Серия дома</th>\n",
       "      <th>Высота потолков, м</th>\n",
       "      <th>Лифт</th>\n",
       "      <th>Мусоропровод</th>\n",
       "      <th>Ссылка на объявление</th>\n",
       "    </tr>\n",
       "  </thead>\n",
       "  <tbody>\n",
       "    <tr>\n",
       "      <th>0</th>\n",
       "      <td>271271157</td>\n",
       "      <td>4</td>\n",
       "      <td>Квартира</td>\n",
       "      <td>м. Смоленская (9 мин пешком)</td>\n",
       "      <td>Москва, улица Новый Арбат, 27</td>\n",
       "      <td>200.0/20.0</td>\n",
       "      <td>5/16, Монолитный</td>\n",
       "      <td>подземная</td>\n",
       "      <td>500000.0 руб./ За месяц, Залог - 500000 руб., ...</td>\n",
       "      <td>+79166369231</td>\n",
       "      <td>...</td>\n",
       "      <td>NaN</td>\n",
       "      <td>NaN</td>\n",
       "      <td>Можно с детьми, Можно с животными</td>\n",
       "      <td>Мебель в комнатах, Мебель на кухне, Ванна, Душ...</td>\n",
       "      <td>Новый Арбат, 2010</td>\n",
       "      <td>NaN</td>\n",
       "      <td>3.0</td>\n",
       "      <td>Пасс (4), Груз (1)</td>\n",
       "      <td>Да</td>\n",
       "      <td>https://www.cian.ru/rent/flat/271271157</td>\n",
       "    </tr>\n",
       "    <tr>\n",
       "      <th>1</th>\n",
       "      <td>271634126</td>\n",
       "      <td>4</td>\n",
       "      <td>Квартира</td>\n",
       "      <td>м. Смоленская (8 мин пешком)</td>\n",
       "      <td>Москва, улица Новый Арбат, 27</td>\n",
       "      <td>198.0/95.0/18.0</td>\n",
       "      <td>5/16, Монолитно-кирпичный</td>\n",
       "      <td>подземная</td>\n",
       "      <td>500000.0 руб./ За месяц, Залог - 500000 руб., ...</td>\n",
       "      <td>+79850608590</td>\n",
       "      <td>...</td>\n",
       "      <td>На улицу и двор</td>\n",
       "      <td>Совмещенный (2), Раздельный (1)</td>\n",
       "      <td>Можно с детьми</td>\n",
       "      <td>Мебель в комнатах, Мебель на кухне, Ванна, Душ...</td>\n",
       "      <td>Новый Арбат</td>\n",
       "      <td>NaN</td>\n",
       "      <td>3.5</td>\n",
       "      <td>Пасс (1), Груз (1)</td>\n",
       "      <td>Нет</td>\n",
       "      <td>https://www.cian.ru/rent/flat/271634126</td>\n",
       "    </tr>\n",
       "    <tr>\n",
       "      <th>2</th>\n",
       "      <td>271173086</td>\n",
       "      <td>4, Оба варианта</td>\n",
       "      <td>Квартира</td>\n",
       "      <td>м. Смоленская (7 мин пешком)</td>\n",
       "      <td>Москва, улица Новый Арбат, 27</td>\n",
       "      <td>200.0/116.0/4.0</td>\n",
       "      <td>5/16</td>\n",
       "      <td>подземная</td>\n",
       "      <td>500000.0 руб./ За месяц, Залог - 500000 руб., ...</td>\n",
       "      <td>+79672086536, +79099269384</td>\n",
       "      <td>...</td>\n",
       "      <td>На улицу и двор</td>\n",
       "      <td>Совмещенный (3)</td>\n",
       "      <td>Можно с детьми</td>\n",
       "      <td>Мебель в комнатах, Мебель на кухне, Ванна, Душ...</td>\n",
       "      <td>Новый Арбат</td>\n",
       "      <td>NaN</td>\n",
       "      <td>3.2</td>\n",
       "      <td>Пасс (1)</td>\n",
       "      <td>NaN</td>\n",
       "      <td>https://www.cian.ru/rent/flat/271173086</td>\n",
       "    </tr>\n",
       "  </tbody>\n",
       "</table>\n",
       "<p>3 rows × 24 columns</p>\n",
       "</div>"
      ],
      "text/plain": [
       "   ID  объявления Количество комнат       Тип                         Метро  \\\n",
       "0       271271157                 4  Квартира  м. Смоленская (9 мин пешком)   \n",
       "1       271634126                 4  Квартира  м. Смоленская (8 мин пешком)   \n",
       "2       271173086   4, Оба варианта  Квартира  м. Смоленская (7 мин пешком)   \n",
       "\n",
       "                           Адрес      Площадь, м2                        Дом  \\\n",
       "0  Москва, улица Новый Арбат, 27       200.0/20.0           5/16, Монолитный   \n",
       "1  Москва, улица Новый Арбат, 27  198.0/95.0/18.0  5/16, Монолитно-кирпичный   \n",
       "2  Москва, улица Новый Арбат, 27  200.0/116.0/4.0                       5/16   \n",
       "\n",
       "    Парковка                                               Цена  \\\n",
       "0  подземная  500000.0 руб./ За месяц, Залог - 500000 руб., ...   \n",
       "1  подземная  500000.0 руб./ За месяц, Залог - 500000 руб., ...   \n",
       "2  подземная  500000.0 руб./ За месяц, Залог - 500000 руб., ...   \n",
       "\n",
       "                     Телефоны  ...             Окна  \\\n",
       "0                +79166369231  ...              NaN   \n",
       "1                +79850608590  ...  На улицу и двор   \n",
       "2  +79672086536, +79099269384  ...  На улицу и двор   \n",
       "\n",
       "                           Санузел           Можно с детьми/животными  \\\n",
       "0                              NaN  Можно с детьми, Можно с животными   \n",
       "1  Совмещенный (2), Раздельный (1)                     Можно с детьми   \n",
       "2                  Совмещенный (3)                     Можно с детьми   \n",
       "\n",
       "                                       Дополнительно        Название ЖК  \\\n",
       "0  Мебель в комнатах, Мебель на кухне, Ванна, Душ...  Новый Арбат, 2010   \n",
       "1  Мебель в комнатах, Мебель на кухне, Ванна, Душ...        Новый Арбат   \n",
       "2  Мебель в комнатах, Мебель на кухне, Ванна, Душ...        Новый Арбат   \n",
       "\n",
       "  Серия дома Высота потолков, м                Лифт Мусоропровод  \\\n",
       "0        NaN                3.0  Пасс (4), Груз (1)           Да   \n",
       "1        NaN                3.5  Пасс (1), Груз (1)          Нет   \n",
       "2        NaN                3.2            Пасс (1)          NaN   \n",
       "\n",
       "                      Ссылка на объявление  \n",
       "0  https://www.cian.ru/rent/flat/271271157  \n",
       "1  https://www.cian.ru/rent/flat/271634126  \n",
       "2  https://www.cian.ru/rent/flat/271173086  \n",
       "\n",
       "[3 rows x 24 columns]"
      ]
     },
     "execution_count": 3,
     "metadata": {},
     "output_type": "execute_result"
    }
   ],
   "source": [
    "df_edit = df.drop(['Unnamed: 0'], axis=1)\n",
    "df_edit.head(3)"
   ]
  },
  {
   "cell_type": "code",
   "execution_count": 4,
   "id": "0400d87f-4c2a-4315-8b2e-cc06ab274c4b",
   "metadata": {},
   "outputs": [
    {
     "data": {
      "text/plain": [
       "ID  объявления                  0\n",
       "Количество комнат            1041\n",
       "Тип                             0\n",
       "Метро                        1315\n",
       "Адрес                           0\n",
       "Площадь, м2                     0\n",
       "Дом                             0\n",
       "Парковка                    13417\n",
       "Цена                            0\n",
       "Телефоны                        0\n",
       "Описание                        0\n",
       "Ремонт                       2755\n",
       "Площадь комнат, м2           8910\n",
       "Балкон                       7978\n",
       "Окна                         6613\n",
       "Санузел                      2672\n",
       "Можно с детьми/животными     6096\n",
       "Дополнительно                 357\n",
       "Название ЖК                 17520\n",
       "Серия дома                  21205\n",
       "Высота потолков, м          12162\n",
       "Лифт                         5500\n",
       "Мусоропровод                10522\n",
       "Ссылка на объявление            0\n",
       "dtype: int64"
      ]
     },
     "execution_count": 4,
     "metadata": {},
     "output_type": "execute_result"
    }
   ],
   "source": [
    "df_edit.isnull().sum()"
   ]
  },
  {
   "cell_type": "code",
   "execution_count": 5,
   "id": "6562e3b0-bb9f-40d1-80ab-61822bea1ce3",
   "metadata": {},
   "outputs": [],
   "source": [
    "df_edit['Дом'] = df_edit['Дом'].astype(str)\n",
    "df_edit['Адрес'] = df_edit['Адрес'].astype(str)\n",
    "df_edit['Название ЖК'] = df_edit['Название ЖК'].astype(str)\n",
    "df_edit['Метро'] = df_edit['Метро'].apply"
   ]
  },
  {
   "cell_type": "code",
   "execution_count": 6,
   "id": "e55d8665",
   "metadata": {},
   "outputs": [
    {
     "data": {
      "text/plain": [
       "Лифт\n",
       "Пасс (1)               5911\n",
       "Пасс (2)               4326\n",
       "Пасс (1), Груз (1)     3962\n",
       "Пасс (2), Груз (1)     1224\n",
       "Пасс (2), Груз (2)      654\n",
       "Пасс (3)                636\n",
       "Пасс (4)                346\n",
       "Пасс (3), Груз (1)      187\n",
       "Пасс (1), Груз (2)      185\n",
       "Груз (1)                 95\n",
       "Пасс (4), Груз (2)       65\n",
       "Пасс (4), Груз (1)       64\n",
       "Пасс (3), Груз (3)       45\n",
       "Пасс (3), Груз (2)       44\n",
       "Пасс (4), Груз (4)       28\n",
       "Груз (4)                 25\n",
       "Груз (2)                 20\n",
       "Груз (3)                 15\n",
       "Пасс (4), Груз (3)        7\n",
       "Пасс (1), Груз (3)        6\n",
       "Пасс (6)                  6\n",
       "Пасс (2), Груз (3)        3\n",
       "Пасс (50)                 2\n",
       "Пасс (60)                 2\n",
       "Пасс (1), Груз (12)       1\n",
       "Пасс (8), Груз (8)        1\n",
       "Пасс (7)                  1\n",
       "Пасс (1), Груз (4)        1\n",
       "Пасс (5), Груз (1)        1\n",
       "Пасс (5), Груз (3)        1\n",
       "Пасс (2), Груз (4)        1\n",
       "Груз (6)                  1\n",
       "Груз (8)                  1\n",
       "Пасс (5)                  1\n",
       "Name: count, dtype: int64"
      ]
     },
     "execution_count": 6,
     "metadata": {},
     "output_type": "execute_result"
    }
   ],
   "source": [
    "df_edit['Лифт'].value_counts()"
   ]
  },
  {
   "cell_type": "code",
   "execution_count": 7,
   "id": "abf9f2f9-e775-4c08-bea7-3c208aba0ded",
   "metadata": {},
   "outputs": [
    {
     "data": {
      "text/html": [
       "<div>\n",
       "<style scoped>\n",
       "    .dataframe tbody tr th:only-of-type {\n",
       "        vertical-align: middle;\n",
       "    }\n",
       "\n",
       "    .dataframe tbody tr th {\n",
       "        vertical-align: top;\n",
       "    }\n",
       "\n",
       "    .dataframe thead th {\n",
       "        text-align: right;\n",
       "    }\n",
       "</style>\n",
       "<table border=\"1\" class=\"dataframe\">\n",
       "  <thead>\n",
       "    <tr style=\"text-align: right;\">\n",
       "      <th></th>\n",
       "      <th>Количество комнат</th>\n",
       "      <th>Метро</th>\n",
       "      <th>Адрес</th>\n",
       "      <th>Площадь, м2</th>\n",
       "      <th>Дом</th>\n",
       "      <th>Парковка</th>\n",
       "      <th>Цена</th>\n",
       "      <th>Описание</th>\n",
       "      <th>Ремонт</th>\n",
       "      <th>Площадь комнат, м2</th>\n",
       "      <th>Балкон</th>\n",
       "      <th>Окна</th>\n",
       "      <th>Санузел</th>\n",
       "      <th>Можно с детьми/животными</th>\n",
       "      <th>Дополнительно</th>\n",
       "      <th>Высота потолков, м</th>\n",
       "      <th>Лифт</th>\n",
       "      <th>Мусоропровод</th>\n",
       "    </tr>\n",
       "  </thead>\n",
       "  <tbody>\n",
       "    <tr>\n",
       "      <th>0</th>\n",
       "      <td>4</td>\n",
       "      <td>&lt;bound method Series.apply of 0        м. Смол...</td>\n",
       "      <td>Москва, улица Новый Арбат, 27</td>\n",
       "      <td>200.0/20.0</td>\n",
       "      <td>5/16, Монолитный</td>\n",
       "      <td>подземная</td>\n",
       "      <td>500000.0 руб./ За месяц, Залог - 500000 руб., ...</td>\n",
       "      <td>Без комиссии для нанимателя! Бонус коллегам 12...</td>\n",
       "      <td>Дизайнерский</td>\n",
       "      <td>NaN</td>\n",
       "      <td>NaN</td>\n",
       "      <td>NaN</td>\n",
       "      <td>NaN</td>\n",
       "      <td>Можно с детьми, Можно с животными</td>\n",
       "      <td>Мебель в комнатах, Мебель на кухне, Ванна, Душ...</td>\n",
       "      <td>3.0</td>\n",
       "      <td>Пасс (4), Груз (1)</td>\n",
       "      <td>Да</td>\n",
       "    </tr>\n",
       "    <tr>\n",
       "      <th>1</th>\n",
       "      <td>4</td>\n",
       "      <td>&lt;bound method Series.apply of 0        м. Смол...</td>\n",
       "      <td>Москва, улица Новый Арбат, 27</td>\n",
       "      <td>198.0/95.0/18.0</td>\n",
       "      <td>5/16, Монолитно-кирпичный</td>\n",
       "      <td>подземная</td>\n",
       "      <td>500000.0 руб./ За месяц, Залог - 500000 руб., ...</td>\n",
       "      <td>Лот 93107. Елена Анисимова.\\n\\nБонус агенту 50...</td>\n",
       "      <td>Дизайнерский</td>\n",
       "      <td>25 25 20 25</td>\n",
       "      <td>NaN</td>\n",
       "      <td>На улицу и двор</td>\n",
       "      <td>Совмещенный (2), Раздельный (1)</td>\n",
       "      <td>Можно с детьми</td>\n",
       "      <td>Мебель в комнатах, Мебель на кухне, Ванна, Душ...</td>\n",
       "      <td>3.5</td>\n",
       "      <td>Пасс (1), Груз (1)</td>\n",
       "      <td>Нет</td>\n",
       "    </tr>\n",
       "    <tr>\n",
       "      <th>2</th>\n",
       "      <td>4, Оба варианта</td>\n",
       "      <td>&lt;bound method Series.apply of 0        м. Смол...</td>\n",
       "      <td>Москва, улица Новый Арбат, 27</td>\n",
       "      <td>200.0/116.0/4.0</td>\n",
       "      <td>5/16</td>\n",
       "      <td>подземная</td>\n",
       "      <td>500000.0 руб./ За месяц, Залог - 500000 руб., ...</td>\n",
       "      <td>ID 36380:  Шикарная 4-х км. квартира в ЖК \"Нов...</td>\n",
       "      <td>Евроремонт</td>\n",
       "      <td>NaN</td>\n",
       "      <td>NaN</td>\n",
       "      <td>На улицу и двор</td>\n",
       "      <td>Совмещенный (3)</td>\n",
       "      <td>Можно с детьми</td>\n",
       "      <td>Мебель в комнатах, Мебель на кухне, Ванна, Душ...</td>\n",
       "      <td>3.2</td>\n",
       "      <td>Пасс (1)</td>\n",
       "      <td>NaN</td>\n",
       "    </tr>\n",
       "  </tbody>\n",
       "</table>\n",
       "</div>"
      ],
      "text/plain": [
       "  Количество комнат                                              Метро  \\\n",
       "0                 4  <bound method Series.apply of 0        м. Смол...   \n",
       "1                 4  <bound method Series.apply of 0        м. Смол...   \n",
       "2   4, Оба варианта  <bound method Series.apply of 0        м. Смол...   \n",
       "\n",
       "                           Адрес      Площадь, м2                        Дом  \\\n",
       "0  Москва, улица Новый Арбат, 27       200.0/20.0           5/16, Монолитный   \n",
       "1  Москва, улица Новый Арбат, 27  198.0/95.0/18.0  5/16, Монолитно-кирпичный   \n",
       "2  Москва, улица Новый Арбат, 27  200.0/116.0/4.0                       5/16   \n",
       "\n",
       "    Парковка                                               Цена  \\\n",
       "0  подземная  500000.0 руб./ За месяц, Залог - 500000 руб., ...   \n",
       "1  подземная  500000.0 руб./ За месяц, Залог - 500000 руб., ...   \n",
       "2  подземная  500000.0 руб./ За месяц, Залог - 500000 руб., ...   \n",
       "\n",
       "                                            Описание        Ремонт  \\\n",
       "0  Без комиссии для нанимателя! Бонус коллегам 12...  Дизайнерский   \n",
       "1  Лот 93107. Елена Анисимова.\\n\\nБонус агенту 50...  Дизайнерский   \n",
       "2  ID 36380:  Шикарная 4-х км. квартира в ЖК \"Нов...    Евроремонт   \n",
       "\n",
       "  Площадь комнат, м2 Балкон             Окна                          Санузел  \\\n",
       "0                NaN    NaN              NaN                              NaN   \n",
       "1        25 25 20 25    NaN  На улицу и двор  Совмещенный (2), Раздельный (1)   \n",
       "2                NaN    NaN  На улицу и двор                  Совмещенный (3)   \n",
       "\n",
       "            Можно с детьми/животными  \\\n",
       "0  Можно с детьми, Можно с животными   \n",
       "1                     Можно с детьми   \n",
       "2                     Можно с детьми   \n",
       "\n",
       "                                       Дополнительно  Высота потолков, м  \\\n",
       "0  Мебель в комнатах, Мебель на кухне, Ванна, Душ...                 3.0   \n",
       "1  Мебель в комнатах, Мебель на кухне, Ванна, Душ...                 3.5   \n",
       "2  Мебель в комнатах, Мебель на кухне, Ванна, Душ...                 3.2   \n",
       "\n",
       "                 Лифт Мусоропровод  \n",
       "0  Пасс (4), Груз (1)           Да  \n",
       "1  Пасс (1), Груз (1)          Нет  \n",
       "2            Пасс (1)          NaN  "
      ]
     },
     "execution_count": 7,
     "metadata": {},
     "output_type": "execute_result"
    }
   ],
   "source": [
    "df_edit.drop(['ID  объявления','Тип','Телефоны','Название ЖК','Серия дома','Ссылка на объявление'], axis=1).head(3)#, inplace=True)"
   ]
  },
  {
   "cell_type": "markdown",
   "id": "97fae9ba",
   "metadata": {},
   "source": [
    "### Решили посмотреть, нет ли тут подвоха. А оказалось, что есть"
   ]
  },
  {
   "cell_type": "code",
   "execution_count": 8,
   "id": "baf19803",
   "metadata": {},
   "outputs": [
    {
     "data": {
      "text/html": [
       "<div>\n",
       "<style scoped>\n",
       "    .dataframe tbody tr th:only-of-type {\n",
       "        vertical-align: middle;\n",
       "    }\n",
       "\n",
       "    .dataframe tbody tr th {\n",
       "        vertical-align: top;\n",
       "    }\n",
       "\n",
       "    .dataframe thead th {\n",
       "        text-align: right;\n",
       "    }\n",
       "</style>\n",
       "<table border=\"1\" class=\"dataframe\">\n",
       "  <thead>\n",
       "    <tr style=\"text-align: right;\">\n",
       "      <th></th>\n",
       "      <th>Метро</th>\n",
       "      <th>Адрес</th>\n",
       "      <th>Название ЖК</th>\n",
       "    </tr>\n",
       "  </thead>\n",
       "  <tbody>\n",
       "    <tr>\n",
       "      <th>244</th>\n",
       "      <td>NaN</td>\n",
       "      <td>Москва, бульвар Академика Ландау, 3, ш. Дмитро...</td>\n",
       "      <td>Северный, 2017</td>\n",
       "    </tr>\n",
       "    <tr>\n",
       "      <th>745</th>\n",
       "      <td>NaN</td>\n",
       "      <td>Москва, улица Академика Янгеля, 2</td>\n",
       "      <td>М-House</td>\n",
       "    </tr>\n",
       "    <tr>\n",
       "      <th>904</th>\n",
       "      <td>NaN</td>\n",
       "      <td>Санкт-Петербург, дорога Муринская, 10к1</td>\n",
       "      <td>Цветной Город, 2018</td>\n",
       "    </tr>\n",
       "    <tr>\n",
       "      <th>931</th>\n",
       "      <td>NaN</td>\n",
       "      <td>Санкт-Петербург, улица Чарушинская, 8</td>\n",
       "      <td>Цветной Город, 2019</td>\n",
       "    </tr>\n",
       "    <tr>\n",
       "      <th>953</th>\n",
       "      <td>NaN</td>\n",
       "      <td>Санкт-Петербург, улица Пейзажная, 10</td>\n",
       "      <td>Цветной Город</td>\n",
       "    </tr>\n",
       "    <tr>\n",
       "      <th>...</th>\n",
       "      <td>...</td>\n",
       "      <td>...</td>\n",
       "      <td>...</td>\n",
       "    </tr>\n",
       "    <tr>\n",
       "      <th>22699</th>\n",
       "      <td>NaN</td>\n",
       "      <td>Санкт-Петербург, пос. Шушары, улица Валдайская...</td>\n",
       "      <td>Шушары, 2015</td>\n",
       "    </tr>\n",
       "    <tr>\n",
       "      <th>22704</th>\n",
       "      <td>NaN</td>\n",
       "      <td>Санкт-Петербург, пос. Шушары, улица Валдайская...</td>\n",
       "      <td>Шушары</td>\n",
       "    </tr>\n",
       "    <tr>\n",
       "      <th>22711</th>\n",
       "      <td>NaN</td>\n",
       "      <td>Санкт-Петербург, пос. Шушары, Московское шоссе...</td>\n",
       "      <td>Вариант</td>\n",
       "    </tr>\n",
       "    <tr>\n",
       "      <th>22713</th>\n",
       "      <td>NaN</td>\n",
       "      <td>Санкт-Петербург, пос. Шушары, Ленсоветовский т...</td>\n",
       "      <td>Добрыня</td>\n",
       "    </tr>\n",
       "    <tr>\n",
       "      <th>22723</th>\n",
       "      <td>NaN</td>\n",
       "      <td>Санкт-Петербург, пос. Шушары, Ленсоветовский т...</td>\n",
       "      <td>Ленсоветовский, 2012</td>\n",
       "    </tr>\n",
       "  </tbody>\n",
       "</table>\n",
       "<p>394 rows × 3 columns</p>\n",
       "</div>"
      ],
      "text/plain": [
       "      Метро                                              Адрес  \\\n",
       "244     NaN  Москва, бульвар Академика Ландау, 3, ш. Дмитро...   \n",
       "745     NaN                  Москва, улица Академика Янгеля, 2   \n",
       "904     NaN            Санкт-Петербург, дорога Муринская, 10к1   \n",
       "931     NaN              Санкт-Петербург, улица Чарушинская, 8   \n",
       "953     NaN               Санкт-Петербург, улица Пейзажная, 10   \n",
       "...     ...                                                ...   \n",
       "22699   NaN  Санкт-Петербург, пос. Шушары, улица Валдайская...   \n",
       "22704   NaN  Санкт-Петербург, пос. Шушары, улица Валдайская...   \n",
       "22711   NaN  Санкт-Петербург, пос. Шушары, Московское шоссе...   \n",
       "22713   NaN  Санкт-Петербург, пос. Шушары, Ленсоветовский т...   \n",
       "22723   NaN  Санкт-Петербург, пос. Шушары, Ленсоветовский т...   \n",
       "\n",
       "                Название ЖК  \n",
       "244          Северный, 2017  \n",
       "745                 М-House  \n",
       "904     Цветной Город, 2018  \n",
       "931     Цветной Город, 2019  \n",
       "953           Цветной Город  \n",
       "...                     ...  \n",
       "22699          Шушары, 2015  \n",
       "22704                Шушары  \n",
       "22711               Вариант  \n",
       "22713               Добрыня  \n",
       "22723  Ленсоветовский, 2012  \n",
       "\n",
       "[394 rows x 3 columns]"
      ]
     },
     "execution_count": 8,
     "metadata": {},
     "output_type": "execute_result"
    }
   ],
   "source": [
    "group = df[\n",
    "    (df['Метро'].isnull()) & (df['Адрес'].notnull()) & (df['Название ЖК'].notnull())\n",
    "        ]\n",
    "group[['Метро', 'Адрес', 'Название ЖК']]"
   ]
  },
  {
   "cell_type": "markdown",
   "id": "98d89eca",
   "metadata": {},
   "source": [
    "### В адресах присутствует Санкт-Петербург. Посмотрим соотношения количества объявлений Москвы к Питеру\n"
   ]
  },
  {
   "cell_type": "code",
   "execution_count": 9,
   "id": "ba85a490",
   "metadata": {},
   "outputs": [
    {
     "data": {
      "text/plain": [
       "<Figure size 1000x800 with 0 Axes>"
      ]
     },
     "metadata": {},
     "output_type": "display_data"
    },
    {
     "data": {
      "image/png": "[encoded data removed]",
      "text/plain": [
       "<Figure size 500x500 with 1 Axes>"
      ]
     },
     "metadata": {},
     "output_type": "display_data"
    }
   ],
   "source": [
    "#Делаем выборку для каждого города, с помощью метода, который нагуглили. Думал, что такой точно есть, но не знал наверняка. Изначально думал писать через regex\n",
    "moscow = df[df['Адрес'].str.startswith('Москва', na=False)].reset_index()\n",
    "spb = df[df['Адрес'].str.startswith('Санкт-Петербург', na=False)].reset_index()\n",
    "\n",
    "#Считаем в словаре, можно было бы сделать зипом, но так удобнее и нагляднее\n",
    "count = pd.DataFrame({\n",
    "    'Город': ['Москва', 'Санкт-Петербург'],\n",
    "    'Количество': [moscow.index.max(), spb.index.max()]\n",
    "})\n",
    "\n",
    "#Строим график\n",
    "#P.S. Хорошо бы сюда добавить числовое отображение для каждого из столбцов, но я пока не знаю как... Предполагаю, что через цикл.\n",
    "plt.figure(figsize=(10, 8));\n",
    "sns.catplot(data=count, x='Город', y='Количество', kind='bar', hue='Город')\n",
    "plt.title('Зависимость количества объявлений в Москве и Санкт-Петербурге')\n",
    "plt.xlabel('Город')\n",
    "plt.ylabel('Количество объявлений');"
   ]
  },
  {
   "cell_type": "markdown",
   "id": "d02930b3",
   "metadata": {},
   "source": [
    "### Проверим, сходится ли количество данных по Москве и Спб"
   ]
  },
  {
   "cell_type": "code",
   "execution_count": 20,
   "id": "9ceaff06",
   "metadata": {},
   "outputs": [
    {
     "name": "stdout",
     "output_type": "stream",
     "text": [
      "False\n",
      "605\n"
     ]
    }
   ],
   "source": [
    "count_all = moscow.index.max() + spb.index.max()\n",
    "print(df.shape[0] == count_all) \n",
    "# Проверим, сколько таких значений\n",
    "print(df.shape[0] - count_all)"
   ]
  },
  {
   "cell_type": "markdown",
   "id": "011c096f",
   "metadata": {},
   "source": [
    "Не сходится."
   ]
  },
  {
   "cell_type": "code",
   "execution_count": 21,
   "id": "c369c9e6",
   "metadata": {},
   "outputs": [
    {
     "name": "stdout",
     "output_type": "stream",
     "text": [
      "2\n"
     ]
    },
    {
     "data": {
      "text/html": [
       "<div>\n",
       "<style scoped>\n",
       "    .dataframe tbody tr th:only-of-type {\n",
       "        vertical-align: middle;\n",
       "    }\n",
       "\n",
       "    .dataframe tbody tr th {\n",
       "        vertical-align: top;\n",
       "    }\n",
       "\n",
       "    .dataframe thead th {\n",
       "        text-align: right;\n",
       "    }\n",
       "</style>\n",
       "<table border=\"1\" class=\"dataframe\">\n",
       "  <thead>\n",
       "    <tr style=\"text-align: right;\">\n",
       "      <th></th>\n",
       "      <th>index</th>\n",
       "      <th>Unnamed: 0</th>\n",
       "      <th>ID  объявления</th>\n",
       "      <th>Количество комнат</th>\n",
       "      <th>Тип</th>\n",
       "      <th>Метро</th>\n",
       "      <th>Адрес</th>\n",
       "      <th>Площадь, м2</th>\n",
       "      <th>Дом</th>\n",
       "      <th>Парковка</th>\n",
       "      <th>Цена</th>\n",
       "      <th>Телефоны</th>\n",
       "      <th>Описание</th>\n",
       "      <th>Ремонт</th>\n",
       "      <th>Площадь комнат, м2</th>\n",
       "      <th>Балкон</th>\n",
       "      <th>Окна</th>\n",
       "      <th>Санузел</th>\n",
       "      <th>Можно с детьми/животными</th>\n",
       "      <th>Дополнительно</th>\n",
       "      <th>Название ЖК</th>\n",
       "      <th>Серия дома</th>\n",
       "      <th>Высота потолков, м</th>\n",
       "      <th>Лифт</th>\n",
       "      <th>Мусоропровод</th>\n",
       "      <th>Ссылка на объявление</th>\n",
       "      <th>city</th>\n",
       "    </tr>\n",
       "  </thead>\n",
       "  <tbody>\n",
       "    <tr>\n",
       "      <th>0</th>\n",
       "      <td>2970</td>\n",
       "      <td>2970</td>\n",
       "      <td>272633897</td>\n",
       "      <td>NaN</td>\n",
       "      <td>Квартира</td>\n",
       "      <td>NaN</td>\n",
       "      <td>Краснодарский край, Сочи, Светлана мкр, улица ...</td>\n",
       "      <td>25.0</td>\n",
       "      <td>16/17, Монолитный</td>\n",
       "      <td>NaN</td>\n",
       "      <td>160000.0 руб./ За месяц, Сумма коммунальных пл...</td>\n",
       "      <td>+79676528434</td>\n",
       "      <td>Апартаменты SoСo находятся в ЖК Метрополь с ед...</td>\n",
       "      <td>Косметический</td>\n",
       "      <td>NaN</td>\n",
       "      <td>Балкон (1), Лоджия (1)</td>\n",
       "      <td>На улицу</td>\n",
       "      <td>Совмещенный (1)</td>\n",
       "      <td>Можно с детьми</td>\n",
       "      <td>Мебель в комнатах, Мебель на кухне, Душевая ка...</td>\n",
       "      <td>Метрополь, 2021</td>\n",
       "      <td>NaN</td>\n",
       "      <td>2.8</td>\n",
       "      <td>NaN</td>\n",
       "      <td>Нет</td>\n",
       "      <td>https://www.cian.ru/rent/flat/272633897</td>\n",
       "      <td>Краснодарский край</td>\n",
       "    </tr>\n",
       "    <tr>\n",
       "      <th>1</th>\n",
       "      <td>2971</td>\n",
       "      <td>2971</td>\n",
       "      <td>274576750</td>\n",
       "      <td>NaN</td>\n",
       "      <td>Квартира</td>\n",
       "      <td>NaN</td>\n",
       "      <td>Краснодарский край, Сочи, улица Яна Фабрициуса...</td>\n",
       "      <td>24.0/20.0/4.0</td>\n",
       "      <td>2/8, Монолитный</td>\n",
       "      <td>NaN</td>\n",
       "      <td>37000.0 руб./ За месяц, Залог - 5000 руб., Сро...</td>\n",
       "      <td>+79069596526</td>\n",
       "      <td>Сдается студия, низ ФАБРИЦИУСА, море 10 мин пе...</td>\n",
       "      <td>Дизайнерский</td>\n",
       "      <td>16+5</td>\n",
       "      <td>NaN</td>\n",
       "      <td>Во двор</td>\n",
       "      <td>Совмещенный (1)</td>\n",
       "      <td>Можно с детьми</td>\n",
       "      <td>Мебель в комнатах, Мебель на кухне, Душевая ка...</td>\n",
       "      <td>NaN</td>\n",
       "      <td>NaN</td>\n",
       "      <td>NaN</td>\n",
       "      <td>Пасс (1)</td>\n",
       "      <td>NaN</td>\n",
       "      <td>https://www.cian.ru/rent/flat/274576750</td>\n",
       "      <td>Краснодарский край</td>\n",
       "    </tr>\n",
       "    <tr>\n",
       "      <th>2</th>\n",
       "      <td>2972</td>\n",
       "      <td>2972</td>\n",
       "      <td>272834691</td>\n",
       "      <td>1</td>\n",
       "      <td>Квартира</td>\n",
       "      <td>NaN</td>\n",
       "      <td>Краснодарский край, Сочи, Молодогвардейская ул...</td>\n",
       "      <td>30.0</td>\n",
       "      <td>3/4</td>\n",
       "      <td>наземная</td>\n",
       "      <td>55000.0 руб./ За месяц, Сумма коммунальных пла...</td>\n",
       "      <td>+79604779698</td>\n",
       "      <td>ВНИМАНИЕ! Сдается с 01 июля Квартира свежая. В...</td>\n",
       "      <td>Евроремонт</td>\n",
       "      <td>NaN</td>\n",
       "      <td>Балкон (1)</td>\n",
       "      <td>Во двор</td>\n",
       "      <td>Раздельный (1)</td>\n",
       "      <td>Можно с детьми</td>\n",
       "      <td>Мебель в комнатах, Мебель на кухне, Ванна, Сти...</td>\n",
       "      <td>NaN</td>\n",
       "      <td>NaN</td>\n",
       "      <td>3.0</td>\n",
       "      <td>NaN</td>\n",
       "      <td>NaN</td>\n",
       "      <td>https://www.cian.ru/rent/flat/272834691</td>\n",
       "      <td>Краснодарский край</td>\n",
       "    </tr>\n",
       "  </tbody>\n",
       "</table>\n",
       "</div>"
      ],
      "text/plain": [
       "   index  Unnamed: 0  ID  объявления Количество комнат       Тип Метро  \\\n",
       "0   2970        2970       272633897               NaN  Квартира   NaN   \n",
       "1   2971        2971       274576750               NaN  Квартира   NaN   \n",
       "2   2972        2972       272834691                 1  Квартира   NaN   \n",
       "\n",
       "                                               Адрес    Площадь, м2  \\\n",
       "0  Краснодарский край, Сочи, Светлана мкр, улица ...           25.0   \n",
       "1  Краснодарский край, Сочи, улица Яна Фабрициуса...  24.0/20.0/4.0   \n",
       "2  Краснодарский край, Сочи, Молодогвардейская ул...           30.0   \n",
       "\n",
       "                 Дом  Парковка  \\\n",
       "0  16/17, Монолитный       NaN   \n",
       "1    2/8, Монолитный       NaN   \n",
       "2                3/4  наземная   \n",
       "\n",
       "                                                Цена      Телефоны  \\\n",
       "0  160000.0 руб./ За месяц, Сумма коммунальных пл...  +79676528434   \n",
       "1  37000.0 руб./ За месяц, Залог - 5000 руб., Сро...  +79069596526   \n",
       "2  55000.0 руб./ За месяц, Сумма коммунальных пла...  +79604779698   \n",
       "\n",
       "                                            Описание         Ремонт  \\\n",
       "0  Апартаменты SoСo находятся в ЖК Метрополь с ед...  Косметический   \n",
       "1  Сдается студия, низ ФАБРИЦИУСА, море 10 мин пе...   Дизайнерский   \n",
       "2  ВНИМАНИЕ! Сдается с 01 июля Квартира свежая. В...     Евроремонт   \n",
       "\n",
       "  Площадь комнат, м2                  Балкон      Окна          Санузел  \\\n",
       "0                NaN  Балкон (1), Лоджия (1)  На улицу  Совмещенный (1)   \n",
       "1               16+5                     NaN   Во двор  Совмещенный (1)   \n",
       "2                NaN              Балкон (1)   Во двор   Раздельный (1)   \n",
       "\n",
       "  Можно с детьми/животными                                      Дополнительно  \\\n",
       "0           Можно с детьми  Мебель в комнатах, Мебель на кухне, Душевая ка...   \n",
       "1           Можно с детьми  Мебель в комнатах, Мебель на кухне, Душевая ка...   \n",
       "2           Можно с детьми  Мебель в комнатах, Мебель на кухне, Ванна, Сти...   \n",
       "\n",
       "       Название ЖК Серия дома  Высота потолков, м      Лифт Мусоропровод  \\\n",
       "0  Метрополь, 2021        NaN                 2.8       NaN          Нет   \n",
       "1              NaN        NaN                 NaN  Пасс (1)          NaN   \n",
       "2              NaN        NaN                 3.0       NaN          NaN   \n",
       "\n",
       "                      Ссылка на объявление                city  \n",
       "0  https://www.cian.ru/rent/flat/272633897  Краснодарский край  \n",
       "1  https://www.cian.ru/rent/flat/274576750  Краснодарский край  \n",
       "2  https://www.cian.ru/rent/flat/272834691  Краснодарский край  "
      ]
     },
     "execution_count": 21,
     "metadata": {},
     "output_type": "execute_result"
    }
   ],
   "source": [
    "\n",
    "# И попробуем их вывести\n",
    "\n",
    "smthg = df[~df['Адрес'].str.startswith((\"Москва\", \"Санкт-Петербург\"), na=False)].reset_index()\n",
    "\n",
    "print(df.shape[0] - count_all - smthg.shape[0])\n",
    "\n",
    "#Вау, краснодарский край, как круто, неожиданно и приятно! Едем дальше\n",
    "smthg.head(3)\n",
    "\n"
   ]
  },
  {
   "cell_type": "code",
   "execution_count": 12,
   "id": "a869c595",
   "metadata": {},
   "outputs": [
    {
     "data": {
      "text/plain": [
       "0"
      ]
     },
     "execution_count": 12,
     "metadata": {},
     "output_type": "execute_result"
    }
   ],
   "source": [
    "smthg1 = df[~df['Адрес'].str.startswith((\"Москва\", \"Санкт-Петербург\", 'Краснодарский край'), na=False)].reset_index()\n",
    "smthg1.shape[0]"
   ]
  },
  {
   "cell_type": "code",
   "execution_count": 13,
   "id": "7d06fb9c",
   "metadata": {},
   "outputs": [
    {
     "data": {
      "text/plain": [
       "array(['Москва', 'Санкт-Петербург', 'Краснодарский край'], dtype=object)"
      ]
     },
     "execution_count": 13,
     "metadata": {},
     "output_type": "execute_result"
    }
   ],
   "source": [
    "def extract(city):\n",
    "    part = city.split(',')\n",
    "    if part:\n",
    "        return part[0].strip()\n",
    "    else:\n",
    "        return None\n",
    "\n",
    "\n",
    "df['city'] = df['Адрес'].apply(extract)\n",
    "\n",
    "ct_unique = df['city'].unique()\n",
    "ct_unique"
   ]
  },
  {
   "cell_type": "code",
   "execution_count": 25,
   "id": "f0bda9a6",
   "metadata": {},
   "outputs": [
    {
     "data": {
      "text/plain": [
       "([0, 1, 2],\n",
       " [Text(0, 0, 'Москва'),\n",
       "  Text(1, 0, 'Санкт-Петербург'),\n",
       "  Text(2, 0, 'Краснодарский край')])"
      ]
     },
     "execution_count": 25,
     "metadata": {},
     "output_type": "execute_result"
    },
    {
     "data": {
      "text/plain": [
       "<Figure size 1000x800 with 0 Axes>"
      ]
     },
     "metadata": {},
     "output_type": "display_data"
    },
    {
     "data": {
      "image/png": "[encoded data removed]",
      "text/plain": [
       "<Figure size 500x500 with 1 Axes>"
      ]
     },
     "metadata": {},
     "output_type": "display_data"
    }
   ],
   "source": [
    "#Убедились, что всё сходится. Строим график заново!\n",
    "moscow = df[df['Адрес'].str.startswith('Москва', na=False)].reset_index()\n",
    "spb = df[df['Адрес'].str.startswith('Санкт-Петербург', na=False)].reset_index()\n",
    "sochi = df[df['Адрес'].str.startswith((\"Краснодарский край\"), na=False)].reset_index()\n",
    "\n",
    "#Считаем в словаре, можно было бы сделать зипом, но так удобнее и нагляднее\n",
    "count = pd.DataFrame({\n",
    "    'Город': ['Москва', 'Санкт-Петербург', 'Краснодарский край'],\n",
    "    'Количество': [moscow.index.max(), spb.index.max(), sochi.index.max()]\n",
    "})\n",
    "\n",
    "#Строим график\n",
    "#P.S. Хорошо бы сюда добавить числовое отображение для каждого из столбцов, но я пока не знаю как... Предполагаю, что через цикл.\n",
    "plt.figure(figsize=(10, 8));\n",
    "sns.catplot(data=count, x='Город', y='Количество', kind='bar', hue='Город')\n",
    "plt.title('Зависимость количества объявлений в Москве и Санкт-Петербурге')\n",
    "plt.xlabel('Город')\n",
    "plt.ylabel('Количество объявлений')\n",
    "plt.xticks(rotation=45)\n"
   ]
  },
  {
   "cell_type": "markdown",
   "id": "d720e74f",
   "metadata": {},
   "source": [
    "### На графике явно показано, что подобные обявления есть, и они не единичны. Значит, в дальнейшем, они подлежат удалению.\n",
    "\n",
    "."
   ]
  },
  {
   "cell_type": "markdown",
   "id": "cbbcd5b4",
   "metadata": {},
   "source": [
    "### График 2. Исходя из полученных значений пропусков в каждой из колонок оригинального датасета, узнаем долю пропущенных значений к общему количеству "
   ]
  },
  {
   "cell_type": "code",
   "execution_count": 14,
   "id": "e84b793a",
   "metadata": {},
   "outputs": [
    {
     "data": {
      "text/plain": [
       "<Figure size 1200x600 with 0 Axes>"
      ]
     },
     "metadata": {},
     "output_type": "display_data"
    },
    {
     "data": {
      "image/png": "[encoded data removed]",
      "text/plain": [
       "<Figure size 500x500 with 1 Axes>"
      ]
     },
     "metadata": {},
     "output_type": "display_data"
    }
   ],
   "source": [
    "#Засовываем в переменную значения \n",
    "null_data = df.isnull().sum()\n",
    "\n",
    "all_rows = df.shape[0]\n",
    "\n",
    "df_mis = pd.DataFrame({\n",
    "    'Column_name': null_data.index,\n",
    "    'Count_miss': null_data.values \n",
    "})\n",
    "\n",
    "df_mis = df_mis[df_mis['Count_miss'] > 0]\n",
    "df_mis['missed_piece'] = df_mis['Count_miss'] / all_rows\n",
    "\n",
    "plt.figure(figsize=(12, 6))\n",
    "sns.catplot(data=df_mis, x='Column_name', y='Count_miss', kind='bar', hue='Column_name')\n",
    "plt.title('Доля пропущенных значений по отношению к общему числу значений')\n",
    "plt.xlabel('Название колонок')\n",
    "plt.ylabel('Доля пропущенных значений')\n",
    "plt.xticks(rotation=90);"
   ]
  },
  {
   "cell_type": "markdown",
   "id": "14b22c46",
   "metadata": {},
   "source": [
    "### 3 График. Объединяем предыдущие графики, чтобы узнать количество пропусков в каждой колонке только для московских значений."
   ]
  },
  {
   "cell_type": "code",
   "execution_count": 27,
   "id": "74a7c81c",
   "metadata": {},
   "outputs": [
    {
     "data": {
      "text/plain": [
       "<Figure size 1200x600 with 0 Axes>"
      ]
     },
     "metadata": {},
     "output_type": "display_data"
    },
    {
     "data": {
      "image/png": "[encoded data removed]",
      "text/plain": [
       "<Figure size 500x500 with 1 Axes>"
      ]
     },
     "metadata": {},
     "output_type": "display_data"
    }
   ],
   "source": [
    "null_msk = moscow.isnull().sum()\n",
    "\n",
    "msk_rows = moscow.shape[0]\n",
    "\n",
    "msk_mis = pd.DataFrame({\n",
    "    'Column_name': null_msk.index,\n",
    "    'Count_miss': null_msk.values \n",
    "})\n",
    "\n",
    "msk_mis = msk_mis[msk_mis['Count_miss'] > 0]\n",
    "msk_mis['missed_piece'] = msk_mis['Count_miss'] / msk_rows\n",
    "\n",
    "plt.figure(figsize=(12, 6))\n",
    "sns.catplot(data=msk_mis, x='Column_name', y='Count_miss', kind='bar', hue='Column_name')\n",
    "plt.title('Доля пропущенных значений по отношению к общему числу значений')\n",
    "plt.xlabel('Название колонок')\n",
    "plt.ylabel('Доля пропущенных значений')\n",
    "plt.xticks(rotation=90);"
   ]
  },
  {
   "cell_type": "markdown",
   "id": "e8cf06f4",
   "metadata": {},
   "source": []
  },
  {
   "cell_type": "code",
   "execution_count": 15,
   "id": "2dca423d-e1c8-452b-9298-cfedc9989ff1",
   "metadata": {},
   "outputs": [
    {
     "data": {
      "text/html": [
       "<div>\n",
       "<style scoped>\n",
       "    .dataframe tbody tr th:only-of-type {\n",
       "        vertical-align: middle;\n",
       "    }\n",
       "\n",
       "    .dataframe tbody tr th {\n",
       "        vertical-align: top;\n",
       "    }\n",
       "\n",
       "    .dataframe thead th {\n",
       "        text-align: right;\n",
       "    }\n",
       "</style>\n",
       "<table border=\"1\" class=\"dataframe\">\n",
       "  <thead>\n",
       "    <tr style=\"text-align: right;\">\n",
       "      <th></th>\n",
       "      <th>ID  объявления</th>\n",
       "      <th>Количество комнат</th>\n",
       "      <th>Тип</th>\n",
       "      <th>Метро</th>\n",
       "      <th>Адрес</th>\n",
       "      <th>Площадь, м2</th>\n",
       "      <th>Дом</th>\n",
       "      <th>Парковка</th>\n",
       "      <th>Цена</th>\n",
       "      <th>Телефоны</th>\n",
       "      <th>Описание</th>\n",
       "      <th>Ремонт</th>\n",
       "      <th>Площадь комнат, м2</th>\n",
       "      <th>Балкон</th>\n",
       "      <th>Окна</th>\n",
       "      <th>Санузел</th>\n",
       "      <th>Можно с детьми/животными</th>\n",
       "      <th>Дополнительно</th>\n",
       "      <th>Название ЖК</th>\n",
       "      <th>Серия дома</th>\n",
       "      <th>Высота потолков, м</th>\n",
       "      <th>Лифт</th>\n",
       "      <th>Мусоропровод</th>\n",
       "      <th>Ссылка на объявление</th>\n",
       "    </tr>\n",
       "  </thead>\n",
       "  <tbody>\n",
       "    <tr>\n",
       "      <th>0</th>\n",
       "      <td>271271157</td>\n",
       "      <td>4</td>\n",
       "      <td>Квартира</td>\n",
       "      <td>&lt;bound method Series.apply of 0        м. Смол...</td>\n",
       "      <td>Москва, улица Новый Арбат, 27</td>\n",
       "      <td>200.0/20.0</td>\n",
       "      <td>5/16, Монолитный</td>\n",
       "      <td>подземная</td>\n",
       "      <td>500000.0 руб./ За месяц, Залог - 500000 руб., ...</td>\n",
       "      <td>+79166369231</td>\n",
       "      <td>Без комиссии для нанимателя! Бонус коллегам 12...</td>\n",
       "      <td>Дизайнерский</td>\n",
       "      <td>NaN</td>\n",
       "      <td>NaN</td>\n",
       "      <td>NaN</td>\n",
       "      <td>NaN</td>\n",
       "      <td>Можно с детьми, Можно с животными</td>\n",
       "      <td>Мебель в комнатах, Мебель на кухне, Ванна, Душ...</td>\n",
       "      <td>Новый Арбат, 2010</td>\n",
       "      <td>NaN</td>\n",
       "      <td>3.0</td>\n",
       "      <td>Пасс (4), Груз (1)</td>\n",
       "      <td>Да</td>\n",
       "      <td>https://www.cian.ru/rent/flat/271271157</td>\n",
       "    </tr>\n",
       "    <tr>\n",
       "      <th>1</th>\n",
       "      <td>271634126</td>\n",
       "      <td>4</td>\n",
       "      <td>Квартира</td>\n",
       "      <td>&lt;bound method Series.apply of 0        м. Смол...</td>\n",
       "      <td>Москва, улица Новый Арбат, 27</td>\n",
       "      <td>198.0/95.0/18.0</td>\n",
       "      <td>5/16, Монолитно-кирпичный</td>\n",
       "      <td>подземная</td>\n",
       "      <td>500000.0 руб./ За месяц, Залог - 500000 руб., ...</td>\n",
       "      <td>+79850608590</td>\n",
       "      <td>Лот 93107. Елена Анисимова.\\n\\nБонус агенту 50...</td>\n",
       "      <td>Дизайнерский</td>\n",
       "      <td>25 25 20 25</td>\n",
       "      <td>NaN</td>\n",
       "      <td>На улицу и двор</td>\n",
       "      <td>Совмещенный (2), Раздельный (1)</td>\n",
       "      <td>Можно с детьми</td>\n",
       "      <td>Мебель в комнатах, Мебель на кухне, Ванна, Душ...</td>\n",
       "      <td>Новый Арбат</td>\n",
       "      <td>NaN</td>\n",
       "      <td>3.5</td>\n",
       "      <td>Пасс (1), Груз (1)</td>\n",
       "      <td>Нет</td>\n",
       "      <td>https://www.cian.ru/rent/flat/271634126</td>\n",
       "    </tr>\n",
       "    <tr>\n",
       "      <th>2</th>\n",
       "      <td>271173086</td>\n",
       "      <td>4, Оба варианта</td>\n",
       "      <td>Квартира</td>\n",
       "      <td>&lt;bound method Series.apply of 0        м. Смол...</td>\n",
       "      <td>Москва, улица Новый Арбат, 27</td>\n",
       "      <td>200.0/116.0/4.0</td>\n",
       "      <td>5/16</td>\n",
       "      <td>подземная</td>\n",
       "      <td>500000.0 руб./ За месяц, Залог - 500000 руб., ...</td>\n",
       "      <td>+79672086536, +79099269384</td>\n",
       "      <td>ID 36380:  Шикарная 4-х км. квартира в ЖК \"Нов...</td>\n",
       "      <td>Евроремонт</td>\n",
       "      <td>NaN</td>\n",
       "      <td>NaN</td>\n",
       "      <td>На улицу и двор</td>\n",
       "      <td>Совмещенный (3)</td>\n",
       "      <td>Можно с детьми</td>\n",
       "      <td>Мебель в комнатах, Мебель на кухне, Ванна, Душ...</td>\n",
       "      <td>Новый Арбат</td>\n",
       "      <td>NaN</td>\n",
       "      <td>3.2</td>\n",
       "      <td>Пасс (1)</td>\n",
       "      <td>NaN</td>\n",
       "      <td>https://www.cian.ru/rent/flat/271173086</td>\n",
       "    </tr>\n",
       "  </tbody>\n",
       "</table>\n",
       "</div>"
      ],
      "text/plain": [
       "   ID  объявления Количество комнат       Тип  \\\n",
       "0       271271157                 4  Квартира   \n",
       "1       271634126                 4  Квартира   \n",
       "2       271173086   4, Оба варианта  Квартира   \n",
       "\n",
       "                                               Метро  \\\n",
       "0  <bound method Series.apply of 0        м. Смол...   \n",
       "1  <bound method Series.apply of 0        м. Смол...   \n",
       "2  <bound method Series.apply of 0        м. Смол...   \n",
       "\n",
       "                           Адрес      Площадь, м2                        Дом  \\\n",
       "0  Москва, улица Новый Арбат, 27       200.0/20.0           5/16, Монолитный   \n",
       "1  Москва, улица Новый Арбат, 27  198.0/95.0/18.0  5/16, Монолитно-кирпичный   \n",
       "2  Москва, улица Новый Арбат, 27  200.0/116.0/4.0                       5/16   \n",
       "\n",
       "    Парковка                                               Цена  \\\n",
       "0  подземная  500000.0 руб./ За месяц, Залог - 500000 руб., ...   \n",
       "1  подземная  500000.0 руб./ За месяц, Залог - 500000 руб., ...   \n",
       "2  подземная  500000.0 руб./ За месяц, Залог - 500000 руб., ...   \n",
       "\n",
       "                     Телефоны  \\\n",
       "0                +79166369231   \n",
       "1                +79850608590   \n",
       "2  +79672086536, +79099269384   \n",
       "\n",
       "                                            Описание        Ремонт  \\\n",
       "0  Без комиссии для нанимателя! Бонус коллегам 12...  Дизайнерский   \n",
       "1  Лот 93107. Елена Анисимова.\\n\\nБонус агенту 50...  Дизайнерский   \n",
       "2  ID 36380:  Шикарная 4-х км. квартира в ЖК \"Нов...    Евроремонт   \n",
       "\n",
       "  Площадь комнат, м2 Балкон             Окна                          Санузел  \\\n",
       "0                NaN    NaN              NaN                              NaN   \n",
       "1        25 25 20 25    NaN  На улицу и двор  Совмещенный (2), Раздельный (1)   \n",
       "2                NaN    NaN  На улицу и двор                  Совмещенный (3)   \n",
       "\n",
       "            Можно с детьми/животными  \\\n",
       "0  Можно с детьми, Можно с животными   \n",
       "1                     Можно с детьми   \n",
       "2                     Можно с детьми   \n",
       "\n",
       "                                       Дополнительно        Название ЖК  \\\n",
       "0  Мебель в комнатах, Мебель на кухне, Ванна, Душ...  Новый Арбат, 2010   \n",
       "1  Мебель в комнатах, Мебель на кухне, Ванна, Душ...        Новый Арбат   \n",
       "2  Мебель в комнатах, Мебель на кухне, Ванна, Душ...        Новый Арбат   \n",
       "\n",
       "  Серия дома  Высота потолков, м                Лифт Мусоропровод  \\\n",
       "0        NaN                 3.0  Пасс (4), Груз (1)           Да   \n",
       "1        NaN                 3.5  Пасс (1), Груз (1)          Нет   \n",
       "2        NaN                 3.2            Пасс (1)          NaN   \n",
       "\n",
       "                      Ссылка на объявление  \n",
       "0  https://www.cian.ru/rent/flat/271271157  \n",
       "1  https://www.cian.ru/rent/flat/271634126  \n",
       "2  https://www.cian.ru/rent/flat/271173086  "
      ]
     },
     "execution_count": 15,
     "metadata": {},
     "output_type": "execute_result"
    }
   ],
   "source": [
    "pd.set_option('display.max_columns', 30)\n",
    "df_edit.head(3)"
   ]
  },
  {
   "cell_type": "code",
   "execution_count": 16,
   "id": "a2db5de5-76fc-4e34-8ac5-3991e5b84048",
   "metadata": {},
   "outputs": [
    {
     "data": {
      "text/plain": [
       "Тип\n",
       "Квартира    23368\n",
       "Name: count, dtype: int64"
      ]
     },
     "execution_count": 16,
     "metadata": {},
     "output_type": "execute_result"
    }
   ],
   "source": [
    "df_edit['Тип'].value_counts()"
   ]
  },
  {
   "cell_type": "code",
   "execution_count": 17,
   "id": "2de2874d-bb62-4587-9914-1c11b63cf9cb",
   "metadata": {},
   "outputs": [
    {
     "data": {
      "text/plain": [
       "Количество комнат\n",
       "1                   7917\n",
       "2, Изолированная    4623\n",
       "2                   2591\n",
       "3                   1717\n",
       "3, Изолированная    1583\n",
       "3, Оба варианта      875\n",
       "4                    674\n",
       "2, Смежная           637\n",
       "2, Оба варианта      615\n",
       "4, Оба варианта      253\n",
       "5                    235\n",
       "4, Изолированная     223\n",
       "6                     87\n",
       "3, Смежная            87\n",
       "5, Оба варианта       81\n",
       "5, Изолированная      47\n",
       "6, Оба варианта       31\n",
       "6, Изолированная      17\n",
       "4, Смежная            13\n",
       "1, Изолированная       8\n",
       "1, Оба варианта        4\n",
       "5, Смежная             4\n",
       "6, Смежная             3\n",
       "1, Смежная             2\n",
       "Name: count, dtype: int64"
      ]
     },
     "execution_count": 17,
     "metadata": {},
     "output_type": "execute_result"
    }
   ],
   "source": [
    "df_edit['Количество комнат'].value_counts()"
   ]
  },
  {
   "cell_type": "code",
   "execution_count": 18,
   "id": "7ff197a9-9bbd-4aa3-bb2e-30f3abb0fd52",
   "metadata": {},
   "outputs": [
    {
     "data": {
      "text/plain": [
       "ID  объявления                int64\n",
       "Количество комнат            object\n",
       "Тип                          object\n",
       "Метро                        object\n",
       "Адрес                        object\n",
       "Площадь, м2                  object\n",
       "Дом                          object\n",
       "Парковка                     object\n",
       "Цена                         object\n",
       "Телефоны                     object\n",
       "Описание                     object\n",
       "Ремонт                       object\n",
       "Площадь комнат, м2           object\n",
       "Балкон                       object\n",
       "Окна                         object\n",
       "Санузел                      object\n",
       "Можно с детьми/животными     object\n",
       "Дополнительно                object\n",
       "Название ЖК                  object\n",
       "Серия дома                   object\n",
       "Высота потолков, м          float64\n",
       "Лифт                         object\n",
       "Мусоропровод                 object\n",
       "Ссылка на объявление         object\n",
       "dtype: object"
      ]
     },
     "execution_count": 18,
     "metadata": {},
     "output_type": "execute_result"
    }
   ],
   "source": [
    "df_edit.dtypes"
   ]
  },
  {
   "cell_type": "code",
   "execution_count": 19,
   "id": "4eae7568-6d43-4500-a00d-315296ab91b0",
   "metadata": {},
   "outputs": [
    {
     "data": {
      "text/plain": [
       "Парковка\n",
       "наземная          6043\n",
       "подземная         2772\n",
       "открытая          1017\n",
       "многоуровневая     118\n",
       "на крыше             1\n",
       "Name: count, dtype: int64"
      ]
     },
     "execution_count": 19,
     "metadata": {},
     "output_type": "execute_result"
    }
   ],
   "source": [
    "df_edit['Парковка'].value_counts()"
   ]
  },
  {
   "cell_type": "code",
   "execution_count": null,
   "id": "8cc0792b",
   "metadata": {},
   "outputs": [],
   "source": []
  }
 ],
 "metadata": {
  "kernelspec": {
   "display_name": "base",
   "language": "python",
   "name": "python3"
  },
  "language_info": {
   "codemirror_mode": {
    "name": "ipython",
    "version": 3
   },
   "file_extension": ".py",
   "mimetype": "text/x-python",
   "name": "python",
   "nbconvert_exporter": "python",
   "pygments_lexer": "ipython3",
   "version": "3.12.7"
  }
 },
 "nbformat": 4,
 "nbformat_minor": 5
}
