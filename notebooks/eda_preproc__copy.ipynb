{
 "cells": [
  {
   "cell_type": "markdown",
   "metadata": {},
   "source": [
    "### Препроцессинг"
   ]
  },
  {
   "cell_type": "markdown",
   "metadata": {},
   "source": [
    "Импортируем библиотеки"
   ]
  },
  {
   "cell_type": "code",
   "execution_count": 1,
   "metadata": {},
   "outputs": [],
   "source": [
    "import pandas as pd"
   ]
  },
  {
   "cell_type": "code",
   "execution_count": 2,
   "metadata": {},
   "outputs": [],
   "source": [
    "data = pd.read_csv('../data/_data.csv')"
   ]
  },
  {
   "cell_type": "code",
   "execution_count": 3,
   "metadata": {},
   "outputs": [],
   "source": [
    "df = data.copy()"
   ]
  },
  {
   "cell_type": "markdown",
   "metadata": {},
   "source": [
    "Проверяем каждый столбец на наличие пустых строк."
   ]
  },
  {
   "cell_type": "code",
   "execution_count": 4,
   "metadata": {},
   "outputs": [
    {
     "data": {
      "text/plain": [
       "Unnamed: 0                      0\n",
       "ID  объявления                  0\n",
       "Количество комнат            1041\n",
       "Тип                             0\n",
       "Метро                        1315\n",
       "Адрес                           0\n",
       "Площадь, м2                     0\n",
       "Дом                             0\n",
       "Парковка                    13417\n",
       "Цена                            0\n",
       "Телефоны                        0\n",
       "Описание                        0\n",
       "Ремонт                       2755\n",
       "Площадь комнат, м2           8910\n",
       "Балкон                       7978\n",
       "Окна                         6613\n",
       "Санузел                      2672\n",
       "Можно с детьми/животными     6096\n",
       "Дополнительно                 357\n",
       "Название ЖК                 17520\n",
       "Серия дома                  21205\n",
       "Высота потолков, м          12162\n",
       "Лифт                         5500\n",
       "Мусоропровод                10522\n",
       "Ссылка на объявление            0\n",
       "dtype: int64"
      ]
     },
     "execution_count": 4,
     "metadata": {},
     "output_type": "execute_result"
    }
   ],
   "source": [
    "df.isnull().sum()"
   ]
  },
  {
   "cell_type": "markdown",
   "metadata": {},
   "source": [
    "Из вы вывода видно, что в большенстве столбцов есть пропущенные значения. Рассмотрим каждый столбец отдельно и решим, как устранить пробелы."
   ]
  },
  {
   "cell_type": "markdown",
   "metadata": {},
   "source": [
    "1. Удаляем не нужный столбец Unnamed: 0 и реиндескируем данные"
   ]
  },
  {
   "cell_type": "code",
   "execution_count": 5,
   "metadata": {},
   "outputs": [],
   "source": [
    "df = df.drop(columns=['Unnamed: 0']).reset_index(drop=True)"
   ]
  },
  {
   "cell_type": "markdown",
   "metadata": {},
   "source": [
    "2. Удаляем столбец Ссылка на объявление, за малой информативностью"
   ]
  },
  {
   "cell_type": "code",
   "execution_count": 6,
   "metadata": {},
   "outputs": [],
   "source": [
    "df = df.drop(columns=['Ссылка на объявление'])"
   ]
  },
  {
   "cell_type": "markdown",
   "metadata": {},
   "source": [
    "3. Поскольку в столбце \"Тип\" представлен только один тип недвижимости - квартира, пропусков в данных нет, то - удаляем."
   ]
  },
  {
   "cell_type": "code",
   "execution_count": 7,
   "metadata": {},
   "outputs": [
    {
     "data": {
      "text/plain": [
       "Тип     \n",
       "Квартира    True\n",
       "Name: count, dtype: bool"
      ]
     },
     "execution_count": 7,
     "metadata": {},
     "output_type": "execute_result"
    }
   ],
   "source": [
    "# Перепроверяем себя, убеждаемся, что в столбце одно значение \n",
    "# и его количество равно количеству строк в датасете\n",
    "df[['Тип']].value_counts() == df.shape[0]"
   ]
  },
  {
   "cell_type": "code",
   "execution_count": 8,
   "metadata": {},
   "outputs": [],
   "source": [
    "df = df.drop(['Тип'], axis=1)"
   ]
  },
  {
   "cell_type": "markdown",
   "metadata": {},
   "source": [
    "4. На наше исследование столбец Телефоны не влияет, поэтому - удален."
   ]
  },
  {
   "cell_type": "code",
   "execution_count": 9,
   "metadata": {},
   "outputs": [],
   "source": [
    "df = df.drop(columns=['Телефоны'])"
   ]
  },
  {
   "cell_type": "markdown",
   "metadata": {},
   "source": [
    "5. Столбец Описание нам, также не нужен"
   ]
  },
  {
   "cell_type": "code",
   "execution_count": 10,
   "metadata": {},
   "outputs": [],
   "source": [
    "df = df.drop(columns=['Описание'])"
   ]
  },
  {
   "cell_type": "markdown",
   "metadata": {},
   "source": [
    "6. Удаляем столбец Дополнительно, поскольку для нас он не информативен"
   ]
  },
  {
   "cell_type": "code",
   "execution_count": 11,
   "metadata": {},
   "outputs": [],
   "source": [
    "df = df.drop(columns=['Дополнительно'], axis=1)"
   ]
  },
  {
   "cell_type": "markdown",
   "metadata": {},
   "source": [
    "7. Поскольку в датасете есть данные про общую площадь квартиры, то можем смело удалять столбец 'Площадь комнат, м2'"
   ]
  },
  {
   "cell_type": "code",
   "execution_count": 12,
   "metadata": {},
   "outputs": [],
   "source": [
    "df = df.drop(columns=['Площадь комнат, м2'], axis=1)"
   ]
  },
  {
   "cell_type": "markdown",
   "metadata": {},
   "source": [
    "8. Столбец 'Название ЖК' нам так же не интересен, поскольку не информативен"
   ]
  },
  {
   "cell_type": "code",
   "execution_count": 13,
   "metadata": {},
   "outputs": [],
   "source": [
    "df.drop(columns=['Название ЖК'], axis=1, inplace=True)"
   ]
  },
  {
   "cell_type": "markdown",
   "metadata": {},
   "source": [
    "9. 'Серия дома' - по той же причине."
   ]
  },
  {
   "cell_type": "code",
   "execution_count": 14,
   "metadata": {},
   "outputs": [],
   "source": [
    "df.drop(columns=['Серия дома'], axis=1, inplace=True)"
   ]
  },
  {
   "cell_type": "code",
   "execution_count": 15,
   "metadata": {},
   "outputs": [
    {
     "data": {
      "text/plain": [
       "Index(['ID  объявления', 'Количество комнат', 'Метро', 'Адрес', 'Площадь, м2',\n",
       "       'Дом', 'Парковка', 'Цена', 'Ремонт', 'Балкон', 'Окна', 'Санузел',\n",
       "       'Можно с детьми/животными', 'Высота потолков, м', 'Лифт',\n",
       "       'Мусоропровод'],\n",
       "      dtype='object')"
      ]
     },
     "execution_count": 15,
     "metadata": {},
     "output_type": "execute_result"
    }
   ],
   "source": [
    "df.columns"
   ]
  },
  {
   "cell_type": "markdown",
   "metadata": {},
   "source": [
    "## Переходим к заполнению данных"
   ]
  },
  {
   "cell_type": "markdown",
   "metadata": {},
   "source": [
    "Оставляем столбец ID объявления без изменений, так как он пригодится для сравнения результатов."
   ]
  },
  {
   "cell_type": "code",
   "execution_count": 16,
   "metadata": {},
   "outputs": [
    {
     "data": {
      "text/plain": [
       "np.int64(0)"
      ]
     },
     "execution_count": 16,
     "metadata": {},
     "output_type": "execute_result"
    }
   ],
   "source": [
    "# Уточняем наличие id у каждой строки.\n",
    "df['ID  объявления'].isnull().sum()\n",
    "# Как видим пропусков нет."
   ]
  },
  {
   "cell_type": "code",
   "execution_count": 17,
   "metadata": {},
   "outputs": [
    {
     "data": {
      "text/plain": [
       "ID  объявления                  0\n",
       "Количество комнат            1041\n",
       "Метро                        1315\n",
       "Адрес                           0\n",
       "Площадь, м2                     0\n",
       "Дом                             0\n",
       "Парковка                    13417\n",
       "Цена                            0\n",
       "Ремонт                       2755\n",
       "Балкон                       7978\n",
       "Окна                         6613\n",
       "Санузел                      2672\n",
       "Можно с детьми/животными     6096\n",
       "Высота потолков, м          12162\n",
       "Лифт                         5500\n",
       "Мусоропровод                10522\n",
       "dtype: int64"
      ]
     },
     "execution_count": 17,
     "metadata": {},
     "output_type": "execute_result"
    }
   ],
   "source": [
    "df.isnull().sum()"
   ]
  },
  {
   "cell_type": "code",
   "execution_count": 18,
   "metadata": {},
   "outputs": [
    {
     "data": {
      "text/plain": [
       "ID  объявления                int64\n",
       "Количество комнат            object\n",
       "Метро                        object\n",
       "Адрес                        object\n",
       "Площадь, м2                  object\n",
       "Дом                          object\n",
       "Парковка                     object\n",
       "Цена                         object\n",
       "Ремонт                       object\n",
       "Балкон                       object\n",
       "Окна                         object\n",
       "Санузел                      object\n",
       "Можно с детьми/животными     object\n",
       "Высота потолков, м          float64\n",
       "Лифт                         object\n",
       "Мусоропровод                 object\n",
       "dtype: object"
      ]
     },
     "execution_count": 18,
     "metadata": {},
     "output_type": "execute_result"
    }
   ],
   "source": [
    "df.dtypes"
   ]
  },
  {
   "cell_type": "markdown",
   "metadata": {},
   "source": [
    "1. Приводим столбец Площадь в соответствие. Оставляем только общую площадь квартиры и переводим тип данных столбеца в число"
   ]
  },
  {
   "cell_type": "code",
   "execution_count": 19,
   "metadata": {},
   "outputs": [],
   "source": [
    "df['Площадь, м2'] = df['Площадь, м2'].str.split('.').str[0].astype(int)"
   ]
  },
  {
   "cell_type": "markdown",
   "metadata": {},
   "source": [
    "2. "
   ]
  },
  {
   "cell_type": "code",
   "execution_count": 20,
   "metadata": {},
   "outputs": [
    {
     "data": {
      "text/plain": [
       "Количество комнат\n",
       "1                   7917\n",
       "2, Изолированная    4623\n",
       "2                   2591\n",
       "3                   1717\n",
       "3, Изолированная    1583\n",
       "3, Оба варианта      875\n",
       "4                    674\n",
       "2, Смежная           637\n",
       "2, Оба варианта      615\n",
       "4, Оба варианта      253\n",
       "5                    235\n",
       "4, Изолированная     223\n",
       "6                     87\n",
       "3, Смежная            87\n",
       "5, Оба варианта       81\n",
       "5, Изолированная      47\n",
       "6, Оба варианта       31\n",
       "6, Изолированная      17\n",
       "4, Смежная            13\n",
       "1, Изолированная       8\n",
       "1, Оба варианта        4\n",
       "5, Смежная             4\n",
       "6, Смежная             3\n",
       "1, Смежная             2\n",
       "Name: count, dtype: int64"
      ]
     },
     "execution_count": 20,
     "metadata": {},
     "output_type": "execute_result"
    }
   ],
   "source": [
    "df['Количество комнат'].value_counts()"
   ]
  },
  {
   "cell_type": "markdown",
   "metadata": {},
   "source": [
    "5. Обрабатываем пропуски в стобце Парковка"
   ]
  },
  {
   "cell_type": "code",
   "execution_count": 23,
   "metadata": {},
   "outputs": [
    {
     "data": {
      "text/plain": [
       "Парковка      \n",
       "наземная          6043\n",
       "подземная         2772\n",
       "открытая          1017\n",
       "многоуровневая     118\n",
       "на крыше             1\n",
       "Name: count, dtype: int64"
      ]
     },
     "execution_count": 23,
     "metadata": {},
     "output_type": "execute_result"
    }
   ],
   "source": [
    "# Смотрим на значения в строках столбца Парковка\n",
    "df[['Парковка']].value_counts() "
   ]
  },
  {
   "cell_type": "code",
   "execution_count": 24,
   "metadata": {},
   "outputs": [],
   "source": [
    "df[['Парковка']] = df[['Парковка']].fillna('наземная')"
   ]
  },
  {
   "cell_type": "code",
   "execution_count": 25,
   "metadata": {},
   "outputs": [
    {
     "data": {
      "text/plain": [
       "Парковка      \n",
       "наземная          19460\n",
       "подземная          2772\n",
       "открытая           1017\n",
       "многоуровневая      118\n",
       "на крыше              1\n",
       "Name: count, dtype: int64"
      ]
     },
     "execution_count": 25,
     "metadata": {},
     "output_type": "execute_result"
    }
   ],
   "source": [
    "df[['Парковка']].value_counts() "
   ]
  },
  {
   "cell_type": "code",
   "execution_count": 16,
   "metadata": {},
   "outputs": [],
   "source": []
  },
  {
   "cell_type": "code",
   "execution_count": 17,
   "metadata": {},
   "outputs": [],
   "source": []
  },
  {
   "cell_type": "markdown",
   "metadata": {},
   "source": [
    "8. Заменим пропущенные значения в столбеце Мусоропровод"
   ]
  },
  {
   "cell_type": "code",
   "execution_count": 26,
   "metadata": {},
   "outputs": [
    {
     "data": {
      "text/plain": [
       "Мусоропровод\n",
       "Да              10897\n",
       "Нет              1949\n",
       "Name: count, dtype: int64"
      ]
     },
     "execution_count": 26,
     "metadata": {},
     "output_type": "execute_result"
    }
   ],
   "source": [
    "df[['Мусоропровод']].value_counts()"
   ]
  },
  {
   "cell_type": "code",
   "execution_count": 27,
   "metadata": {},
   "outputs": [],
   "source": [
    "df[['Мусоропровод']] = df[['Мусоропровод']].fillna('Нет')"
   ]
  },
  {
   "cell_type": "code",
   "execution_count": 28,
   "metadata": {},
   "outputs": [
    {
     "data": {
      "text/plain": [
       "Мусоропровод\n",
       "Нет             12471\n",
       "Да              10897\n",
       "Name: count, dtype: int64"
      ]
     },
     "execution_count": 28,
     "metadata": {},
     "output_type": "execute_result"
    }
   ],
   "source": [
    "# Перепроверяем себя\n",
    "df[['Мусоропровод']].value_counts()"
   ]
  },
  {
   "cell_type": "markdown",
   "metadata": {},
   "source": [
    "10. Лифт -- ?"
   ]
  },
  {
   "cell_type": "code",
   "execution_count": 29,
   "metadata": {},
   "outputs": [
    {
     "data": {
      "text/plain": [
       "np.int64(5500)"
      ]
     },
     "execution_count": 29,
     "metadata": {},
     "output_type": "execute_result"
    }
   ],
   "source": [
    "df['Лифт'].isnull().sum()"
   ]
  },
  {
   "cell_type": "code",
   "execution_count": 30,
   "metadata": {},
   "outputs": [
    {
     "data": {
      "text/plain": [
       "Лифт\n",
       "Пасс (1)               5911\n",
       "Пасс (2)               4326\n",
       "Пасс (1), Груз (1)     3962\n",
       "Пасс (2), Груз (1)     1224\n",
       "Пасс (2), Груз (2)      654\n",
       "Пасс (3)                636\n",
       "Пасс (4)                346\n",
       "Пасс (3), Груз (1)      187\n",
       "Пасс (1), Груз (2)      185\n",
       "Груз (1)                 95\n",
       "Пасс (4), Груз (2)       65\n",
       "Пасс (4), Груз (1)       64\n",
       "Пасс (3), Груз (3)       45\n",
       "Пасс (3), Груз (2)       44\n",
       "Пасс (4), Груз (4)       28\n",
       "Груз (4)                 25\n",
       "Груз (2)                 20\n",
       "Груз (3)                 15\n",
       "Пасс (4), Груз (3)        7\n",
       "Пасс (1), Груз (3)        6\n",
       "Пасс (6)                  6\n",
       "Пасс (2), Груз (3)        3\n",
       "Пасс (60)                 2\n",
       "Пасс (50)                 2\n",
       "Пасс (1), Груз (12)       1\n",
       "Пасс (5), Груз (1)        1\n",
       "Пасс (8), Груз (8)        1\n",
       "Пасс (7)                  1\n",
       "Пасс (1), Груз (4)        1\n",
       "Пасс (5), Груз (3)        1\n",
       "Пасс (2), Груз (4)        1\n",
       "Груз (6)                  1\n",
       "Груз (8)                  1\n",
       "Пасс (5)                  1\n",
       "Name: count, dtype: int64"
      ]
     },
     "execution_count": 30,
     "metadata": {},
     "output_type": "execute_result"
    }
   ],
   "source": [
    "df['Лифт'].value_counts() # вырезать Пасс Груз"
   ]
  },
  {
   "cell_type": "markdown",
   "metadata": {},
   "source": [
    "11. Проверяем столбец Можно с детьми/животными"
   ]
  },
  {
   "cell_type": "code",
   "execution_count": 31,
   "metadata": {},
   "outputs": [
    {
     "data": {
      "text/plain": [
       "Можно с детьми/животными         \n",
       "Можно с детьми                       10134\n",
       "Можно с детьми, Можно с животными     6899\n",
       "Можно с животными                      239\n",
       "Name: count, dtype: int64"
      ]
     },
     "execution_count": 31,
     "metadata": {},
     "output_type": "execute_result"
    }
   ],
   "source": [
    "df[['Можно с детьми/животными']].value_counts()"
   ]
  },
  {
   "cell_type": "code",
   "execution_count": 32,
   "metadata": {},
   "outputs": [],
   "source": [
    "df['Можно с детьми/животными'] = df['Можно с детьми/животными'].fillna('Не указано')"
   ]
  },
  {
   "cell_type": "code",
   "execution_count": 33,
   "metadata": {},
   "outputs": [
    {
     "data": {
      "text/plain": [
       "Можно с детьми/животными         \n",
       "Можно с детьми                       10134\n",
       "Можно с детьми, Можно с животными     6899\n",
       "Не указано                            6096\n",
       "Можно с животными                      239\n",
       "Name: count, dtype: int64"
      ]
     },
     "execution_count": 33,
     "metadata": {},
     "output_type": "execute_result"
    }
   ],
   "source": [
    "df[['Можно с детьми/животными']].value_counts()"
   ]
  },
  {
   "cell_type": "markdown",
   "metadata": {},
   "source": [
    "13. Проверяем столбец Ремонт. В столбце имеюся пропуски, поэтому заменяем их на 'Без ремонта'"
   ]
  },
  {
   "cell_type": "code",
   "execution_count": 34,
   "metadata": {},
   "outputs": [
    {
     "data": {
      "text/plain": [
       "Ремонт\n",
       "Косметический    8499\n",
       "Евроремонт       8470\n",
       "Дизайнерский     3474\n",
       "Без ремонта       170\n",
       "Name: count, dtype: int64"
      ]
     },
     "execution_count": 34,
     "metadata": {},
     "output_type": "execute_result"
    }
   ],
   "source": [
    "df['Ремонт'].value_counts()"
   ]
  },
  {
   "cell_type": "code",
   "execution_count": 35,
   "metadata": {},
   "outputs": [],
   "source": [
    "df['Ремонт'] = df['Ремонт'].fillna('Без ремонта')"
   ]
  },
  {
   "cell_type": "code",
   "execution_count": 36,
   "metadata": {},
   "outputs": [
    {
     "data": {
      "text/plain": [
       "Ремонт\n",
       "Косметический    8499\n",
       "Евроремонт       8470\n",
       "Дизайнерский     3474\n",
       "Без ремонта      2925\n",
       "Name: count, dtype: int64"
      ]
     },
     "execution_count": 36,
     "metadata": {},
     "output_type": "execute_result"
    }
   ],
   "source": [
    "df['Ремонт'].value_counts()"
   ]
  },
  {
   "cell_type": "markdown",
   "metadata": {},
   "source": [
    "15. "
   ]
  },
  {
   "cell_type": "code",
   "execution_count": 37,
   "metadata": {},
   "outputs": [
    {
     "data": {
      "text/plain": [
       "Количество комнат\n",
       "1                   7917\n",
       "2, Изолированная    4623\n",
       "2                   2591\n",
       "3                   1717\n",
       "3, Изолированная    1583\n",
       "3, Оба варианта      875\n",
       "4                    674\n",
       "2, Смежная           637\n",
       "2, Оба варианта      615\n",
       "4, Оба варианта      253\n",
       "5                    235\n",
       "4, Изолированная     223\n",
       "6                     87\n",
       "3, Смежная            87\n",
       "5, Оба варианта       81\n",
       "5, Изолированная      47\n",
       "6, Оба варианта       31\n",
       "6, Изолированная      17\n",
       "4, Смежная            13\n",
       "1, Изолированная       8\n",
       "1, Оба варианта        4\n",
       "5, Смежная             4\n",
       "6, Смежная             3\n",
       "1, Смежная             2\n",
       "Name: count, dtype: int64"
      ]
     },
     "execution_count": 37,
     "metadata": {},
     "output_type": "execute_result"
    }
   ],
   "source": [
    "df['Количество комнат'].value_counts()"
   ]
  },
  {
   "cell_type": "code",
   "execution_count": 38,
   "metadata": {},
   "outputs": [],
   "source": [
    "df['Количество комнат'] = df['Количество комнат'].str.split(',').str[0]"
   ]
  },
  {
   "cell_type": "code",
   "execution_count": 39,
   "metadata": {},
   "outputs": [
    {
     "data": {
      "text/plain": [
       "Количество комнат\n",
       "2    8466\n",
       "1    7931\n",
       "3    4262\n",
       "4    1163\n",
       "5     367\n",
       "6     138\n",
       "Name: count, dtype: int64"
      ]
     },
     "execution_count": 39,
     "metadata": {},
     "output_type": "execute_result"
    }
   ],
   "source": [
    "df['Количество комнат'].value_counts()"
   ]
  },
  {
   "cell_type": "code",
   "execution_count": 40,
   "metadata": {},
   "outputs": [
    {
     "data": {
      "text/plain": [
       "np.int64(1041)"
      ]
     },
     "execution_count": 40,
     "metadata": {},
     "output_type": "execute_result"
    }
   ],
   "source": [
    "df['Количество комнат'].isnull().sum()"
   ]
  },
  {
   "cell_type": "code",
   "execution_count": 78,
   "metadata": {},
   "outputs": [
    {
     "data": {
      "text/plain": [
       "Метро                                         \n",
       "м. Академическая (10 мин пешком)                  41\n",
       "м. Водный стадион (5 мин пешком)                  40\n",
       "м. Приморская (None мин пешком)                   35\n",
       "м. Щелковская (15 мин пешком)                     34\n",
       "м. Динамо (7 мин пешком)                          33\n",
       "                                                  ..\n",
       "м. Автово (0 мин на машине)                        1\n",
       "м. улица Народного ополчения (6 мин на машине)     1\n",
       "м. улица Народного ополчения (8 мин на машине)     1\n",
       "м. Авиамоторная (10 мин на машине)                 1\n",
       "м. Авиамоторная (1 мин пешком)                     1\n",
       "Name: count, Length: 5866, dtype: int64"
      ]
     },
     "execution_count": 78,
     "metadata": {},
     "output_type": "execute_result"
    }
   ],
   "source": [
    "df[['Метро']].value_counts()"
   ]
  },
  {
   "cell_type": "code",
   "execution_count": 42,
   "metadata": {},
   "outputs": [
    {
     "data": {
      "text/plain": [
       "Адрес                             \n",
       "Москва, Чапаевский переулок, 3        63\n",
       "Москва, улица Василисы Кожиной, 13    46\n",
       "Москва, улица 1-я Леонова, 18         42\n",
       "Москва, Мосфильмовская улица, 8       37\n",
       "Москва, Гостиничный проезд, 8К1       32\n",
       "                                      ..\n",
       "Москва, Планерная улица, 12К6          1\n",
       "Москва, Планерная улица, 14К5          1\n",
       "Москва, Планерная улица, 16К1          1\n",
       "Москва, Планерная улица, 16К3          1\n",
       "Москва, Пинский проезд, 4              1\n",
       "Name: count, Length: 12850, dtype: int64"
      ]
     },
     "execution_count": 42,
     "metadata": {},
     "output_type": "execute_result"
    }
   ],
   "source": [
    "df[['Адрес']].value_counts() "
   ]
  },
  {
   "cell_type": "code",
   "execution_count": 43,
   "metadata": {},
   "outputs": [
    {
     "data": {
      "text/plain": [
       "Адрес    0\n",
       "dtype: int64"
      ]
     },
     "execution_count": 43,
     "metadata": {},
     "output_type": "execute_result"
    }
   ],
   "source": [
    "df[['Адрес']].isnull().sum()"
   ]
  },
  {
   "cell_type": "code",
   "execution_count": 44,
   "metadata": {},
   "outputs": [
    {
     "data": {
      "text/plain": [
       "Окна           \n",
       "Во двор            10870\n",
       "На улицу и двор     3295\n",
       "На улицу            2590\n",
       "Name: count, dtype: int64"
      ]
     },
     "execution_count": 44,
     "metadata": {},
     "output_type": "execute_result"
    }
   ],
   "source": [
    "df[['Окна']].value_counts()"
   ]
  },
  {
   "cell_type": "code",
   "execution_count": 45,
   "metadata": {},
   "outputs": [
    {
     "data": {
      "text/plain": [
       "Окна    6613\n",
       "dtype: int64"
      ]
     },
     "execution_count": 45,
     "metadata": {},
     "output_type": "execute_result"
    }
   ],
   "source": [
    "df[['Окна']].isnull().sum()"
   ]
  },
  {
   "cell_type": "code",
   "execution_count": 54,
   "metadata": {},
   "outputs": [],
   "source": [
    "df['Окна'] = df['Окна'].fillna('Во двор')"
   ]
  },
  {
   "cell_type": "code",
   "execution_count": 73,
   "metadata": {},
   "outputs": [
    {
     "data": {
      "text/plain": [
       "Окна    0\n",
       "dtype: int64"
      ]
     },
     "execution_count": 73,
     "metadata": {},
     "output_type": "execute_result"
    }
   ],
   "source": [
    "df[['Окна']].isnull().sum()"
   ]
  },
  {
   "cell_type": "code",
   "execution_count": 72,
   "metadata": {},
   "outputs": [
    {
     "data": {
      "text/plain": [
       "Санузел                        \n",
       "Совмещенный (1)                    12750\n",
       "Раздельный (1)                      7158\n",
       "Совмещенный (2)                     1437\n",
       "Совмещенный (1), Раздельный (1)      812\n",
       "Раздельный (2)                       534\n",
       "Совмещенный (3)                      241\n",
       "Совмещенный (2), Раздельный (1)      188\n",
       "Совмещенный (4)                       77\n",
       "Раздельный (3)                        52\n",
       "Совмещенный (1), Раздельный (2)       30\n",
       "Совмещенный (3), Раздельный (1)       27\n",
       "Совмещенный (2), Раздельный (2)       25\n",
       "Раздельный (4)                        15\n",
       "Совмещенный (3), Раздельный (3)        6\n",
       "Совмещенный (4), Раздельный (1)        6\n",
       "Совмещенный (4), Раздельный (2)        4\n",
       "Совмещенный (2), Раздельный (3)        2\n",
       "Совмещенный (1), Раздельный (3)        2\n",
       "Совмещенный (3), Раздельный (2)        1\n",
       "Совмещенный (2), Раздельный (4)        1\n",
       "Name: count, dtype: int64"
      ]
     },
     "execution_count": 72,
     "metadata": {},
     "output_type": "execute_result"
    }
   ],
   "source": [
    "df[['Санузел']].value_counts()"
   ]
  },
  {
   "cell_type": "code",
   "execution_count": 70,
   "metadata": {},
   "outputs": [],
   "source": [
    "df['Санузел'] = df['Санузел'].fillna('Совмещенный (1)')"
   ]
  },
  {
   "cell_type": "code",
   "execution_count": 71,
   "metadata": {},
   "outputs": [
    {
     "data": {
      "text/plain": [
       "Санузел    0\n",
       "dtype: int64"
      ]
     },
     "execution_count": 71,
     "metadata": {},
     "output_type": "execute_result"
    }
   ],
   "source": [
    "df[['Санузел']].isnull().sum()"
   ]
  },
  {
   "cell_type": "code",
   "execution_count": 49,
   "metadata": {},
   "outputs": [],
   "source": [
    "# del 'Телефоны' 'Описание' 'Площадь комнат, м2' 'Дополнительно' \n",
    "# task 'Ремонт' [0 - Без ремонта, 1 - Косметический, 2 - Евроремонт, 3 - Дизайнерский] \n",
    "# 'Санузел' [Совмещенный - 0, Раздельный - 1, Совмещенный, Раздельный - 2]\n",
    "# 'Можно с детьми/животными' [не указано - 0, Можно с детьми/Можно с животными - 1,  Можно с детьми и Можно с животными - 2]\n",
    "\n",
    "\n",
    "# \"Окна' Во двор - 0 На улицу - 1 На улицу и двор - 2\n",
    "\n",
    "# исходя из названия и адреса находим метро"
   ]
  },
  {
   "cell_type": "code",
   "execution_count": 50,
   "metadata": {},
   "outputs": [
    {
     "data": {
      "text/plain": [
       "Балкон\n",
       "Балкон (1)                7428\n",
       "Лоджия (1)                6007\n",
       "Балкон (1), Лоджия (1)     716\n",
       "Лоджия (2)                 568\n",
       "Балкон (2)                 474\n",
       "Балкон (3)                  55\n",
       "Лоджия (3)                  45\n",
       "Балкон (2), Лоджия (2)      25\n",
       "Балкон (1), Лоджия (2)      24\n",
       "Балкон (2), Лоджия (1)      20\n",
       "Балкон (4)                   6\n",
       "Балкон (1), Лоджия (3)       5\n",
       "Балкон (3), Лоджия (1)       5\n",
       "Лоджия (4)                   5\n",
       "Балкон (2), Лоджия (3)       3\n",
       "Балкон (1), Лоджия (4)       2\n",
       "Балкон (3), Лоджия (3)       1\n",
       "Балкон (4), Лоджия (4)       1\n",
       "Name: count, dtype: int64"
      ]
     },
     "execution_count": 50,
     "metadata": {},
     "output_type": "execute_result"
    }
   ],
   "source": [
    "df['Балкон'].value_counts()"
   ]
  },
  {
   "cell_type": "code",
   "execution_count": 66,
   "metadata": {},
   "outputs": [],
   "source": [
    "df['Балкон'] = df['Балкон'].fillna('Балкон (0), Лоджия (0) ')"
   ]
  },
  {
   "cell_type": "code",
   "execution_count": 51,
   "metadata": {},
   "outputs": [
    {
     "data": {
      "text/plain": [
       "Лифт\n",
       "Пасс (1)               5911\n",
       "Пасс (2)               4326\n",
       "Пасс (1), Груз (1)     3962\n",
       "Пасс (2), Груз (1)     1224\n",
       "Пасс (2), Груз (2)      654\n",
       "Пасс (3)                636\n",
       "Пасс (4)                346\n",
       "Пасс (3), Груз (1)      187\n",
       "Пасс (1), Груз (2)      185\n",
       "Груз (1)                 95\n",
       "Пасс (4), Груз (2)       65\n",
       "Пасс (4), Груз (1)       64\n",
       "Пасс (3), Груз (3)       45\n",
       "Пасс (3), Груз (2)       44\n",
       "Пасс (4), Груз (4)       28\n",
       "Груз (4)                 25\n",
       "Груз (2)                 20\n",
       "Груз (3)                 15\n",
       "Пасс (4), Груз (3)        7\n",
       "Пасс (1), Груз (3)        6\n",
       "Пасс (6)                  6\n",
       "Пасс (2), Груз (3)        3\n",
       "Пасс (60)                 2\n",
       "Пасс (50)                 2\n",
       "Пасс (1), Груз (12)       1\n",
       "Пасс (5), Груз (1)        1\n",
       "Пасс (8), Груз (8)        1\n",
       "Пасс (7)                  1\n",
       "Пасс (1), Груз (4)        1\n",
       "Пасс (5), Груз (3)        1\n",
       "Пасс (2), Груз (4)        1\n",
       "Груз (6)                  1\n",
       "Груз (8)                  1\n",
       "Пасс (5)                  1\n",
       "Name: count, dtype: int64"
      ]
     },
     "execution_count": 51,
     "metadata": {},
     "output_type": "execute_result"
    }
   ],
   "source": [
    "df['Лифт'].value_counts()"
   ]
  },
  {
   "cell_type": "code",
   "execution_count": 75,
   "metadata": {},
   "outputs": [],
   "source": [
    "df['Лифт'] = df['Лифт'].fillna('Пасс (1)')"
   ]
  },
  {
   "cell_type": "code",
   "execution_count": 58,
   "metadata": {},
   "outputs": [
    {
     "data": {
      "text/plain": [
       "Количество комнат\n",
       "2    8466\n",
       "1    7931\n",
       "3    4262\n",
       "4    1163\n",
       "5     367\n",
       "6     138\n",
       "Name: count, dtype: int64"
      ]
     },
     "execution_count": 58,
     "metadata": {},
     "output_type": "execute_result"
    }
   ],
   "source": [
    "df['Количество комнат'].value_counts()"
   ]
  },
  {
   "cell_type": "code",
   "execution_count": 59,
   "metadata": {},
   "outputs": [],
   "source": [
    "df['Количество комнат'] = df['Количество комнат'].fillna(0)"
   ]
  },
  {
   "cell_type": "code",
   "execution_count": 63,
   "metadata": {},
   "outputs": [],
   "source": [
    "df['Количество комнат'] = df['Количество комнат'].astype(int)"
   ]
  },
  {
   "cell_type": "code",
   "execution_count": 76,
   "metadata": {},
   "outputs": [
    {
     "data": {
      "text/plain": [
       "ID  объявления                  0\n",
       "Количество комнат               0\n",
       "Метро                        1315\n",
       "Адрес                           0\n",
       "Площадь, м2                     0\n",
       "Дом                             0\n",
       "Парковка                        0\n",
       "Цена                            0\n",
       "Ремонт                          0\n",
       "Балкон                          0\n",
       "Окна                            0\n",
       "Санузел                         0\n",
       "Можно с детьми/животными        0\n",
       "Высота потолков, м          12162\n",
       "Лифт                            0\n",
       "Мусоропровод                    0\n",
       "dtype: int64"
      ]
     },
     "execution_count": 76,
     "metadata": {},
     "output_type": "execute_result"
    }
   ],
   "source": [
    "df.isnull().sum()"
   ]
  },
  {
   "cell_type": "code",
   "execution_count": 77,
   "metadata": {},
   "outputs": [
    {
     "data": {
      "text/plain": [
       "ID  объявления                int64\n",
       "Количество комнат             int64\n",
       "Метро                        object\n",
       "Адрес                        object\n",
       "Площадь, м2                   int64\n",
       "Дом                          object\n",
       "Парковка                     object\n",
       "Цена                         object\n",
       "Ремонт                       object\n",
       "Балкон                       object\n",
       "Окна                         object\n",
       "Санузел                      object\n",
       "Можно с детьми/животными     object\n",
       "Высота потолков, м          float64\n",
       "Лифт                         object\n",
       "Мусоропровод                 object\n",
       "dtype: object"
      ]
     },
     "execution_count": 77,
     "metadata": {},
     "output_type": "execute_result"
    }
   ],
   "source": [
    "df.dtypes"
   ]
  }
 ],
 "metadata": {
  "kernelspec": {
   "display_name": "base",
   "language": "python",
   "name": "python3"
  },
  "language_info": {
   "codemirror_mode": {
    "name": "ipython",
    "version": 3
   },
   "file_extension": ".py",
   "mimetype": "text/x-python",
   "name": "python",
   "nbconvert_exporter": "python",
   "pygments_lexer": "ipython3",
   "version": "3.12.8"
  }
 },
 "nbformat": 4,
 "nbformat_minor": 2
}
